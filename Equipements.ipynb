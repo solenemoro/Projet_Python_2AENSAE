{
 "cells": [
  {
   "cell_type": "markdown",
   "id": "621e13a5-03bc-4255-b4f4-e87302d277e3",
   "metadata": {},
   "source": [
    "# Étude du lien entre les notes attribuées et la présence d'équipements"
   ]
  },
  {
   "cell_type": "markdown",
   "id": "cc9d30c0-6e55-4222-a263-eac524872a02",
   "metadata": {},
   "source": [
    "## I- Import des données"
   ]
  },
  {
   "cell_type": "code",
   "execution_count": null,
   "id": "96707707-bdf2-47bd-85d5-e23660d21ec0",
   "metadata": {},
   "outputs": [],
   "source": [
    "!pip install openpyxl\n",
    "!pip install git+https://github.com/inseefrlab/cartiflette@80b8a5a28371feb6df31d55bcc2617948a5f9b1a\n",
    "import pandas as pd\n",
    "import requests\n",
    "import io\n",
    "import zipfile\n",
    "import sklearn\n",
    "from sklearn.linear_model import LinearRegression\n",
    "import numpy as np\n",
    "import matplotlib.pyplot as plt\n",
    "import os\n",
    "import cartiflette.s3 as s3"
   ]
  },
  {
   "cell_type": "markdown",
   "id": "d5010d3c-4145-4049-a3bb-7376b6020878",
   "metadata": {},
   "source": [
    "Nous commençons par télécharger les données relatives à divers équipements dans l'ensemble de la France, données issues de la base permanente des équipements (BPE) fournie par l'Insee."
   ]
  },
  {
   "cell_type": "code",
   "execution_count": 2,
   "id": "461f2db2-ecb2-48d8-b4dc-3b8f0a42a2db",
   "metadata": {},
   "outputs": [],
   "source": [
    "# Reading the Zipfile with information about equipments in 2021\n",
    "url = 'https://www.insee.fr/fr/statistiques/fichier/3568638/bpe21_ensemble_xy_csv.zip'\n",
    "r = requests.get(url)\n",
    "z = zipfile.ZipFile(io.BytesIO(r.content))\n",
    "z.extractall()\n",
    "\n",
    "# Two csv files are obtained"
   ]
  },
  {
   "cell_type": "code",
   "execution_count": 3,
   "id": "48a44acd-9a65-44c3-b772-a20598ec8f75",
   "metadata": {},
   "outputs": [],
   "source": [
    "# Reading the file with information about equipments\n",
    "dicType = {'BV2012': str, 'DCIRIS': str, 'DEP': str, 'DEPCOM': str, 'DOM': str, 'EPCI': str, 'SDOM': str}\n",
    "BPE = pd.read_csv('bpe21_ensemble_xy.csv', sep=\";\", dtype = dicType)"
   ]
  },
  {
   "cell_type": "markdown",
   "id": "2f748ade-fd8e-4f9c-bfe5-18f9dbf623ca",
   "metadata": {},
   "source": [
    "Il est maintenant nécessaire de conserver uniquement les données concernant Paris pour le fichier qui nous intéresse, de manière à obtenir un fichier csv de taille plus raisonnable."
   ]
  },
  {
   "cell_type": "code",
   "execution_count": 4,
   "id": "fc7855db-d474-4c9d-95f6-25fd142fd18c",
   "metadata": {},
   "outputs": [],
   "source": [
    "# Reducing the file to keep only Paris\n",
    "with open('data/bpeParis.csv','w') as f:\n",
    "    f = BPE.loc[BPE['DEP'] == '75']\n",
    "    f.to_csv(path_or_buf = 'data/bpeParis.csv', index = False)"
   ]
  },
  {
   "cell_type": "code",
   "execution_count": 5,
   "id": "713bc751-1867-4f71-9247-3d1cc1a385b5",
   "metadata": {},
   "outputs": [],
   "source": [
    "# We need to delete csv files that are too big to push\n",
    "# i.e. bpe21_ensemble_xy.csv and Varmod_bpe21_ensemble_xy.csv\n",
    "os.remove('bpe21_ensemble_xy.csv')\n",
    "os.remove('Varmod_bpe21_ensemble_xy.csv')"
   ]
  },
  {
   "cell_type": "markdown",
   "id": "291e3167-77e9-4d81-ae15-4144c1599561",
   "metadata": {},
   "source": [
    "## II- Traitement préliminaire pour associer les IRIS et les arrondissements"
   ]
  },
  {
   "cell_type": "markdown",
   "id": "a7f51320-7cd1-46a8-ab29-48dc3486fefe",
   "metadata": {},
   "source": [
    "La base des équipements utilise le découpage territorial en IRIS, alors que les notes concernent les arrondissements. Pour obtenir des résultats sur les arrondissements, il convient donc d'associer chaque arrondissement aux IRIS qui le composent."
   ]
  },
  {
   "cell_type": "code",
   "execution_count": 6,
   "id": "e9f93dbc-8ad4-42b5-8325-c0e2c4cfe32e",
   "metadata": {},
   "outputs": [],
   "source": [
    "# Getting the file containing matchings between arrondissements and IRIS\n",
    "url_1 = 'https://www.insee.fr/fr/statistiques/fichier/2017499/reference_IRIS_geo2023.zip'\n",
    "r1 = requests.get(url_1)\n",
    "z1 = zipfile.ZipFile(io.BytesIO(r1.content))\n",
    "z1.extractall(path = 'data/')\n",
    "Ref_IRIS = pd.read_excel('data/reference_IRIS_geo2023.xlsx')"
   ]
  },
  {
   "cell_type": "code",
   "execution_count": 7,
   "id": "f82277d8-5049-4edc-afb0-b5b4021ccd82",
   "metadata": {},
   "outputs": [],
   "source": [
    "# Changing the names of the columns\n",
    "# It is only further in the excel file that we find the right column names\n",
    "wrong_names = pd.Series.tolist(Ref_IRIS.columns)\n",
    "col_names = pd.Series.tolist(Ref_IRIS.iloc[4])\n",
    "dictionary_names = dict(zip(wrong_names, col_names))\n",
    "Ref_IRIS = Ref_IRIS.rename(columns = dictionary_names)\n",
    "\n",
    "# We obtain the right names of columns"
   ]
  },
  {
   "cell_type": "code",
   "execution_count": 8,
   "id": "78db2015-aa99-4757-ae35-c20c481b612d",
   "metadata": {},
   "outputs": [],
   "source": [
    "# Obtaining a list with IRIS in the 1st arrondissement of Paris\n",
    "Arr1 = Ref_IRIS[Ref_IRIS['LIBCOM'] == 'Paris 1er Arrondissement']\n",
    "liste1 = pd.Series.tolist(Arr1['CODE_IRIS'])"
   ]
  },
  {
   "cell_type": "code",
   "execution_count": 9,
   "id": "9c216306-97d3-4810-8d8d-6c326c01aa19",
   "metadata": {},
   "outputs": [],
   "source": [
    "#The same with all the other arrondissements\n",
    "dicIRIS = {'Paris 1er Arrondissement': liste1}\n",
    "for i in range(2,21):\n",
    "    j = str(i)\n",
    "    key_arr = 'Paris ' + j + 'e Arrondissement'\n",
    "    Arr = Ref_IRIS[Ref_IRIS['LIBCOM'] == key_arr]\n",
    "    val_arr = pd.Series.tolist(Arr['CODE_IRIS'])\n",
    "    dicIRIS[key_arr] = val_arr\n",
    "\n",
    "# We obtain a dictionary with the name of the arrondissement as a key \n",
    "# and a list with the numbers of IRIS corresponding as a value"
   ]
  },
  {
   "cell_type": "markdown",
   "id": "ff1d15f3-becc-41c8-990c-83c9a6220252",
   "metadata": {},
   "source": [
    "Nous obtenons finalement un dictionnaire qui nous permet d'établir une correspondance entre les IRIS et les arrondissements."
   ]
  },
  {
   "cell_type": "markdown",
   "id": "78a9bf0d-9527-4759-8fa7-c48f1c8dba66",
   "metadata": {},
   "source": [
    "## III- Étude des commerces"
   ]
  },
  {
   "cell_type": "markdown",
   "id": "6a465a54-7768-49ee-ba27-4adb6f92ba17",
   "metadata": {},
   "source": [
    "Nous nous intéressons ici à la catégorie B dans le fichier bpeParis.csv. Ce qui est réalisé pour les commerces peut aussi nous être utile pour les autres domaines d'appartenance des équipements."
   ]
  },
  {
   "cell_type": "markdown",
   "id": "6db5a36e-c392-40b4-bef0-681977bed4b6",
   "metadata": {},
   "source": [
    "### A- Préambule"
   ]
  },
  {
   "cell_type": "markdown",
   "id": "653e6c69-c857-4804-a9e4-fe49618dab47",
   "metadata": {},
   "source": [
    "Tout d'abord, il est nécessaire d'obtenir le nombre de commerces par arrondissement, en affinant selon le type de commerce."
   ]
  },
  {
   "cell_type": "code",
   "execution_count": 6,
   "id": "e06994f6-c716-4758-8e56-eb3805f2f63a",
   "metadata": {},
   "outputs": [],
   "source": [
    "dicType = {'BV2012': str, 'DCIRIS': str, 'DEP': str, 'DEPCOM': str, 'DOM': str, 'EPCI': str, 'SDOM': str}\n",
    "BPE = pd.read_csv('data/bpeParis.csv', sep=\",\", dtype = dicType)"
   ]
  },
  {
   "cell_type": "markdown",
   "id": "1a89e4c3-f2f1-459a-9bce-4478eb95a484",
   "metadata": {},
   "source": [
    "Nous prenons en considération les sous-domaines d'appartenance. Pour cela, nous créons une fonction qui associe à un sous-domaine d'appartenance un dictionnaire qui a pour clé le nom de chaque arrondissement."
   ]
  },
  {
   "cell_type": "code",
   "execution_count": null,
   "id": "8082ad4f-e7e3-4b2a-b637-93c44638bd7d",
   "metadata": {},
   "outputs": [],
   "source": [
    "def Nb_SDOM(S_DOM):\n",
    "    \"\"\"This function creates a dictionary\n",
    "    with the name of the arrondissement as a key\n",
    "    and the number of \"S_DOM\" as a value\n",
    "    ---\n",
    "    S_DOM: name of a SDOM, i.e. with a letter and only one number\n",
    "    \"\"\"\n",
    "    # Concerning the 1st arrondissement of Paris\n",
    "    n1 = 0 # Number initialized\n",
    "    for iris in dicIRIS['Paris 1er Arrondissement']:\n",
    "        col = BPE[(BPE['DCIRIS'] == iris) & (BPE['SDOM'] == S_DOM)]\n",
    "        n1 += len(col) # number of lines\n",
    "    # Concerning the rest of the arrondissements\n",
    "    dic = {'1er arrondissement': n1}\n",
    "    n = 0\n",
    "    for i in range(2,21):\n",
    "        key_arr = 'Paris ' + str(i) + 'e Arrondissement'\n",
    "        for iris in dicIRIS[key_arr]:\n",
    "            col = BPE[(BPE['DCIRIS'] == iris) & (BPE['SDOM'] == S_DOM)]\n",
    "            n += len(col)\n",
    "        dic[str(i) + 'e arrondissement'] = n\n",
    "        n = 0\n",
    "    return dic"
   ]
  },
  {
   "cell_type": "code",
   "execution_count": null,
   "id": "4f8463c7-6f88-42dd-aa37-eb9d2bf4c5f4",
   "metadata": {},
   "outputs": [],
   "source": [
    "dic_B1 = Nb_SDOM(\"B1\")\n",
    "print(dic_B1)"
   ]
  },
  {
   "cell_type": "code",
   "execution_count": null,
   "id": "87c8671c-ea82-4b26-861a-9c95ad19ca1f",
   "metadata": {},
   "outputs": [],
   "source": [
    "dic_B1"
   ]
  },
  {
   "cell_type": "code",
   "execution_count": null,
   "id": "19c23d1d-f979-4cf1-aa1c-025abbce620c",
   "metadata": {},
   "outputs": [],
   "source": [
    "# Number of \"Grandes surfaces\" (B1) by arrondissement\n",
    "\n",
    "# Concerning the 1st arrondissement of Paris\n",
    "n1 = 0 # Number initialized\n",
    "for iris in dicIRIS['Paris 1er Arrondissement']:\n",
    "    col = BPE[(BPE['DCIRIS'] == iris) & (BPE['SDOM'] == 'B1')]\n",
    "    n1 += len(col) # number of lines\n",
    "\n",
    "# Concerning the rest of the arrondissements\n",
    "dicB1 = {'1er Arrondissement': n1}\n",
    "n = 0\n",
    "for i in range(2,21):\n",
    "    key_arr = 'Paris ' + str(i) + 'e Arrondissement'\n",
    "    for iris in dicIRIS[key_arr]:\n",
    "        col = BPE[(BPE['DCIRIS'] == iris) & (BPE['SDOM'] == 'B1')]\n",
    "        n += len(col)\n",
    "    dicB1[str(i) + 'e Arrondissement'] = n\n",
    "    n = 0\n",
    "\n",
    "dicB1\n",
    "# We obtain a dictionary with the name of the arrondissement as a key \n",
    "# and the number of \"Grandes surfaces\" as a value"
   ]
  },
  {
   "cell_type": "code",
   "execution_count": 7,
   "id": "3556f7ee-dbe2-40e3-a010-4e71400f1a58",
   "metadata": {},
   "outputs": [],
   "source": [
    "# Number of \"commerces alimentaires\" (B2) by arrondissement\n",
    "\n",
    "# Concerning the 1st arrondissement of Paris\n",
    "n1 = 0 # Number initialized\n",
    "for iris in dicIRIS['Paris 1er Arrondissement']:\n",
    "    col = BPE[(BPE['DCIRIS'] == iris) & (BPE['SDOM'] == 'B2')]\n",
    "    n1 += len(col) # number of lines\n",
    "\n",
    "# Concerning the rest of the arrondissements\n",
    "dicB2 = {'1er Arrondissement': n1}\n",
    "n = 0\n",
    "for i in range(2,21):\n",
    "    key_arr = 'Paris ' + str(i) + 'e Arrondissement'\n",
    "    for iris in dicIRIS[key_arr]:\n",
    "        col = BPE[(BPE['DCIRIS'] == iris) & (BPE['SDOM'] == 'B2')]\n",
    "        n += len(col)\n",
    "    dicB2[str(i) + 'e Arrondissement'] = n\n",
    "    n = 0\n",
    "\n",
    "# We obtain a dictionary with the name of the arrondissement as a key \n",
    "# and the number of \"commerces alimentaires\" as a value"
   ]
  },
  {
   "cell_type": "markdown",
   "id": "d032de42-e018-4d03-8e62-70faa96ea2cf",
   "metadata": {},
   "source": [
    "Nous créons maintenant un fichier csv pour isoler plus précisément les équipements selon leur type, et non plus seulement leur domaine ou leur sous-domaine."
   ]
  },
  {
   "cell_type": "code",
   "execution_count": 8,
   "id": "fee68290-8df7-4fc1-944d-11b5ee386bb2",
   "metadata": {},
   "outputs": [],
   "source": [
    "# More precisely, we want to have the number of each type of equipments \n",
    "# whose field is B, i.e. \"commerces\", for each arrondissement\n",
    "# To obtain this, we will create a csv file\n",
    "\n",
    "# Concerning the 1st arrondissement of Paris\n",
    "n1 = 0 # Number initialized\n",
    "listType = ['B101', 'B102', 'B103', 'B201', 'B202', 'B203', 'B204', 'B205', 'B206', 'B301', 'B302', 'B303', 'B304', 'B305', 'B306', 'B307', 'B308', 'B309', 'B310', 'B311', 'B312', 'B313', 'B315', 'B316']\n",
    "list1 = []\n",
    "for type in listType:\n",
    "    for iris in dicIRIS['Paris 1er Arrondissement']:\n",
    "        col = BPE[(BPE['DCIRIS'] == iris) & (BPE['TYPEQU'] == type)]\n",
    "        n1 += len(col) # number of lines\n",
    "    list1.append(n1)\n",
    "    n1 = 0\n",
    "\n",
    "# Concerning the rest of the arrondissements\n",
    "dicB = {'1er arrondissement': list1}\n",
    "n = 0\n",
    "for arr in range(2,21):\n",
    "    key_arr = 'Paris ' + str(arr) + 'e Arrondissement'\n",
    "    listB_Type = []\n",
    "    for type in listType:\n",
    "        for iris in dicIRIS[key_arr]:\n",
    "            col = BPE[(BPE['DCIRIS'] == iris) & (BPE['TYPEQU'] == type)]\n",
    "            n += len(col)\n",
    "        listB_Type.append(n)\n",
    "        n = 0\n",
    "    dicB[str(arr) + 'e arrondissement'] = listB_Type\n",
    "\n",
    "Commerces_precis = pd.DataFrame(dicB)\n",
    "Commerces_precis.set_axis(listType, axis = 0)\n",
    "Commerces_precis.to_csv(path_or_buf = 'data/Commerces.csv', index = False)\n",
    "\n",
    "# Each row is one type of equipment, each column is an arrondissement"
   ]
  },
  {
   "cell_type": "markdown",
   "id": "2aa9b766-3fd0-4567-ad58-f4c5a6dc1213",
   "metadata": {},
   "source": [
    "Prenons quelques exemples simples et descriptifs pour appréhender les données ainsi récupérées."
   ]
  },
  {
   "cell_type": "code",
   "execution_count": 21,
   "id": "c9843207-5847-4ed0-bee4-32c2db389615",
   "metadata": {},
   "outputs": [
    {
     "name": "stdout",
     "output_type": "stream",
     "text": [
      "Il y a 47 boulangeries dans le 4e arrondissement.\n"
     ]
    }
   ],
   "source": [
    "Commerces = pd.read_csv('data/Commerces.csv')\n",
    "# Let's focus on bakeries (B203) in the 4th arrondissement\n",
    "arr = '4e arrondissement'\n",
    "k = listType.index('B203') # Selecting the correct row\n",
    "n = Commerces.loc[k, arr] # Selecting the number of bakeries in the 4th arrondissement\n",
    "print(\"Il y a \" + str(n) + \" boulangeries dans le \" + arr + \".\")"
   ]
  },
  {
   "cell_type": "code",
   "execution_count": 22,
   "id": "1821ba88-6a37-4ba2-ab2c-b9c339259e3e",
   "metadata": {},
   "outputs": [
    {
     "name": "stdout",
     "output_type": "stream",
     "text": [
      "Il y a en moyenne 29.6 supermarchés dans un arrondissement parisien.\n"
     ]
    }
   ],
   "source": [
    "# Let's see the mean of supermarkets (B102)\n",
    "k = listType.index('B102')\n",
    "n = Commerces.iloc[k].mean()\n",
    "print(\"Il y a en moyenne \" + str(n) + \" supermarchés dans un arrondissement parisien.\") "
   ]
  },
  {
   "cell_type": "markdown",
   "id": "699d4bce-bf36-42a0-845a-47465899eae3",
   "metadata": {},
   "source": [
    "### B- Régressions"
   ]
  },
  {
   "cell_type": "markdown",
   "id": "e5ecfec2-158e-44f8-a9fc-83256aa6d739",
   "metadata": {},
   "source": [
    "Nous introduisons la variable sur laquelle les autres variables extraites précédemment vont être régressées, à savoir la note moyenne donnée par les habitants."
   ]
  },
  {
   "cell_type": "code",
   "execution_count": 11,
   "id": "d8868f8e-e963-4be7-a5c5-44bc2d4b606f",
   "metadata": {},
   "outputs": [],
   "source": [
    "# Reading the excel file containing the grades obtained by each arrondissement in varied fields\n",
    "# We only focus on the category 'Commerces'\n",
    "Notes_arr = pd.read_excel('Notes_arrondissements.xlsx', decimal = \",\")\n",
    "notes = pd.Series(Notes_arr['Commerces'])\n",
    "notes = pd.Series.tolist(notes)\n",
    "\n",
    "Commerces = pd.read_csv('data/Commerces.csv')"
   ]
  },
  {
   "cell_type": "markdown",
   "id": "a9295752-b68c-4ba9-b8d0-df9bdf810b81",
   "metadata": {},
   "source": [
    "#### 1) Régression en prenant comme variable le nombre de commerces"
   ]
  },
  {
   "cell_type": "markdown",
   "id": "8f3c2a72-c058-40e6-88a3-2e007e271e7c",
   "metadata": {},
   "source": [
    "Concentrons-nous sur les commerces alimentaires."
   ]
  },
  {
   "cell_type": "code",
   "execution_count": 18,
   "id": "f8fa6081-2227-4d7a-9d86-6374f6392042",
   "metadata": {},
   "outputs": [
    {
     "data": {
      "image/png": "[encoded data removed]",
      "text/plain": [
       "<Figure size 640x480 with 1 Axes>"
      ]
     },
     "metadata": {},
     "output_type": "display_data"
    }
   ],
   "source": [
    "# Trying to make a regression with only B2\n",
    "listB2 = pd.DataFrame(dicB2.values())\n",
    "reg = LinearRegression().fit(listB2, notes)\n",
    "y_pred = reg.predict(listB2)\n",
    "\n",
    "plt.scatter(listB2, notes, color=\"black\")\n",
    "plt.plot(listB2, y_pred, color=\"blue\", linewidth=3)\n",
    "plt.xlabel('Nombre de commerces alimentaires')\n",
    "plt.ylabel('Note donnée par les habitants')\n",
    "plt.title('Une régression avec B2')\n",
    "plt.show()\n",
    "\n",
    "# Not very satisfactory since y_pred is surprisingly decreasing"
   ]
  },
  {
   "cell_type": "markdown",
   "id": "49fb2cb7-f5f0-4df1-872d-917c9f901f22",
   "metadata": {},
   "source": [
    "Le résultat n'est pas très satisfaisant : on obtient une corrélation négative entre le nombre de commerces alimentaires et la note donnée par les habitants."
   ]
  },
  {
   "cell_type": "markdown",
   "id": "e846eee8-2d50-4728-b445-3041edd62c0c",
   "metadata": {},
   "source": [
    "Coupons l'échantillon en deux pour éviter le surapprentissage."
   ]
  },
  {
   "cell_type": "code",
   "execution_count": 19,
   "id": "3360076f-3ce6-4dec-94e3-ec1c7e537168",
   "metadata": {},
   "outputs": [],
   "source": [
    "# The same but by splitting the dataframe\n",
    "# Split the data into training/testing sets\n",
    "X_trainB2, X_testB2, y_trainB2, y_testB2 = sklearn.model_selection.train_test_split(listB2, notes, test_size = 0.5)"
   ]
  },
  {
   "cell_type": "code",
   "execution_count": 20,
   "id": "b003dd5c-a972-45f9-acdd-89bdc091d142",
   "metadata": {},
   "outputs": [],
   "source": [
    "# Making a regression using the arrondissements in train\n",
    "regB2 = LinearRegression().fit(X_trainB2, y_trainB2)\n",
    "\n",
    "# Make predictions using the testing set\n",
    "y_predB2 = regB2.predict(X_testB2)"
   ]
  },
  {
   "cell_type": "code",
   "execution_count": 21,
   "id": "62aec990-ac3d-415c-b0ed-a17e82dee49c",
   "metadata": {},
   "outputs": [
    {
     "data": {
      "text/plain": [
       "array([-0.00318491])"
      ]
     },
     "execution_count": 21,
     "metadata": {},
     "output_type": "execute_result"
    }
   ],
   "source": [
    "# The coefficients\n",
    "regB2.coef_"
   ]
  },
  {
   "cell_type": "markdown",
   "id": "335357dc-d649-4016-9da4-7515d0fa111c",
   "metadata": {},
   "source": [
    "Là encore, la corrélation est négative."
   ]
  },
  {
   "cell_type": "code",
   "execution_count": 22,
   "id": "653490c8-4566-4b1a-9440-eb32a5a825a8",
   "metadata": {},
   "outputs": [
    {
     "data": {
      "text/plain": [
       "{'copy_X': True, 'fit_intercept': True, 'n_jobs': None, 'positive': False}"
      ]
     },
     "execution_count": 22,
     "metadata": {},
     "output_type": "execute_result"
    }
   ],
   "source": [
    "regB2.get_params()"
   ]
  },
  {
   "cell_type": "code",
   "execution_count": 23,
   "id": "a6fd9ae8-c620-4303-82c9-ded81fb44849",
   "metadata": {},
   "outputs": [
    {
     "data": {
      "text/plain": [
       "-0.18420644387740848"
      ]
     },
     "execution_count": 23,
     "metadata": {},
     "output_type": "execute_result"
    }
   ],
   "source": [
    "regB2.score(X_testB2, y_testB2)"
   ]
  },
  {
   "cell_type": "markdown",
   "id": "b66da308-14b0-40e7-8bb4-c7befd0588b3",
   "metadata": {},
   "source": [
    "Le R2 est très faible (inférieur à 0.05, voire négatif), ce qui semble indiquer que notre régression n'est pas très adaptée."
   ]
  },
  {
   "cell_type": "code",
   "execution_count": 24,
   "id": "4bf22385-270e-4d88-a938-be19d2617010",
   "metadata": {},
   "outputs": [
    {
     "data": {
      "image/png": "[encoded data removed]",
      "text/plain": [
       "<Figure size 640x480 with 1 Axes>"
      ]
     },
     "metadata": {},
     "output_type": "display_data"
    }
   ],
   "source": [
    "plt.scatter(listB2, notes, color=\"black\")\n",
    "plt.plot(X_trainB2, y_predB2, color=\"blue\", linewidth=3)\n",
    "plt.xlabel('Nombre de commerces alimentaires')\n",
    "plt.ylabel('Note donnée par les habitants')\n",
    "plt.title(\"Une régression avec B2 en coupant l'échantillon\")\n",
    "plt.show()\n",
    "\n",
    "# Still not very satisfactory"
   ]
  },
  {
   "cell_type": "markdown",
   "id": "bdf033e1-b009-47a8-83e3-4da31ed1c37d",
   "metadata": {},
   "source": [
    "On utilise les informations plus précises sur les différents types de commerces."
   ]
  },
  {
   "cell_type": "code",
   "execution_count": 25,
   "id": "85d21c8b-c845-4a92-8ae6-2971d8946dc9",
   "metadata": {},
   "outputs": [],
   "source": [
    "# Split the data into training/testing sets\n",
    "Commerces2 = Commerces.transpose()\n",
    "X_train, X_test, y_train, y_test = sklearn.model_selection.train_test_split(Commerces2, notes, test_size = 0.5)"
   ]
  },
  {
   "cell_type": "code",
   "execution_count": 26,
   "id": "296ca6af-479a-4f26-8894-7769405d3578",
   "metadata": {},
   "outputs": [],
   "source": [
    "# Making a regression using the arrondissements in train\n",
    "reg = LinearRegression().fit(X_train, y_train)\n",
    "\n",
    "# Make predictions using the testing set\n",
    "y_pred = reg.predict(X_test)"
   ]
  },
  {
   "cell_type": "code",
   "execution_count": 27,
   "id": "19abf200-9c9c-4d1a-81f2-d8910a7f8e58",
   "metadata": {},
   "outputs": [
    {
     "data": {
      "text/plain": [
       "array([-0.00050155,  0.00600679,  0.00129337,  0.00443104, -0.00100023,\n",
       "       -0.00627575, -0.0090708 ,  0.00157625, -0.0007636 ,  0.02054295,\n",
       "        0.00354884, -0.01467917, -0.02925285,  0.02500319, -0.00445093,\n",
       "       -0.01117817,  0.00972713, -0.00235113, -0.00700295,  0.01869061,\n",
       "        0.00255121,  0.00921021,  0.01797105, -0.00744266])"
      ]
     },
     "execution_count": 27,
     "metadata": {},
     "output_type": "execute_result"
    }
   ],
   "source": [
    "# The coefficients\n",
    "reg.coef_"
   ]
  },
  {
   "cell_type": "code",
   "execution_count": 28,
   "id": "ec95a800-3626-4067-a9f1-56a05f6bda64",
   "metadata": {},
   "outputs": [
    {
     "data": {
      "text/plain": [
       "{'copy_X': True, 'fit_intercept': True, 'n_jobs': None, 'positive': False}"
      ]
     },
     "execution_count": 28,
     "metadata": {},
     "output_type": "execute_result"
    }
   ],
   "source": [
    "reg.get_params()"
   ]
  },
  {
   "cell_type": "code",
   "execution_count": 29,
   "id": "81b77421-bde6-4d13-955c-643cb51528d9",
   "metadata": {},
   "outputs": [
    {
     "data": {
      "text/plain": [
       "-0.813328931013293"
      ]
     },
     "execution_count": 29,
     "metadata": {},
     "output_type": "execute_result"
    }
   ],
   "source": [
    "# The R^2\n",
    "reg.score(X_test, y_test)"
   ]
  },
  {
   "cell_type": "markdown",
   "id": "57769f61-e9e1-493b-b3da-6977e8459a90",
   "metadata": {},
   "source": [
    "Le R2 est négatif : notre modèle n'est absolument pas adapté. Il nous faut prendre en compte d'autres facteurs."
   ]
  },
  {
   "cell_type": "markdown",
   "id": "590fbbd5-3c21-4c32-b8a0-c2802c762204",
   "metadata": {},
   "source": [
    "#### 2) Régression en prenant comme variable la densité des commerces"
   ]
  },
  {
   "cell_type": "markdown",
   "id": "3b28e548-f0e7-4be8-9da3-6b326917d94c",
   "metadata": {},
   "source": [
    "Tentons de prendre en compte la densité des équipements plutôt que leur nombre."
   ]
  },
  {
   "cell_type": "code",
   "execution_count": 9,
   "id": "5a94d59e-9a88-4505-b87a-9df4b91a52d4",
   "metadata": {},
   "outputs": [
    {
     "name": "stdout",
     "output_type": "stream",
     "text": [
      "https://minio.lab.sspcloud.fr/projet-cartiflette/diffusion/shapefiles-test1/year=2022/administrative_level=COMMUNE_ARRONDISSEMENT/crs=4326/DEPARTEMENT=75/vectorfile_format=topojson/provider=IGN/source=EXPRESS-COG-CARTO-TERRITOIRE/raw.topojson\n"
     ]
    },
    {
     "name": "stderr",
     "output_type": "stream",
     "text": [
      "Downloading: : 40.1kiB [00:00, 23.7MiB/s]\n",
      "ERROR 1: PROJ: proj_create_from_database: Open of /opt/mamba/share/proj failed\n",
      "/tmp/ipykernel_273/1247608674.py:15: UserWarning: Geometry is in a geographic CRS. Results from 'area' are likely incorrect. Use 'GeoSeries.to_crs()' to re-project geometries to a projected CRS before this operation.\n",
      "\n",
      "  superficies = Arrondissements.area\n"
     ]
    },
    {
     "data": {
      "text/plain": [
       "0     0.000224\n",
       "1     0.000122\n",
       "2     0.000143\n",
       "3     0.000196\n",
       "4     0.000312\n",
       "5     0.000264\n",
       "6     0.000501\n",
       "7     0.000476\n",
       "8     0.000267\n",
       "9     0.000354\n",
       "10    0.000447\n",
       "11    0.002007\n",
       "12    0.000874\n",
       "13    0.000688\n",
       "14    0.001038\n",
       "15    0.002011\n",
       "16    0.000695\n",
       "17    0.000735\n",
       "18    0.000832\n",
       "19    0.000736\n",
       "dtype: float64"
      ]
     },
     "execution_count": 9,
     "metadata": {},
     "output_type": "execute_result"
    }
   ],
   "source": [
    "# Création d'une base de donnée associant pour chaque arrondissement sa superficie.\n",
    "\n",
    "# Import des données géographiques des arrondissements parisiens depuis la librairie cartiflette\n",
    "Arrondissements = s3.download_vectorfile_url_all(\n",
    "    crs = 4326,\n",
    "    values = [\"75\"],\n",
    "    borders=\"COMMUNE_ARRONDISSEMENT\",\n",
    "    vectorfile_format=\"topojson\",\n",
    "    filter_by=\"DEPARTEMENT\",\n",
    "    source=\"EXPRESS-COG-CARTO-TERRITOIRE\",\n",
    "    year=2022)\n",
    "\n",
    "# Stockage des superficies dans la series superficies\n",
    "Arrondissements = Arrondissements.sort_values('INSEE_COG').reset_index()\n",
    "superficies = Arrondissements.area\n",
    "superficies"
   ]
  },
  {
   "cell_type": "code",
   "execution_count": 12,
   "id": "39845d64-4d72-4119-9dec-4302269ea76d",
   "metadata": {},
   "outputs": [],
   "source": [
    "superficies2 = superficies.to_frame().transpose()\n",
    "col_names = list(Commerces.columns.values)\n",
    "superficies2.columns = col_names\n",
    "superficies2.index = [\"Superficies\"]"
   ]
  },
  {
   "cell_type": "code",
   "execution_count": 13,
   "id": "bcac8ec3-79bf-4304-b123-2399b3ca8d8a",
   "metadata": {},
   "outputs": [
    {
     "data": {
      "text/html": [
       "<div>\n",
       "<style scoped>\n",
       "    .dataframe tbody tr th:only-of-type {\n",
       "        vertical-align: middle;\n",
       "    }\n",
       "\n",
       "    .dataframe tbody tr th {\n",
       "        vertical-align: top;\n",
       "    }\n",
       "\n",
       "    .dataframe thead th {\n",
       "        text-align: right;\n",
       "    }\n",
       "</style>\n",
       "<table border=\"1\" class=\"dataframe\">\n",
       "  <thead>\n",
       "    <tr style=\"text-align: right;\">\n",
       "      <th></th>\n",
       "      <th>1er arrondissement</th>\n",
       "      <th>2e arrondissement</th>\n",
       "      <th>3e arrondissement</th>\n",
       "      <th>4e arrondissement</th>\n",
       "      <th>5e arrondissement</th>\n",
       "      <th>6e arrondissement</th>\n",
       "      <th>7e arrondissement</th>\n",
       "      <th>8e arrondissement</th>\n",
       "      <th>9e arrondissement</th>\n",
       "      <th>10e arrondissement</th>\n",
       "      <th>11e arrondissement</th>\n",
       "      <th>12e arrondissement</th>\n",
       "      <th>13e arrondissement</th>\n",
       "      <th>14e arrondissement</th>\n",
       "      <th>15e arrondissement</th>\n",
       "      <th>16e arrondissement</th>\n",
       "      <th>17e arrondissement</th>\n",
       "      <th>18e arrondissement</th>\n",
       "      <th>19e arrondissement</th>\n",
       "      <th>20e arrondissement</th>\n",
       "    </tr>\n",
       "  </thead>\n",
       "  <tbody>\n",
       "    <tr>\n",
       "      <th>0</th>\n",
       "      <td>1.000000</td>\n",
       "      <td>0.000000</td>\n",
       "      <td>1.000000</td>\n",
       "      <td>0.000000</td>\n",
       "      <td>0.000000</td>\n",
       "      <td>0.000000</td>\n",
       "      <td>0.000000</td>\n",
       "      <td>0.000000</td>\n",
       "      <td>0.000000</td>\n",
       "      <td>0.000000</td>\n",
       "      <td>0.000000</td>\n",
       "      <td>0.000000</td>\n",
       "      <td>2.000000</td>\n",
       "      <td>0.000000</td>\n",
       "      <td>3.000000</td>\n",
       "      <td>2.000000</td>\n",
       "      <td>1.000000</td>\n",
       "      <td>0.000000</td>\n",
       "      <td>0.000000</td>\n",
       "      <td>2.000000</td>\n",
       "    </tr>\n",
       "    <tr>\n",
       "      <th>1</th>\n",
       "      <td>6.000000</td>\n",
       "      <td>8.000000</td>\n",
       "      <td>5.000000</td>\n",
       "      <td>9.000000</td>\n",
       "      <td>16.000000</td>\n",
       "      <td>15.000000</td>\n",
       "      <td>17.000000</td>\n",
       "      <td>20.000000</td>\n",
       "      <td>26.000000</td>\n",
       "      <td>28.000000</td>\n",
       "      <td>43.000000</td>\n",
       "      <td>30.000000</td>\n",
       "      <td>48.000000</td>\n",
       "      <td>36.000000</td>\n",
       "      <td>62.000000</td>\n",
       "      <td>40.000000</td>\n",
       "      <td>47.000000</td>\n",
       "      <td>43.000000</td>\n",
       "      <td>44.000000</td>\n",
       "      <td>49.000000</td>\n",
       "    </tr>\n",
       "    <tr>\n",
       "      <th>2</th>\n",
       "      <td>0.000000</td>\n",
       "      <td>0.000000</td>\n",
       "      <td>1.000000</td>\n",
       "      <td>0.000000</td>\n",
       "      <td>1.000000</td>\n",
       "      <td>0.000000</td>\n",
       "      <td>1.000000</td>\n",
       "      <td>1.000000</td>\n",
       "      <td>1.000000</td>\n",
       "      <td>1.000000</td>\n",
       "      <td>3.000000</td>\n",
       "      <td>4.000000</td>\n",
       "      <td>2.000000</td>\n",
       "      <td>2.000000</td>\n",
       "      <td>7.000000</td>\n",
       "      <td>2.000000</td>\n",
       "      <td>1.000000</td>\n",
       "      <td>5.000000</td>\n",
       "      <td>5.000000</td>\n",
       "      <td>2.000000</td>\n",
       "    </tr>\n",
       "    <tr>\n",
       "      <th>3</th>\n",
       "      <td>8.000000</td>\n",
       "      <td>10.000000</td>\n",
       "      <td>7.000000</td>\n",
       "      <td>9.000000</td>\n",
       "      <td>10.000000</td>\n",
       "      <td>8.000000</td>\n",
       "      <td>11.000000</td>\n",
       "      <td>14.000000</td>\n",
       "      <td>18.000000</td>\n",
       "      <td>25.000000</td>\n",
       "      <td>27.000000</td>\n",
       "      <td>17.000000</td>\n",
       "      <td>19.000000</td>\n",
       "      <td>15.000000</td>\n",
       "      <td>20.000000</td>\n",
       "      <td>22.000000</td>\n",
       "      <td>33.000000</td>\n",
       "      <td>25.000000</td>\n",
       "      <td>29.000000</td>\n",
       "      <td>18.000000</td>\n",
       "    </tr>\n",
       "    <tr>\n",
       "      <th>4</th>\n",
       "      <td>20.000000</td>\n",
       "      <td>27.000000</td>\n",
       "      <td>36.000000</td>\n",
       "      <td>30.000000</td>\n",
       "      <td>64.000000</td>\n",
       "      <td>30.000000</td>\n",
       "      <td>39.000000</td>\n",
       "      <td>61.000000</td>\n",
       "      <td>84.000000</td>\n",
       "      <td>157.000000</td>\n",
       "      <td>153.000000</td>\n",
       "      <td>99.000000</td>\n",
       "      <td>79.000000</td>\n",
       "      <td>75.000000</td>\n",
       "      <td>140.000000</td>\n",
       "      <td>80.000000</td>\n",
       "      <td>140.000000</td>\n",
       "      <td>307.000000</td>\n",
       "      <td>140.000000</td>\n",
       "      <td>161.000000</td>\n",
       "    </tr>\n",
       "    <tr>\n",
       "      <th>5</th>\n",
       "      <td>38.000000</td>\n",
       "      <td>33.000000</td>\n",
       "      <td>43.000000</td>\n",
       "      <td>47.000000</td>\n",
       "      <td>66.000000</td>\n",
       "      <td>58.000000</td>\n",
       "      <td>73.000000</td>\n",
       "      <td>65.000000</td>\n",
       "      <td>75.000000</td>\n",
       "      <td>84.000000</td>\n",
       "      <td>117.000000</td>\n",
       "      <td>124.000000</td>\n",
       "      <td>96.000000</td>\n",
       "      <td>99.000000</td>\n",
       "      <td>170.000000</td>\n",
       "      <td>94.000000</td>\n",
       "      <td>128.000000</td>\n",
       "      <td>143.000000</td>\n",
       "      <td>93.000000</td>\n",
       "      <td>120.000000</td>\n",
       "    </tr>\n",
       "    <tr>\n",
       "      <th>6</th>\n",
       "      <td>6.000000</td>\n",
       "      <td>10.000000</td>\n",
       "      <td>3.000000</td>\n",
       "      <td>11.000000</td>\n",
       "      <td>17.000000</td>\n",
       "      <td>14.000000</td>\n",
       "      <td>18.000000</td>\n",
       "      <td>16.000000</td>\n",
       "      <td>23.000000</td>\n",
       "      <td>46.000000</td>\n",
       "      <td>43.000000</td>\n",
       "      <td>43.000000</td>\n",
       "      <td>39.000000</td>\n",
       "      <td>38.000000</td>\n",
       "      <td>60.000000</td>\n",
       "      <td>37.000000</td>\n",
       "      <td>46.000000</td>\n",
       "      <td>84.000000</td>\n",
       "      <td>57.000000</td>\n",
       "      <td>54.000000</td>\n",
       "    </tr>\n",
       "    <tr>\n",
       "      <th>7</th>\n",
       "      <td>4.000000</td>\n",
       "      <td>2.000000</td>\n",
       "      <td>4.000000</td>\n",
       "      <td>0.000000</td>\n",
       "      <td>6.000000</td>\n",
       "      <td>4.000000</td>\n",
       "      <td>4.000000</td>\n",
       "      <td>3.000000</td>\n",
       "      <td>5.000000</td>\n",
       "      <td>7.000000</td>\n",
       "      <td>10.000000</td>\n",
       "      <td>8.000000</td>\n",
       "      <td>9.000000</td>\n",
       "      <td>8.000000</td>\n",
       "      <td>15.000000</td>\n",
       "      <td>7.000000</td>\n",
       "      <td>11.000000</td>\n",
       "      <td>9.000000</td>\n",
       "      <td>7.000000</td>\n",
       "      <td>8.000000</td>\n",
       "    </tr>\n",
       "    <tr>\n",
       "      <th>8</th>\n",
       "      <td>0.000000</td>\n",
       "      <td>2.000000</td>\n",
       "      <td>3.000000</td>\n",
       "      <td>3.000000</td>\n",
       "      <td>4.000000</td>\n",
       "      <td>3.000000</td>\n",
       "      <td>3.000000</td>\n",
       "      <td>4.000000</td>\n",
       "      <td>6.000000</td>\n",
       "      <td>7.000000</td>\n",
       "      <td>4.000000</td>\n",
       "      <td>8.000000</td>\n",
       "      <td>3.000000</td>\n",
       "      <td>5.000000</td>\n",
       "      <td>5.000000</td>\n",
       "      <td>11.000000</td>\n",
       "      <td>12.000000</td>\n",
       "      <td>18.000000</td>\n",
       "      <td>5.000000</td>\n",
       "      <td>2.000000</td>\n",
       "    </tr>\n",
       "    <tr>\n",
       "      <th>9</th>\n",
       "      <td>44.000000</td>\n",
       "      <td>38.000000</td>\n",
       "      <td>27.000000</td>\n",
       "      <td>46.000000</td>\n",
       "      <td>94.000000</td>\n",
       "      <td>100.000000</td>\n",
       "      <td>52.000000</td>\n",
       "      <td>78.000000</td>\n",
       "      <td>81.000000</td>\n",
       "      <td>79.000000</td>\n",
       "      <td>78.000000</td>\n",
       "      <td>88.000000</td>\n",
       "      <td>57.000000</td>\n",
       "      <td>67.000000</td>\n",
       "      <td>96.000000</td>\n",
       "      <td>67.000000</td>\n",
       "      <td>73.000000</td>\n",
       "      <td>56.000000</td>\n",
       "      <td>46.000000</td>\n",
       "      <td>39.000000</td>\n",
       "    </tr>\n",
       "    <tr>\n",
       "      <th>10</th>\n",
       "      <td>415.000000</td>\n",
       "      <td>283.000000</td>\n",
       "      <td>302.000000</td>\n",
       "      <td>294.000000</td>\n",
       "      <td>83.000000</td>\n",
       "      <td>425.000000</td>\n",
       "      <td>193.000000</td>\n",
       "      <td>593.000000</td>\n",
       "      <td>328.000000</td>\n",
       "      <td>331.000000</td>\n",
       "      <td>247.000000</td>\n",
       "      <td>143.000000</td>\n",
       "      <td>129.000000</td>\n",
       "      <td>144.000000</td>\n",
       "      <td>290.000000</td>\n",
       "      <td>437.000000</td>\n",
       "      <td>365.000000</td>\n",
       "      <td>326.000000</td>\n",
       "      <td>150.000000</td>\n",
       "      <td>120.000000</td>\n",
       "    </tr>\n",
       "    <tr>\n",
       "      <th>11</th>\n",
       "      <td>27.000000</td>\n",
       "      <td>17.000000</td>\n",
       "      <td>20.000000</td>\n",
       "      <td>44.000000</td>\n",
       "      <td>12.000000</td>\n",
       "      <td>46.000000</td>\n",
       "      <td>44.000000</td>\n",
       "      <td>85.000000</td>\n",
       "      <td>42.000000</td>\n",
       "      <td>33.000000</td>\n",
       "      <td>38.000000</td>\n",
       "      <td>32.000000</td>\n",
       "      <td>18.000000</td>\n",
       "      <td>24.000000</td>\n",
       "      <td>47.000000</td>\n",
       "      <td>59.000000</td>\n",
       "      <td>44.000000</td>\n",
       "      <td>52.000000</td>\n",
       "      <td>22.000000</td>\n",
       "      <td>18.000000</td>\n",
       "    </tr>\n",
       "    <tr>\n",
       "      <th>12</th>\n",
       "      <td>71.000000</td>\n",
       "      <td>24.000000</td>\n",
       "      <td>42.000000</td>\n",
       "      <td>51.000000</td>\n",
       "      <td>13.000000</td>\n",
       "      <td>80.000000</td>\n",
       "      <td>35.000000</td>\n",
       "      <td>96.000000</td>\n",
       "      <td>71.000000</td>\n",
       "      <td>35.000000</td>\n",
       "      <td>42.000000</td>\n",
       "      <td>19.000000</td>\n",
       "      <td>24.000000</td>\n",
       "      <td>26.000000</td>\n",
       "      <td>50.000000</td>\n",
       "      <td>54.000000</td>\n",
       "      <td>60.000000</td>\n",
       "      <td>42.000000</td>\n",
       "      <td>17.000000</td>\n",
       "      <td>22.000000</td>\n",
       "    </tr>\n",
       "    <tr>\n",
       "      <th>13</th>\n",
       "      <td>5.000000</td>\n",
       "      <td>3.000000</td>\n",
       "      <td>5.000000</td>\n",
       "      <td>5.000000</td>\n",
       "      <td>3.000000</td>\n",
       "      <td>3.000000</td>\n",
       "      <td>6.000000</td>\n",
       "      <td>31.000000</td>\n",
       "      <td>26.000000</td>\n",
       "      <td>14.000000</td>\n",
       "      <td>23.000000</td>\n",
       "      <td>14.000000</td>\n",
       "      <td>10.000000</td>\n",
       "      <td>3.000000</td>\n",
       "      <td>29.000000</td>\n",
       "      <td>12.000000</td>\n",
       "      <td>21.000000</td>\n",
       "      <td>23.000000</td>\n",
       "      <td>11.000000</td>\n",
       "      <td>17.000000</td>\n",
       "    </tr>\n",
       "    <tr>\n",
       "      <th>14</th>\n",
       "      <td>30.000000</td>\n",
       "      <td>21.000000</td>\n",
       "      <td>26.000000</td>\n",
       "      <td>19.000000</td>\n",
       "      <td>12.000000</td>\n",
       "      <td>37.000000</td>\n",
       "      <td>68.000000</td>\n",
       "      <td>82.000000</td>\n",
       "      <td>25.000000</td>\n",
       "      <td>23.000000</td>\n",
       "      <td>54.000000</td>\n",
       "      <td>55.000000</td>\n",
       "      <td>9.000000</td>\n",
       "      <td>24.000000</td>\n",
       "      <td>48.000000</td>\n",
       "      <td>65.000000</td>\n",
       "      <td>57.000000</td>\n",
       "      <td>24.000000</td>\n",
       "      <td>15.000000</td>\n",
       "      <td>20.000000</td>\n",
       "    </tr>\n",
       "    <tr>\n",
       "      <th>15</th>\n",
       "      <td>20.000000</td>\n",
       "      <td>9.000000</td>\n",
       "      <td>13.000000</td>\n",
       "      <td>18.000000</td>\n",
       "      <td>8.000000</td>\n",
       "      <td>10.000000</td>\n",
       "      <td>7.000000</td>\n",
       "      <td>33.000000</td>\n",
       "      <td>17.000000</td>\n",
       "      <td>15.000000</td>\n",
       "      <td>28.000000</td>\n",
       "      <td>22.000000</td>\n",
       "      <td>21.000000</td>\n",
       "      <td>20.000000</td>\n",
       "      <td>37.000000</td>\n",
       "      <td>17.000000</td>\n",
       "      <td>35.000000</td>\n",
       "      <td>17.000000</td>\n",
       "      <td>13.000000</td>\n",
       "      <td>16.000000</td>\n",
       "    </tr>\n",
       "    <tr>\n",
       "      <th>16</th>\n",
       "      <td>2.000000</td>\n",
       "      <td>5.000000</td>\n",
       "      <td>4.000000</td>\n",
       "      <td>3.000000</td>\n",
       "      <td>0.000000</td>\n",
       "      <td>15.000000</td>\n",
       "      <td>17.000000</td>\n",
       "      <td>19.000000</td>\n",
       "      <td>3.000000</td>\n",
       "      <td>2.000000</td>\n",
       "      <td>7.000000</td>\n",
       "      <td>4.000000</td>\n",
       "      <td>2.000000</td>\n",
       "      <td>2.000000</td>\n",
       "      <td>14.000000</td>\n",
       "      <td>12.000000</td>\n",
       "      <td>12.000000</td>\n",
       "      <td>2.000000</td>\n",
       "      <td>6.000000</td>\n",
       "      <td>0.000000</td>\n",
       "    </tr>\n",
       "    <tr>\n",
       "      <th>17</th>\n",
       "      <td>7.000000</td>\n",
       "      <td>5.000000</td>\n",
       "      <td>6.000000</td>\n",
       "      <td>2.000000</td>\n",
       "      <td>9.000000</td>\n",
       "      <td>6.000000</td>\n",
       "      <td>15.000000</td>\n",
       "      <td>8.000000</td>\n",
       "      <td>10.000000</td>\n",
       "      <td>14.000000</td>\n",
       "      <td>31.000000</td>\n",
       "      <td>18.000000</td>\n",
       "      <td>11.000000</td>\n",
       "      <td>9.000000</td>\n",
       "      <td>17.000000</td>\n",
       "      <td>19.000000</td>\n",
       "      <td>21.000000</td>\n",
       "      <td>21.000000</td>\n",
       "      <td>7.000000</td>\n",
       "      <td>15.000000</td>\n",
       "    </tr>\n",
       "    <tr>\n",
       "      <th>18</th>\n",
       "      <td>96.000000</td>\n",
       "      <td>50.000000</td>\n",
       "      <td>44.000000</td>\n",
       "      <td>72.000000</td>\n",
       "      <td>28.000000</td>\n",
       "      <td>53.000000</td>\n",
       "      <td>35.000000</td>\n",
       "      <td>187.000000</td>\n",
       "      <td>91.000000</td>\n",
       "      <td>135.000000</td>\n",
       "      <td>59.000000</td>\n",
       "      <td>34.000000</td>\n",
       "      <td>32.000000</td>\n",
       "      <td>29.000000</td>\n",
       "      <td>73.000000</td>\n",
       "      <td>78.000000</td>\n",
       "      <td>55.000000</td>\n",
       "      <td>119.000000</td>\n",
       "      <td>42.000000</td>\n",
       "      <td>33.000000</td>\n",
       "    </tr>\n",
       "    <tr>\n",
       "      <th>19</th>\n",
       "      <td>120.000000</td>\n",
       "      <td>59.000000</td>\n",
       "      <td>52.000000</td>\n",
       "      <td>30.000000</td>\n",
       "      <td>10.000000</td>\n",
       "      <td>58.000000</td>\n",
       "      <td>41.000000</td>\n",
       "      <td>139.000000</td>\n",
       "      <td>80.000000</td>\n",
       "      <td>42.000000</td>\n",
       "      <td>19.000000</td>\n",
       "      <td>20.000000</td>\n",
       "      <td>24.000000</td>\n",
       "      <td>14.000000</td>\n",
       "      <td>53.000000</td>\n",
       "      <td>70.000000</td>\n",
       "      <td>52.000000</td>\n",
       "      <td>49.000000</td>\n",
       "      <td>14.000000</td>\n",
       "      <td>13.000000</td>\n",
       "    </tr>\n",
       "    <tr>\n",
       "      <th>20</th>\n",
       "      <td>20.000000</td>\n",
       "      <td>16.000000</td>\n",
       "      <td>18.000000</td>\n",
       "      <td>26.000000</td>\n",
       "      <td>23.000000</td>\n",
       "      <td>21.000000</td>\n",
       "      <td>37.000000</td>\n",
       "      <td>32.000000</td>\n",
       "      <td>34.000000</td>\n",
       "      <td>34.000000</td>\n",
       "      <td>47.000000</td>\n",
       "      <td>43.000000</td>\n",
       "      <td>38.000000</td>\n",
       "      <td>38.000000</td>\n",
       "      <td>70.000000</td>\n",
       "      <td>62.000000</td>\n",
       "      <td>58.000000</td>\n",
       "      <td>57.000000</td>\n",
       "      <td>23.000000</td>\n",
       "      <td>38.000000</td>\n",
       "    </tr>\n",
       "    <tr>\n",
       "      <th>21</th>\n",
       "      <td>36.000000</td>\n",
       "      <td>30.000000</td>\n",
       "      <td>42.000000</td>\n",
       "      <td>43.000000</td>\n",
       "      <td>37.000000</td>\n",
       "      <td>46.000000</td>\n",
       "      <td>35.000000</td>\n",
       "      <td>87.000000</td>\n",
       "      <td>64.000000</td>\n",
       "      <td>64.000000</td>\n",
       "      <td>84.000000</td>\n",
       "      <td>55.000000</td>\n",
       "      <td>54.000000</td>\n",
       "      <td>44.000000</td>\n",
       "      <td>84.000000</td>\n",
       "      <td>84.000000</td>\n",
       "      <td>97.000000</td>\n",
       "      <td>80.000000</td>\n",
       "      <td>72.000000</td>\n",
       "      <td>67.000000</td>\n",
       "    </tr>\n",
       "    <tr>\n",
       "      <th>22</th>\n",
       "      <td>6.000000</td>\n",
       "      <td>5.000000</td>\n",
       "      <td>4.000000</td>\n",
       "      <td>5.000000</td>\n",
       "      <td>8.000000</td>\n",
       "      <td>8.000000</td>\n",
       "      <td>4.000000</td>\n",
       "      <td>26.000000</td>\n",
       "      <td>15.000000</td>\n",
       "      <td>6.000000</td>\n",
       "      <td>14.000000</td>\n",
       "      <td>15.000000</td>\n",
       "      <td>8.000000</td>\n",
       "      <td>13.000000</td>\n",
       "      <td>27.000000</td>\n",
       "      <td>28.000000</td>\n",
       "      <td>20.000000</td>\n",
       "      <td>9.000000</td>\n",
       "      <td>12.000000</td>\n",
       "      <td>17.000000</td>\n",
       "    </tr>\n",
       "    <tr>\n",
       "      <th>23</th>\n",
       "      <td>4.000000</td>\n",
       "      <td>0.000000</td>\n",
       "      <td>0.000000</td>\n",
       "      <td>0.000000</td>\n",
       "      <td>0.000000</td>\n",
       "      <td>0.000000</td>\n",
       "      <td>1.000000</td>\n",
       "      <td>2.000000</td>\n",
       "      <td>0.000000</td>\n",
       "      <td>2.000000</td>\n",
       "      <td>0.000000</td>\n",
       "      <td>5.000000</td>\n",
       "      <td>6.000000</td>\n",
       "      <td>3.000000</td>\n",
       "      <td>9.000000</td>\n",
       "      <td>6.000000</td>\n",
       "      <td>3.000000</td>\n",
       "      <td>4.000000</td>\n",
       "      <td>4.000000</td>\n",
       "      <td>5.000000</td>\n",
       "    </tr>\n",
       "    <tr>\n",
       "      <th>Superficies</th>\n",
       "      <td>0.000224</td>\n",
       "      <td>0.000122</td>\n",
       "      <td>0.000143</td>\n",
       "      <td>0.000196</td>\n",
       "      <td>0.000312</td>\n",
       "      <td>0.000264</td>\n",
       "      <td>0.000501</td>\n",
       "      <td>0.000476</td>\n",
       "      <td>0.000267</td>\n",
       "      <td>0.000354</td>\n",
       "      <td>0.000447</td>\n",
       "      <td>0.002007</td>\n",
       "      <td>0.000874</td>\n",
       "      <td>0.000688</td>\n",
       "      <td>0.001038</td>\n",
       "      <td>0.002011</td>\n",
       "      <td>0.000695</td>\n",
       "      <td>0.000735</td>\n",
       "      <td>0.000832</td>\n",
       "      <td>0.000736</td>\n",
       "    </tr>\n",
       "  </tbody>\n",
       "</table>\n",
       "</div>"
      ],
      "text/plain": [
       "             1er arrondissement  2e arrondissement  3e arrondissement  \\\n",
       "0                      1.000000           0.000000           1.000000   \n",
       "1                      6.000000           8.000000           5.000000   \n",
       "2                      0.000000           0.000000           1.000000   \n",
       "3                      8.000000          10.000000           7.000000   \n",
       "4                     20.000000          27.000000          36.000000   \n",
       "5                     38.000000          33.000000          43.000000   \n",
       "6                      6.000000          10.000000           3.000000   \n",
       "7                      4.000000           2.000000           4.000000   \n",
       "8                      0.000000           2.000000           3.000000   \n",
       "9                     44.000000          38.000000          27.000000   \n",
       "10                   415.000000         283.000000         302.000000   \n",
       "11                    27.000000          17.000000          20.000000   \n",
       "12                    71.000000          24.000000          42.000000   \n",
       "13                     5.000000           3.000000           5.000000   \n",
       "14                    30.000000          21.000000          26.000000   \n",
       "15                    20.000000           9.000000          13.000000   \n",
       "16                     2.000000           5.000000           4.000000   \n",
       "17                     7.000000           5.000000           6.000000   \n",
       "18                    96.000000          50.000000          44.000000   \n",
       "19                   120.000000          59.000000          52.000000   \n",
       "20                    20.000000          16.000000          18.000000   \n",
       "21                    36.000000          30.000000          42.000000   \n",
       "22                     6.000000           5.000000           4.000000   \n",
       "23                     4.000000           0.000000           0.000000   \n",
       "Superficies            0.000224           0.000122           0.000143   \n",
       "\n",
       "             4e arrondissement  5e arrondissement  6e arrondissement  \\\n",
       "0                     0.000000           0.000000           0.000000   \n",
       "1                     9.000000          16.000000          15.000000   \n",
       "2                     0.000000           1.000000           0.000000   \n",
       "3                     9.000000          10.000000           8.000000   \n",
       "4                    30.000000          64.000000          30.000000   \n",
       "5                    47.000000          66.000000          58.000000   \n",
       "6                    11.000000          17.000000          14.000000   \n",
       "7                     0.000000           6.000000           4.000000   \n",
       "8                     3.000000           4.000000           3.000000   \n",
       "9                    46.000000          94.000000         100.000000   \n",
       "10                  294.000000          83.000000         425.000000   \n",
       "11                   44.000000          12.000000          46.000000   \n",
       "12                   51.000000          13.000000          80.000000   \n",
       "13                    5.000000           3.000000           3.000000   \n",
       "14                   19.000000          12.000000          37.000000   \n",
       "15                   18.000000           8.000000          10.000000   \n",
       "16                    3.000000           0.000000          15.000000   \n",
       "17                    2.000000           9.000000           6.000000   \n",
       "18                   72.000000          28.000000          53.000000   \n",
       "19                   30.000000          10.000000          58.000000   \n",
       "20                   26.000000          23.000000          21.000000   \n",
       "21                   43.000000          37.000000          46.000000   \n",
       "22                    5.000000           8.000000           8.000000   \n",
       "23                    0.000000           0.000000           0.000000   \n",
       "Superficies           0.000196           0.000312           0.000264   \n",
       "\n",
       "             7e arrondissement  8e arrondissement  9e arrondissement  \\\n",
       "0                     0.000000           0.000000           0.000000   \n",
       "1                    17.000000          20.000000          26.000000   \n",
       "2                     1.000000           1.000000           1.000000   \n",
       "3                    11.000000          14.000000          18.000000   \n",
       "4                    39.000000          61.000000          84.000000   \n",
       "5                    73.000000          65.000000          75.000000   \n",
       "6                    18.000000          16.000000          23.000000   \n",
       "7                     4.000000           3.000000           5.000000   \n",
       "8                     3.000000           4.000000           6.000000   \n",
       "9                    52.000000          78.000000          81.000000   \n",
       "10                  193.000000         593.000000         328.000000   \n",
       "11                   44.000000          85.000000          42.000000   \n",
       "12                   35.000000          96.000000          71.000000   \n",
       "13                    6.000000          31.000000          26.000000   \n",
       "14                   68.000000          82.000000          25.000000   \n",
       "15                    7.000000          33.000000          17.000000   \n",
       "16                   17.000000          19.000000           3.000000   \n",
       "17                   15.000000           8.000000          10.000000   \n",
       "18                   35.000000         187.000000          91.000000   \n",
       "19                   41.000000         139.000000          80.000000   \n",
       "20                   37.000000          32.000000          34.000000   \n",
       "21                   35.000000          87.000000          64.000000   \n",
       "22                    4.000000          26.000000          15.000000   \n",
       "23                    1.000000           2.000000           0.000000   \n",
       "Superficies           0.000501           0.000476           0.000267   \n",
       "\n",
       "             10e arrondissement  11e arrondissement  12e arrondissement  \\\n",
       "0                      0.000000            0.000000            0.000000   \n",
       "1                     28.000000           43.000000           30.000000   \n",
       "2                      1.000000            3.000000            4.000000   \n",
       "3                     25.000000           27.000000           17.000000   \n",
       "4                    157.000000          153.000000           99.000000   \n",
       "5                     84.000000          117.000000          124.000000   \n",
       "6                     46.000000           43.000000           43.000000   \n",
       "7                      7.000000           10.000000            8.000000   \n",
       "8                      7.000000            4.000000            8.000000   \n",
       "9                     79.000000           78.000000           88.000000   \n",
       "10                   331.000000          247.000000          143.000000   \n",
       "11                    33.000000           38.000000           32.000000   \n",
       "12                    35.000000           42.000000           19.000000   \n",
       "13                    14.000000           23.000000           14.000000   \n",
       "14                    23.000000           54.000000           55.000000   \n",
       "15                    15.000000           28.000000           22.000000   \n",
       "16                     2.000000            7.000000            4.000000   \n",
       "17                    14.000000           31.000000           18.000000   \n",
       "18                   135.000000           59.000000           34.000000   \n",
       "19                    42.000000           19.000000           20.000000   \n",
       "20                    34.000000           47.000000           43.000000   \n",
       "21                    64.000000           84.000000           55.000000   \n",
       "22                     6.000000           14.000000           15.000000   \n",
       "23                     2.000000            0.000000            5.000000   \n",
       "Superficies            0.000354            0.000447            0.002007   \n",
       "\n",
       "             13e arrondissement  14e arrondissement  15e arrondissement  \\\n",
       "0                      2.000000            0.000000            3.000000   \n",
       "1                     48.000000           36.000000           62.000000   \n",
       "2                      2.000000            2.000000            7.000000   \n",
       "3                     19.000000           15.000000           20.000000   \n",
       "4                     79.000000           75.000000          140.000000   \n",
       "5                     96.000000           99.000000          170.000000   \n",
       "6                     39.000000           38.000000           60.000000   \n",
       "7                      9.000000            8.000000           15.000000   \n",
       "8                      3.000000            5.000000            5.000000   \n",
       "9                     57.000000           67.000000           96.000000   \n",
       "10                   129.000000          144.000000          290.000000   \n",
       "11                    18.000000           24.000000           47.000000   \n",
       "12                    24.000000           26.000000           50.000000   \n",
       "13                    10.000000            3.000000           29.000000   \n",
       "14                     9.000000           24.000000           48.000000   \n",
       "15                    21.000000           20.000000           37.000000   \n",
       "16                     2.000000            2.000000           14.000000   \n",
       "17                    11.000000            9.000000           17.000000   \n",
       "18                    32.000000           29.000000           73.000000   \n",
       "19                    24.000000           14.000000           53.000000   \n",
       "20                    38.000000           38.000000           70.000000   \n",
       "21                    54.000000           44.000000           84.000000   \n",
       "22                     8.000000           13.000000           27.000000   \n",
       "23                     6.000000            3.000000            9.000000   \n",
       "Superficies            0.000874            0.000688            0.001038   \n",
       "\n",
       "             16e arrondissement  17e arrondissement  18e arrondissement  \\\n",
       "0                      2.000000            1.000000            0.000000   \n",
       "1                     40.000000           47.000000           43.000000   \n",
       "2                      2.000000            1.000000            5.000000   \n",
       "3                     22.000000           33.000000           25.000000   \n",
       "4                     80.000000          140.000000          307.000000   \n",
       "5                     94.000000          128.000000          143.000000   \n",
       "6                     37.000000           46.000000           84.000000   \n",
       "7                      7.000000           11.000000            9.000000   \n",
       "8                     11.000000           12.000000           18.000000   \n",
       "9                     67.000000           73.000000           56.000000   \n",
       "10                   437.000000          365.000000          326.000000   \n",
       "11                    59.000000           44.000000           52.000000   \n",
       "12                    54.000000           60.000000           42.000000   \n",
       "13                    12.000000           21.000000           23.000000   \n",
       "14                    65.000000           57.000000           24.000000   \n",
       "15                    17.000000           35.000000           17.000000   \n",
       "16                    12.000000           12.000000            2.000000   \n",
       "17                    19.000000           21.000000           21.000000   \n",
       "18                    78.000000           55.000000          119.000000   \n",
       "19                    70.000000           52.000000           49.000000   \n",
       "20                    62.000000           58.000000           57.000000   \n",
       "21                    84.000000           97.000000           80.000000   \n",
       "22                    28.000000           20.000000            9.000000   \n",
       "23                     6.000000            3.000000            4.000000   \n",
       "Superficies            0.002011            0.000695            0.000735   \n",
       "\n",
       "             19e arrondissement  20e arrondissement  \n",
       "0                      0.000000            2.000000  \n",
       "1                     44.000000           49.000000  \n",
       "2                      5.000000            2.000000  \n",
       "3                     29.000000           18.000000  \n",
       "4                    140.000000          161.000000  \n",
       "5                     93.000000          120.000000  \n",
       "6                     57.000000           54.000000  \n",
       "7                      7.000000            8.000000  \n",
       "8                      5.000000            2.000000  \n",
       "9                     46.000000           39.000000  \n",
       "10                   150.000000          120.000000  \n",
       "11                    22.000000           18.000000  \n",
       "12                    17.000000           22.000000  \n",
       "13                    11.000000           17.000000  \n",
       "14                    15.000000           20.000000  \n",
       "15                    13.000000           16.000000  \n",
       "16                     6.000000            0.000000  \n",
       "17                     7.000000           15.000000  \n",
       "18                    42.000000           33.000000  \n",
       "19                    14.000000           13.000000  \n",
       "20                    23.000000           38.000000  \n",
       "21                    72.000000           67.000000  \n",
       "22                    12.000000           17.000000  \n",
       "23                     4.000000            5.000000  \n",
       "Superficies            0.000832            0.000736  "
      ]
     },
     "execution_count": 13,
     "metadata": {},
     "output_type": "execute_result"
    }
   ],
   "source": [
    "Commerces2 = pd.concat([Commerces, superficies2])\n",
    "Commerces2"
   ]
  },
  {
   "cell_type": "code",
   "execution_count": 18,
   "id": "05750204-16d8-40fc-8f42-341e2ce3e584",
   "metadata": {},
   "outputs": [
    {
     "data": {
      "text/html": [
       "<div>\n",
       "<style scoped>\n",
       "    .dataframe tbody tr th:only-of-type {\n",
       "        vertical-align: middle;\n",
       "    }\n",
       "\n",
       "    .dataframe tbody tr th {\n",
       "        vertical-align: top;\n",
       "    }\n",
       "\n",
       "    .dataframe thead th {\n",
       "        text-align: right;\n",
       "    }\n",
       "</style>\n",
       "<table border=\"1\" class=\"dataframe\">\n",
       "  <thead>\n",
       "    <tr style=\"text-align: right;\">\n",
       "      <th></th>\n",
       "      <th>0</th>\n",
       "    </tr>\n",
       "  </thead>\n",
       "  <tbody>\n",
       "    <tr>\n",
       "      <th>0</th>\n",
       "      <td>339093.128154</td>\n",
       "    </tr>\n",
       "    <tr>\n",
       "      <th>1</th>\n",
       "      <td>690503.295769</td>\n",
       "    </tr>\n",
       "    <tr>\n",
       "      <th>2</th>\n",
       "      <td>669201.417430</td>\n",
       "    </tr>\n",
       "    <tr>\n",
       "      <th>3</th>\n",
       "      <td>511184.422133</td>\n",
       "    </tr>\n",
       "    <tr>\n",
       "      <th>4</th>\n",
       "      <td>535881.613286</td>\n",
       "    </tr>\n",
       "    <tr>\n",
       "      <th>5</th>\n",
       "      <td>443563.215126</td>\n",
       "    </tr>\n",
       "    <tr>\n",
       "      <th>6</th>\n",
       "      <td>295399.617259</td>\n",
       "    </tr>\n",
       "    <tr>\n",
       "      <th>7</th>\n",
       "      <td>342577.019300</td>\n",
       "    </tr>\n",
       "    <tr>\n",
       "      <th>8</th>\n",
       "      <td>789641.708826</td>\n",
       "    </tr>\n",
       "    <tr>\n",
       "      <th>9</th>\n",
       "      <td>919996.228199</td>\n",
       "    </tr>\n",
       "    <tr>\n",
       "      <th>10</th>\n",
       "      <td>791080.215308</td>\n",
       "    </tr>\n",
       "    <tr>\n",
       "      <th>11</th>\n",
       "      <td>148981.654855</td>\n",
       "    </tr>\n",
       "    <tr>\n",
       "      <th>12</th>\n",
       "      <td>280172.794143</td>\n",
       "    </tr>\n",
       "    <tr>\n",
       "      <th>13</th>\n",
       "      <td>349022.189699</td>\n",
       "    </tr>\n",
       "    <tr>\n",
       "      <th>14</th>\n",
       "      <td>394958.985868</td>\n",
       "    </tr>\n",
       "    <tr>\n",
       "      <th>15</th>\n",
       "      <td>124786.874706</td>\n",
       "    </tr>\n",
       "    <tr>\n",
       "      <th>16</th>\n",
       "      <td>532550.129679</td>\n",
       "    </tr>\n",
       "    <tr>\n",
       "      <th>17</th>\n",
       "      <td>796904.288452</td>\n",
       "    </tr>\n",
       "    <tr>\n",
       "      <th>18</th>\n",
       "      <td>397805.742470</td>\n",
       "    </tr>\n",
       "    <tr>\n",
       "      <th>19</th>\n",
       "      <td>493517.613593</td>\n",
       "    </tr>\n",
       "  </tbody>\n",
       "</table>\n",
       "</div>"
      ],
      "text/plain": [
       "                0\n",
       "0   339093.128154\n",
       "1   690503.295769\n",
       "2   669201.417430\n",
       "3   511184.422133\n",
       "4   535881.613286\n",
       "5   443563.215126\n",
       "6   295399.617259\n",
       "7   342577.019300\n",
       "8   789641.708826\n",
       "9   919996.228199\n",
       "10  791080.215308\n",
       "11  148981.654855\n",
       "12  280172.794143\n",
       "13  349022.189699\n",
       "14  394958.985868\n",
       "15  124786.874706\n",
       "16  532550.129679\n",
       "17  796904.288452\n",
       "18  397805.742470\n",
       "19  493517.613593"
      ]
     },
     "execution_count": 18,
     "metadata": {},
     "output_type": "execute_result"
    }
   ],
   "source": [
    "# Trying to make a regression with only B2 ponderated\n",
    "B2 = pd.DataFrame(dicB2.values(), index=None)\n",
    "# print(B2)\n",
    "Com = Commerces2.loc['Superficies'].tolist()\n",
    "Com2 = pd.DataFrame(Com, index=None) # index=list(range[19]))\n",
    "# print(Com2)\n",
    "B2_pond = B2 / Com2\n",
    "B2_pond"
   ]
  },
  {
   "cell_type": "code",
   "execution_count": 21,
   "id": "bbd316fa-1221-46e7-ba5f-9b669344973e",
   "metadata": {},
   "outputs": [
    {
     "data": {
      "image/png": "[encoded data removed]",
      "text/plain": [
       "<Figure size 640x480 with 1 Axes>"
      ]
     },
     "metadata": {},
     "output_type": "display_data"
    }
   ],
   "source": [
    "# Trying to make a regression with only B2 ponderated\n",
    "reg = LinearRegression().fit(B2_pond, notes)\n",
    "y_pred = reg.predict(B2_pond)\n",
    "\n",
    "plt.scatter(B2_pond, notes, color=\"black\")\n",
    "plt.plot(B2_pond, y_pred, color=\"blue\", linewidth=3)\n",
    "plt.xlabel('Nombre de commerces alimentaires / superficie')\n",
    "plt.ylabel('Note donnée par les habitants')\n",
    "plt.title('Une régression avec B2 pondéré')\n",
    "plt.show()\n",
    "\n",
    "# More satisfactory since y_pred is increasing"
   ]
  },
  {
   "cell_type": "code",
   "execution_count": 26,
   "id": "df004b54-db13-4829-9ff6-237727c2bbe4",
   "metadata": {},
   "outputs": [
    {
     "data": {
      "text/plain": [
       "array([1.68067337e-07])"
      ]
     },
     "execution_count": 26,
     "metadata": {},
     "output_type": "execute_result"
    }
   ],
   "source": [
    "reg.coef_"
   ]
  },
  {
   "cell_type": "code",
   "execution_count": 28,
   "id": "4c3f2b95-86a7-4c94-bb64-37db38a6e98c",
   "metadata": {},
   "outputs": [
    {
     "data": {
      "text/plain": [
       "1.0"
      ]
     },
     "execution_count": 28,
     "metadata": {},
     "output_type": "execute_result"
    }
   ],
   "source": [
    "reg.score(B2_pond, y_pred)"
   ]
  },
  {
   "cell_type": "code",
   "execution_count": 30,
   "id": "5f7db076-7473-4a98-b572-3a4979e568f7",
   "metadata": {},
   "outputs": [],
   "source": [
    "# Split the data into training/testing sets\n",
    "X_train, X_test, y_train, y_test = sklearn.model_selection.train_test_split(B2_pond, notes, test_size = 0.5)"
   ]
  },
  {
   "cell_type": "code",
   "execution_count": 31,
   "id": "9d2f2918-9eea-41ab-b73e-539493df549a",
   "metadata": {},
   "outputs": [],
   "source": [
    "# Making a regression using the arrondissements in train\n",
    "reg = LinearRegression().fit(X_train, y_train)\n",
    "\n",
    "# Make predictions using the testing set\n",
    "y_pred = reg.predict(X_test)"
   ]
  },
  {
   "cell_type": "code",
   "execution_count": 33,
   "id": "d40c084b-fb70-4c33-8c6c-a81ca77fbd96",
   "metadata": {},
   "outputs": [
    {
     "data": {
      "image/png": "[encoded data removed]",
      "text/plain": [
       "<Figure size 640x480 with 1 Axes>"
      ]
     },
     "metadata": {},
     "output_type": "display_data"
    }
   ],
   "source": [
    "plt.scatter(B2_pond, notes, color=\"black\")\n",
    "plt.plot(X_train, y_pred, color=\"blue\", linewidth=3)\n",
    "plt.xlabel('Nombre de commerces alimentaires')\n",
    "plt.ylabel('Note donnée par les habitants')\n",
    "plt.title(\"Une régression avec B2 en coupant l'échantillon\")\n",
    "plt.show()"
   ]
  },
  {
   "cell_type": "code",
   "execution_count": null,
   "id": "ef21d655-88dd-4649-83e7-659e59ac34f3",
   "metadata": {},
   "outputs": [],
   "source": [
    "# Split the data into training/testing sets\n",
    "Com3 = Com2.transpose()\n",
    "X_train, X_test, y_train, y_test = sklearn.model_selection.train_test_split(Com3, notes, test_size = 0.5)"
   ]
  },
  {
   "cell_type": "code",
   "execution_count": 25,
   "id": "fa9f3a05-6df4-4899-a6c6-8c92535ab9c3",
   "metadata": {},
   "outputs": [
    {
     "name": "stdout",
     "output_type": "stream",
     "text": [
      "                              0              1             2              3   \\\n",
      "1er arrondissement   4461.751686   49321.663984      0.000000   40894.753771   \n",
      "2e arrondissement       0.000000   65762.218645      0.000000   51118.442213   \n",
      "3e arrondissement    4461.751686   41101.386653   6970.848098   35782.909549   \n",
      "4e arrondissement       0.000000   73982.495975      0.000000   46006.597992   \n",
      "5e arrondissement       0.000000  131524.437289   6970.848098   51118.442213   \n",
      "6e arrondissement       0.000000  123304.159959      0.000000   40894.753771   \n",
      "7e arrondissement       0.000000  139744.714620   6970.848098   56230.286435   \n",
      "8e arrondissement       0.000000  164405.546612   6970.848098   71565.819099   \n",
      "9e arrondissement       0.000000  213727.210595   6970.848098   92013.195984   \n",
      "10e arrondissement      0.000000  230167.765256   6970.848098  127796.105533   \n",
      "11e arrondissement      0.000000  353471.925215  20912.544295  138019.793976   \n",
      "12e arrondissement      0.000000  246608.319918  27883.392393   86901.351763   \n",
      "13e arrondissement   8923.503372  394573.311868  13941.696196   97125.040205   \n",
      "14e arrondissement      0.000000  295929.983901  13941.696196   76677.663320   \n",
      "15e arrondissement  13385.255059  509657.194496  48795.936688  102236.884427   \n",
      "16e arrondissement   8923.503372  328811.093223  13941.696196  112460.572869   \n",
      "17e arrondissement   4461.751686  386353.034537   6970.848098  168690.859304   \n",
      "18e arrondissement      0.000000  353471.925215  34854.240491  127796.105533   \n",
      "19e arrondissement      0.000000  361692.202546  34854.240491  148243.482418   \n",
      "20e arrondissement   8923.503372  402793.589199  13941.696196   92013.195984   \n",
      "\n",
      "                               4              5              6             7   \\\n",
      "1er arrondissement   64177.438717  144063.266451   11975.660159   8406.798020   \n",
      "2e arrondissement    86639.542268  125107.573497   19959.433599   4203.399010   \n",
      "3e arrondissement   115519.389690  163018.959405    5987.830080   8406.798020   \n",
      "4e arrondissement    96266.158075  178183.513769   21955.376958      0.000000   \n",
      "5e arrondissement   205367.803894  250215.146994   33931.037118  12610.197029   \n",
      "6e arrondissement    96266.158075  219886.038268   27943.207038   8406.798020   \n",
      "7e arrondissement   125146.005498  276753.117130   35926.980478   8406.798020   \n",
      "8e arrondissement   195741.188087  246424.008403   31935.093758   6305.098515   \n",
      "9e arrondissement   269545.242611  284335.394311   45906.697277  10508.497525   \n",
      "10e arrondissement  503792.893928  318455.641629   91813.394554  14711.896534   \n",
      "11e arrondissement  490957.406184  443563.215126   85825.564474  21016.995049   \n",
      "12e arrondissement  317678.321649  470101.185262   85825.564474  16813.596039   \n",
      "13e arrondissement  253500.882932  363949.304719   77841.791035  18915.295544   \n",
      "14e arrondissement  240665.395188  375322.720491   75845.847675  16813.596039   \n",
      "15e arrondissement  449242.071018  644493.560439  119756.601592  31525.492574   \n",
      "16e arrondissement  256709.754868  356367.027537   73849.904315  14711.896534   \n",
      "17e arrondissement  449242.071018  485265.739625   91813.394554  23118.694554   \n",
      "18e arrondissement  985123.684305  542132.818487  167659.242228  18915.295544   \n",
      "19e arrondissement  449242.071018  352575.888946  113768.771512  14711.896534   \n",
      "20e arrondissement  516628.381671  454936.630898  107780.941433  16813.596039   \n",
      "\n",
      "                              8              9   ...            14  \\\n",
      "1er arrondissement      0.000000  124171.270064  ...  28899.437990   \n",
      "2e arrondissement    7484.755534  107238.824146  ...  20229.606593   \n",
      "3e arrondissement   11227.133301   76196.006630  ...  25046.179592   \n",
      "4e arrondissement   11227.133301  129815.418703  ...  18302.977394   \n",
      "5e arrondissement   14969.511068  265274.986045  ...  11559.775196   \n",
      "6e arrondissement   11227.133301  282207.431963  ...  35642.640188   \n",
      "7e arrondissement   11227.133301  146747.864621  ...  65505.392778   \n",
      "8e arrondissement   14969.511068  220121.796931  ...  78991.797174   \n",
      "9e arrondissement   22454.266602  228588.019890  ...  24082.864992   \n",
      "10e arrondissement  26196.644369  222943.871251  ...  22156.235793   \n",
      "11e arrondissement  14969.511068  220121.796931  ...  52018.988383   \n",
      "12e arrondissement  29939.022136  248342.540127  ...  52982.302982   \n",
      "13e arrondissement  11227.133301  160858.236219  ...   8669.831397   \n",
      "14e arrondissement  18711.888835  189078.979415  ...  23119.550392   \n",
      "15e arrondissement  18711.888835  270919.134684  ...  46239.100785   \n",
      "16e arrondissement  41166.155436  189078.979415  ...  62615.448979   \n",
      "17e arrondissement  44908.533203  206011.425333  ...  54908.932182   \n",
      "18e arrondissement  67362.799805  158036.161899  ...  23119.550392   \n",
      "19e arrondissement  18711.888835  129815.418703  ...  14449.718995   \n",
      "20e arrondissement   7484.755534  110060.898466  ...  19266.291994   \n",
      "\n",
      "                              15            16            17             18  \\\n",
      "1er arrondissement   9943.177267   2878.649350   9519.334504  115375.683617   \n",
      "2e arrondissement    4474.429770   7196.623374   6799.524645   60091.501884   \n",
      "3e arrondissement    6463.065224   5757.298699   8159.429575   52880.521658   \n",
      "4e arrondissement    8948.859541   4317.974024   2719.809858   86531.762712   \n",
      "5e arrondissement    3977.270907      0.000000  12239.144362   33651.241055   \n",
      "6e arrondissement    4971.588634  21589.870122   8159.429575   63696.991997   \n",
      "7e arrondissement    3480.112044  24468.519472  20398.573936   42064.051319   \n",
      "8e arrondissement   16406.242491  27347.168821  10879.239433  224742.217045   \n",
      "9e arrondissement    8451.700677   4317.974024  13599.049291  109366.533428   \n",
      "10e arrondissement   7457.382951   2878.649350  19038.669007  162247.055086   \n",
      "11e arrondissement  13920.448174  10075.272724  42157.052802   70907.972223   \n",
      "12e arrondissement  10937.494994   5757.298699  24478.288724   40862.221281   \n",
      "13e arrondissement  10440.336131   2878.649350  14958.954220   38458.561206   \n",
      "14e arrondissement   9943.177267   2878.649350  12239.144362   34853.071093   \n",
      "15e arrondissement  18394.877945  20150.545447  23118.383795   87733.592750   \n",
      "16e arrondissement   8451.700677  17271.896098  25838.193653   93742.742938   \n",
      "17e arrondissement  17400.560218  17271.896098  28558.003511   66100.652072   \n",
      "18e arrondissement   8451.700677   2878.649350  28558.003511  143017.774483   \n",
      "19e arrondissement   6463.065224   8635.948049   9519.334504   50476.861582   \n",
      "20e arrondissement   7954.541814      0.000000  20398.573936   39660.391243   \n",
      "\n",
      "                               19  20  21  22  23  \n",
      "1er arrondissement  163146.318543 NaN NaN NaN NaN  \n",
      "2e arrondissement    80213.606617 NaN NaN NaN NaN  \n",
      "3e arrondissement    70696.738035 NaN NaN NaN NaN  \n",
      "4e arrondissement    40786.579636 NaN NaN NaN NaN  \n",
      "5e arrondissement    13595.526545 NaN NaN NaN NaN  \n",
      "6e arrondissement    78854.053963 NaN NaN NaN NaN  \n",
      "7e arrondissement    55741.658836 NaN NaN NaN NaN  \n",
      "8e arrondissement   188977.818979 NaN NaN NaN NaN  \n",
      "9e arrondissement   108764.212362 NaN NaN NaN NaN  \n",
      "10e arrondissement   57101.211490 NaN NaN NaN NaN  \n",
      "11e arrondissement   25831.500436 NaN NaN NaN NaN  \n",
      "12e arrondissement   27191.053091 NaN NaN NaN NaN  \n",
      "13e arrondissement   32629.263709 NaN NaN NaN NaN  \n",
      "14e arrondissement   19033.737163 NaN NaN NaN NaN  \n",
      "15e arrondissement   72056.290690 NaN NaN NaN NaN  \n",
      "16e arrondissement   95168.685817 NaN NaN NaN NaN  \n",
      "17e arrondissement   70696.738035 NaN NaN NaN NaN  \n",
      "18e arrondissement   66618.080072 NaN NaN NaN NaN  \n",
      "19e arrondissement   19033.737163 NaN NaN NaN NaN  \n",
      "20e arrondissement   17674.184509 NaN NaN NaN NaN  \n",
      "\n",
      "[20 rows x 24 columns]\n"
     ]
    }
   ],
   "source": [
    "# Split the data into training/testing sets\n",
    "Commerces2 = Commerces.transpose()\n",
    "Commerces3 = Commerces2 / superficies\n",
    "print(Commerces3) # PROBLEME\n",
    "X_train, X_test, y_train, y_test = sklearn.model_selection.train_test_split(Commerces3, notes, test_size = 0.5)"
   ]
  },
  {
   "cell_type": "code",
   "execution_count": null,
   "id": "fa6fb369-4f9f-4e01-89ab-a7365b487477",
   "metadata": {},
   "outputs": [],
   "source": [
    "\"\"\" Copié sur Guilhem: à adapter !!!\n",
    "\n",
    "\n",
    "# Ajout des données de superficie au dataframe contenant le nombre de lieux culturels par arrondissement.\n",
    "\n",
    "NbLieux = NbLieux.to_frame().sort_values('CODE_POSTAL').reset_index()\n",
    "NbLieux['superficie'] = superficies.values\n",
    "NbLieux = NbLieux.rename(columns={'count':'nb_lieux'})\n",
    "\n",
    "\n",
    "\"\"\""
   ]
  },
  {
   "cell_type": "code",
   "execution_count": null,
   "id": "2f683193-ac3a-4793-820e-c872c7c9d812",
   "metadata": {},
   "outputs": [],
   "source": [
    "\"\"\"\n",
    "# Création d'une colonne contenant les densités des lieux culturels \n",
    "NbLieux.nb_lieux = NbLieux.nb_lieux.astype('float64')\n",
    "NbLieux['densite_culture'] = NbLieux.nb_lieux / NbLieux.superficie\n",
    "\"\"\""
   ]
  },
  {
   "cell_type": "code",
   "execution_count": null,
   "id": "a7248092-8af1-4f5e-8a42-19803d11ccc6",
   "metadata": {},
   "outputs": [],
   "source": [
    "\"\"\"\n",
    "\n",
    "display(NbLieux.sort_values('densite_culture', ascending=False))\n",
    "\n",
    "\"\"\""
   ]
  },
  {
   "cell_type": "code",
   "execution_count": null,
   "id": "0987fd1b-b0b7-4ce5-8bb4-149f29b9ea3f",
   "metadata": {},
   "outputs": [],
   "source": [
    "from cartiflette.s3 import download_vectorfile_url_all\n",
    "\n",
    "'''Let's download the geographical data of Paris to create its map'''\n",
    "Paris_borders = download_vectorfile_url_all(crs = 4326,values = [\"75\"],borders=\"COMMUNE_ARRONDISSEMENT\",vectorfile_format=\"topojson\",filter_by=\"DEPARTEMENT\",source=\"EXPRESS-COG-CARTO-TERRITOIRE\",year=2022)"
   ]
  },
  {
   "cell_type": "markdown",
   "id": "82799459-c777-4113-9457-74e1e9beabba",
   "metadata": {},
   "source": [
    "## IV- Étude de l'enseignement"
   ]
  },
  {
   "cell_type": "markdown",
   "id": "d7ceb34f-a929-4a48-9939-141b04c0c1d4",
   "metadata": {},
   "source": [
    "Nous nous intéressons ici à la catégorie C dans le fichier bpeParis.csv"
   ]
  },
  {
   "cell_type": "code",
   "execution_count": 47,
   "id": "ff2da259-d31e-4e24-ba61-58ac88359adc",
   "metadata": {},
   "outputs": [],
   "source": [
    "# Number of \"Lycées\" (C3) by arrondissement\n",
    "\n",
    "# Concerning the 1st arrondissement of Paris\n",
    "n1 = 0 # Number initialized\n",
    "for iris in dicIRIS['Paris 1er Arrondissement']:\n",
    "    col = BPE[(BPE['DCIRIS'] == iris) & (BPE['SDOM'] == 'C3')]\n",
    "    n1 += len(col) # number of lines\n",
    "\n",
    "# Concerning the rest of the arrondissements\n",
    "dicC3 = {'1er Arrondissement': n1}\n",
    "n = 0\n",
    "for i in range(2,21):\n",
    "    key_arr = 'Paris ' + str(i) + 'e Arrondissement'\n",
    "    for iris in dicIRIS[key_arr]:\n",
    "        col = BPE[(BPE['DCIRIS'] == iris) & (BPE['SDOM'] == 'C3')]\n",
    "        n += len(col)\n",
    "    dicC3[str(i) + 'e Arrondissement'] = n\n",
    "    n = 0\n",
    "\n",
    "# We obtain a dictionary with the name of the arrondissement as a key \n",
    "# and the number of \"Lycées\" as a value"
   ]
  },
  {
   "cell_type": "code",
   "execution_count": 48,
   "id": "30e11e3d-f87c-4a18-be0d-4547005b04d6",
   "metadata": {},
   "outputs": [
    {
     "data": {
      "image/png": "[encoded data removed]",
      "text/plain": [
       "<Figure size 640x480 with 1 Axes>"
      ]
     },
     "metadata": {},
     "output_type": "display_data"
    }
   ],
   "source": [
    "# Trying to make a regression with only C3\n",
    "listC3 = pd.DataFrame(dicC3.values())\n",
    "reg = LinearRegression().fit(listC3, notes)\n",
    "y_pred = reg.predict(listC3)\n",
    "\n",
    "plt.scatter(listC3, notes, color=\"black\")\n",
    "plt.plot(listC3, y_pred, color=\"blue\", linewidth=3)\n",
    "plt.xlabel('Nombre de lycées')\n",
    "plt.ylabel('Note donnée par les habitants')\n",
    "plt.title('Une régression avec C3')\n",
    "plt.show()"
   ]
  },
  {
   "cell_type": "code",
   "execution_count": null,
   "id": "d1fc02ac-c908-4aed-a008-c8ce48948404",
   "metadata": {},
   "outputs": [],
   "source": [
    "# More precisely, we want to have the number of each type of equipments whose field is B, i.e. \"commerces\", for each arrondissement\n",
    "# To obtain this, we will create a csv file\n",
    "\n",
    "# Concerning the 1st arrondissement of Paris\n",
    "n1 = 0 # Number initialized\n",
    "listType = ['C101', 'C102', 'C104', 'C105', 'C201', 'C301', 'C302', 'C303', 'C304', 'C305', 'C401', 'B307', 'B308', 'B309', 'B310', 'B311', 'B312', 'B313', 'B314', 'B315', 'B316']\n",
    "##### Please find a list somewhere\n",
    "list1 = []\n",
    "for type in listType:\n",
    "    for iris in dicIRIS['Paris 1er Arrondissement']:\n",
    "        col = BPE[(BPE['DCIRIS'] == iris) & (BPE['TYPEQU'] == type)]\n",
    "        n1 += len(col) # number of lines\n",
    "    list1.append(n1)\n",
    "    n1 = 0\n",
    "\n",
    "# Concerning the rest of the arrondissements\n",
    "dicB = {'1er Arrondissement': list1}\n",
    "n = 0\n",
    "for arr in range(2,21):\n",
    "    key_arr = 'Paris ' + str(arr) + 'e Arrondissement'\n",
    "    listBType = []\n",
    "    for type in listType:\n",
    "        for iris in dicIRIS[key_arr]:\n",
    "            col = BPE[(BPE['DCIRIS'] == iris) & (BPE['TYPEQU'] == type)]\n",
    "            n += len(col)\n",
    "        listBType.append(n)\n",
    "        n = 0\n",
    "    dicB[str(arr) + 'e Arrondissement'] = listBType\n",
    "\n",
    "Commerces_precis = pd.DataFrame(dicB)\n",
    "Commerces_precis.set_axis(listType, axis = 0)\n",
    "Commerces_precis.to_csv(path_or_buf = 'data/Commerces.csv', index = False)\n",
    "\n",
    "# Each row is one type of equipment"
   ]
  },
  {
   "cell_type": "markdown",
   "id": "4a5de4fc-3cc2-45fd-936a-64599e02069a",
   "metadata": {},
   "source": [
    "## V- Étude de la santé"
   ]
  },
  {
   "cell_type": "markdown",
   "id": "a6bceab6-3ad9-4cf9-9035-cbc50419c9b2",
   "metadata": {},
   "source": [
    "Nous nous intéressons ici à la catégorie D dans le fichier bpeParis.csv"
   ]
  },
  {
   "cell_type": "code",
   "execution_count": null,
   "id": "845f139e-cb67-41e6-a583-4776e926b056",
   "metadata": {},
   "outputs": [],
   "source": []
  },
  {
   "cell_type": "markdown",
   "id": "f4186553-7ab2-4e74-850e-db277ffd05b0",
   "metadata": {},
   "source": [
    "## VI- Étude des transports"
   ]
  },
  {
   "cell_type": "markdown",
   "id": "08e0db12-ab1a-4708-9229-5884e57949b5",
   "metadata": {},
   "source": [
    "Nous nous intéressons ici à la catégorie E dans le fichier bpeParis.csv"
   ]
  },
  {
   "cell_type": "code",
   "execution_count": null,
   "id": "b8d4a539-11c4-4e36-8123-4666c158895c",
   "metadata": {},
   "outputs": [],
   "source": []
  }
 ],
 "metadata": {
  "kernelspec": {
   "display_name": "Python 3 (ipykernel)",
   "language": "python",
   "name": "python3"
  },
  "language_info": {
   "codemirror_mode": {
    "name": "ipython",
    "version": 3
   },
   "file_extension": ".py",
   "mimetype": "text/x-python",
   "name": "python",
   "nbconvert_exporter": "python",
   "pygments_lexer": "ipython3",
   "version": "3.10.13"
  }
 },
 "nbformat": 4,
 "nbformat_minor": 5
}
