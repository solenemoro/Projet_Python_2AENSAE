{
 "cells": [
  {
   "cell_type": "markdown",
   "id": "621e13a5-03bc-4255-b4f4-e87302d277e3",
   "metadata": {},
   "source": [
    "# Étude du lien entre les notes attribuées et la présence d'équipements"
   ]
  },
  {
   "cell_type": "markdown",
   "id": "cc9d30c0-6e55-4222-a263-eac524872a02",
   "metadata": {},
   "source": [
    "## I- Import des données"
   ]
  },
  {
   "cell_type": "code",
   "execution_count": 1,
   "id": "96707707-bdf2-47bd-85d5-e23660d21ec0",
   "metadata": {},
   "outputs": [
    {
     "name": "stdout",
     "output_type": "stream",
     "text": [
      "Collecting openpyxl\n",
      "  Downloading openpyxl-3.1.2-py2.py3-none-any.whl (249 kB)\n",
      "\u001b[2K     \u001b[90m━━━━━━━━━━━━━━━━━━━━━━━━━━━━━━━━━━━━━━\u001b[0m \u001b[32m250.0/250.0 kB\u001b[0m \u001b[31m22.1 MB/s\u001b[0m eta \u001b[36m0:00:00\u001b[0m\n",
      "\u001b[?25hCollecting et-xmlfile (from openpyxl)\n",
      "  Downloading et_xmlfile-1.1.0-py3-none-any.whl (4.7 kB)\n",
      "Installing collected packages: et-xmlfile, openpyxl\n",
      "Successfully installed et-xmlfile-1.1.0 openpyxl-3.1.2\n",
      "Collecting git+https://github.com/inseefrlab/cartiflette@80b8a5a28371feb6df31d55bcc2617948a5f9b1a\n",
      "  Cloning https://github.com/inseefrlab/cartiflette (to revision 80b8a5a28371feb6df31d55bcc2617948a5f9b1a) to /tmp/pip-req-build-ge0hu4ap\n",
      "  Running command git clone --filter=blob:none --quiet https://github.com/inseefrlab/cartiflette /tmp/pip-req-build-ge0hu4ap\n",
      "  Running command git rev-parse -q --verify 'sha^80b8a5a28371feb6df31d55bcc2617948a5f9b1a'\n",
      "  Running command git fetch -q https://github.com/inseefrlab/cartiflette 80b8a5a28371feb6df31d55bcc2617948a5f9b1a\n",
      "  Running command git checkout -q 80b8a5a28371feb6df31d55bcc2617948a5f9b1a\n",
      "  Resolved https://github.com/inseefrlab/cartiflette to commit 80b8a5a28371feb6df31d55bcc2617948a5f9b1a\n",
      "  Installing build dependencies ... \u001b[?25ldone\n",
      "\u001b[?25h  Getting requirements to build wheel ... \u001b[?25ldone\n",
      "\u001b[?25h  Preparing metadata (pyproject.toml) ... \u001b[?25ldone\n",
      "\u001b[?25hRequirement already satisfied: PyYAML<7.0,>=6.0 in /opt/mamba/lib/python3.10/site-packages (from cartiflette==0.0.1) (6.0.1)\n",
      "Collecting appdirs<2.0.0,>=1.4.4 (from cartiflette==0.0.1)\n",
      "  Downloading appdirs-1.4.4-py2.py3-none-any.whl (9.6 kB)\n",
      "Collecting geopandas<0.13.0,>=0.12.2 (from cartiflette==0.0.1)\n",
      "  Downloading geopandas-0.12.2-py3-none-any.whl (1.1 MB)\n",
      "\u001b[2K     \u001b[90m━━━━━━━━━━━━━━━━━━━━━━━━━━━━━━━━━━━━━━━━\u001b[0m \u001b[32m1.1/1.1 MB\u001b[0m \u001b[31m49.8 MB/s\u001b[0m eta \u001b[36m0:00:00\u001b[0m\n",
      "\u001b[?25hRequirement already satisfied: matplotlib<4.0.0,>=3.7.1 in /opt/mamba/lib/python3.10/site-packages (from cartiflette==0.0.1) (3.8.2)\n",
      "Requirement already satisfied: openpyxl<4.0.0,>=3.1.1 in /opt/mamba/lib/python3.10/site-packages (from cartiflette==0.0.1) (3.1.2)\n",
      "Collecting owslib<0.29.0,>=0.28.1 (from cartiflette==0.0.1)\n",
      "  Downloading OWSLib-0.28.1-py2.py3-none-any.whl (219 kB)\n",
      "\u001b[2K     \u001b[90m━━━━━━━━━━━━━━━━━━━━━━━━━━━━━━━━━━━━━━\u001b[0m \u001b[32m219.6/219.6 kB\u001b[0m \u001b[31m22.6 MB/s\u001b[0m eta \u001b[36m0:00:00\u001b[0m\n",
      "\u001b[?25hCollecting py7zr<0.21.0,>=0.20.4 (from cartiflette==0.0.1)\n",
      "  Downloading py7zr-0.20.8-py3-none-any.whl.metadata (16 kB)\n",
      "Requirement already satisfied: requests<3.0.0,>=2.28.2 in /opt/mamba/lib/python3.10/site-packages (from cartiflette==0.0.1) (2.31.0)\n",
      "Collecting s3fs<2024.0.0,>=2023.3.0 (from cartiflette==0.0.1)\n",
      "  Downloading s3fs-2023.12.2-py3-none-any.whl.metadata (1.6 kB)\n",
      "Collecting topojson<2.0,>=1.5 (from cartiflette==0.0.1)\n",
      "  Downloading topojson-1.7-py2.py3-none-any.whl.metadata (3.8 kB)\n",
      "Requirement already satisfied: tqdm<5.0.0,>=4.65.0 in /opt/mamba/lib/python3.10/site-packages (from cartiflette==0.0.1) (4.66.1)\n",
      "Collecting xlrd<3.0.0,>=2.0.1 (from cartiflette==0.0.1)\n",
      "  Downloading xlrd-2.0.1-py2.py3-none-any.whl (96 kB)\n",
      "\u001b[2K     \u001b[90m━━━━━━━━━━━━━━━━━━━━━━━━━━━━━━━━━━━━━━━━\u001b[0m \u001b[32m96.5/96.5 kB\u001b[0m \u001b[31m1.8 MB/s\u001b[0m eta \u001b[36m0:00:00\u001b[0ma \u001b[36m0:00:01\u001b[0m\n",
      "\u001b[?25hRequirement already satisfied: pandas>=1.0.0 in /opt/mamba/lib/python3.10/site-packages (from geopandas<0.13.0,>=0.12.2->cartiflette==0.0.1) (2.1.4)\n",
      "Requirement already satisfied: shapely>=1.7 in /opt/mamba/lib/python3.10/site-packages (from geopandas<0.13.0,>=0.12.2->cartiflette==0.0.1) (2.0.2)\n",
      "Requirement already satisfied: fiona>=1.8 in /opt/mamba/lib/python3.10/site-packages (from geopandas<0.13.0,>=0.12.2->cartiflette==0.0.1) (1.9.3)\n",
      "Requirement already satisfied: pyproj>=2.6.1.post1 in /opt/mamba/lib/python3.10/site-packages (from geopandas<0.13.0,>=0.12.2->cartiflette==0.0.1) (3.6.1)\n",
      "Requirement already satisfied: packaging in /opt/mamba/lib/python3.10/site-packages (from geopandas<0.13.0,>=0.12.2->cartiflette==0.0.1) (23.1)\n",
      "Requirement already satisfied: contourpy>=1.0.1 in /opt/mamba/lib/python3.10/site-packages (from matplotlib<4.0.0,>=3.7.1->cartiflette==0.0.1) (1.2.0)\n",
      "Requirement already satisfied: cycler>=0.10 in /opt/mamba/lib/python3.10/site-packages (from matplotlib<4.0.0,>=3.7.1->cartiflette==0.0.1) (0.12.1)\n",
      "Requirement already satisfied: fonttools>=4.22.0 in /opt/mamba/lib/python3.10/site-packages (from matplotlib<4.0.0,>=3.7.1->cartiflette==0.0.1) (4.47.0)\n",
      "Requirement already satisfied: kiwisolver>=1.3.1 in /opt/mamba/lib/python3.10/site-packages (from matplotlib<4.0.0,>=3.7.1->cartiflette==0.0.1) (1.4.5)\n",
      "Requirement already satisfied: numpy<2,>=1.21 in /opt/mamba/lib/python3.10/site-packages (from matplotlib<4.0.0,>=3.7.1->cartiflette==0.0.1) (1.26.2)\n",
      "Requirement already satisfied: pillow>=8 in /opt/mamba/lib/python3.10/site-packages (from matplotlib<4.0.0,>=3.7.1->cartiflette==0.0.1) (10.1.0)\n",
      "Requirement already satisfied: pyparsing>=2.3.1 in /opt/mamba/lib/python3.10/site-packages (from matplotlib<4.0.0,>=3.7.1->cartiflette==0.0.1) (3.1.1)\n",
      "Requirement already satisfied: python-dateutil>=2.7 in /opt/mamba/lib/python3.10/site-packages (from matplotlib<4.0.0,>=3.7.1->cartiflette==0.0.1) (2.8.2)\n",
      "Requirement already satisfied: et-xmlfile in /opt/mamba/lib/python3.10/site-packages (from openpyxl<4.0.0,>=3.1.1->cartiflette==0.0.1) (1.1.0)\n",
      "Collecting lxml (from owslib<0.29.0,>=0.28.1->cartiflette==0.0.1)\n",
      "  Downloading lxml-4.9.4-cp310-cp310-manylinux_2_28_x86_64.whl.metadata (3.7 kB)\n",
      "Requirement already satisfied: pytz in /opt/mamba/lib/python3.10/site-packages (from owslib<0.29.0,>=0.28.1->cartiflette==0.0.1) (2023.3.post1)\n",
      "Collecting texttable (from py7zr<0.21.0,>=0.20.4->cartiflette==0.0.1)\n",
      "  Downloading texttable-1.7.0-py2.py3-none-any.whl.metadata (9.8 kB)\n",
      "Collecting pycryptodomex>=3.16.0 (from py7zr<0.21.0,>=0.20.4->cartiflette==0.0.1)\n",
      "  Downloading pycryptodomex-3.19.1-cp35-abi3-manylinux_2_17_x86_64.manylinux2014_x86_64.whl.metadata (3.4 kB)\n",
      "Collecting pyzstd>=0.15.9 (from py7zr<0.21.0,>=0.20.4->cartiflette==0.0.1)\n",
      "  Downloading pyzstd-0.15.9-cp310-cp310-manylinux_2_17_x86_64.manylinux2014_x86_64.whl.metadata (7.5 kB)\n",
      "Collecting pyppmd<1.2.0,>=1.1.0 (from py7zr<0.21.0,>=0.20.4->cartiflette==0.0.1)\n",
      "  Downloading pyppmd-1.1.0-cp310-cp310-manylinux_2_17_x86_64.manylinux2014_x86_64.whl.metadata (5.7 kB)\n",
      "Collecting pybcj<1.1.0,>=1.0.0 (from py7zr<0.21.0,>=0.20.4->cartiflette==0.0.1)\n",
      "  Downloading pybcj-1.0.2-cp310-cp310-manylinux_2_17_x86_64.manylinux2014_x86_64.whl.metadata (4.0 kB)\n",
      "Collecting multivolumefile>=0.2.3 (from py7zr<0.21.0,>=0.20.4->cartiflette==0.0.1)\n",
      "  Downloading multivolumefile-0.2.3-py3-none-any.whl (17 kB)\n",
      "Collecting inflate64<1.1.0,>=1.0.0 (from py7zr<0.21.0,>=0.20.4->cartiflette==0.0.1)\n",
      "  Downloading inflate64-1.0.0-cp310-cp310-manylinux_2_17_x86_64.manylinux2014_x86_64.whl.metadata (4.0 kB)\n",
      "Requirement already satisfied: brotli>=1.1.0 in /opt/mamba/lib/python3.10/site-packages (from py7zr<0.21.0,>=0.20.4->cartiflette==0.0.1) (1.1.0)\n",
      "Requirement already satisfied: psutil in /opt/mamba/lib/python3.10/site-packages (from py7zr<0.21.0,>=0.20.4->cartiflette==0.0.1) (5.9.7)\n",
      "Requirement already satisfied: charset-normalizer<4,>=2 in /opt/mamba/lib/python3.10/site-packages (from requests<3.0.0,>=2.28.2->cartiflette==0.0.1) (3.2.0)\n",
      "Requirement already satisfied: idna<4,>=2.5 in /opt/mamba/lib/python3.10/site-packages (from requests<3.0.0,>=2.28.2->cartiflette==0.0.1) (3.4)\n",
      "Requirement already satisfied: urllib3<3,>=1.21.1 in /opt/mamba/lib/python3.10/site-packages (from requests<3.0.0,>=2.28.2->cartiflette==0.0.1) (1.26.18)\n",
      "Requirement already satisfied: certifi>=2017.4.17 in /opt/mamba/lib/python3.10/site-packages (from requests<3.0.0,>=2.28.2->cartiflette==0.0.1) (2023.11.17)\n",
      "Collecting aiobotocore<3.0.0,>=2.5.4 (from s3fs<2024.0.0,>=2023.3.0->cartiflette==0.0.1)\n",
      "  Downloading aiobotocore-2.9.0-py3-none-any.whl.metadata (20 kB)\n",
      "Requirement already satisfied: fsspec==2023.12.2 in /opt/mamba/lib/python3.10/site-packages (from s3fs<2024.0.0,>=2023.3.0->cartiflette==0.0.1) (2023.12.2)\n",
      "Requirement already satisfied: aiohttp!=4.0.0a0,!=4.0.0a1 in /opt/mamba/lib/python3.10/site-packages (from s3fs<2024.0.0,>=2023.3.0->cartiflette==0.0.1) (3.9.1)\n",
      "Collecting botocore<1.33.14,>=1.33.2 (from aiobotocore<3.0.0,>=2.5.4->s3fs<2024.0.0,>=2023.3.0->cartiflette==0.0.1)\n",
      "  Downloading botocore-1.33.13-py3-none-any.whl.metadata (6.1 kB)\n",
      "Collecting wrapt<2.0.0,>=1.10.10 (from aiobotocore<3.0.0,>=2.5.4->s3fs<2024.0.0,>=2023.3.0->cartiflette==0.0.1)\n",
      "  Downloading wrapt-1.16.0-cp310-cp310-manylinux_2_5_x86_64.manylinux1_x86_64.manylinux_2_17_x86_64.manylinux2014_x86_64.whl.metadata (6.6 kB)\n",
      "Collecting aioitertools<1.0.0,>=0.5.1 (from aiobotocore<3.0.0,>=2.5.4->s3fs<2024.0.0,>=2023.3.0->cartiflette==0.0.1)\n",
      "  Downloading aioitertools-0.11.0-py3-none-any.whl (23 kB)\n",
      "Requirement already satisfied: attrs>=17.3.0 in /opt/mamba/lib/python3.10/site-packages (from aiohttp!=4.0.0a0,!=4.0.0a1->s3fs<2024.0.0,>=2023.3.0->cartiflette==0.0.1) (23.1.0)\n",
      "Requirement already satisfied: multidict<7.0,>=4.5 in /opt/mamba/lib/python3.10/site-packages (from aiohttp!=4.0.0a0,!=4.0.0a1->s3fs<2024.0.0,>=2023.3.0->cartiflette==0.0.1) (6.0.4)\n",
      "Requirement already satisfied: yarl<2.0,>=1.0 in /opt/mamba/lib/python3.10/site-packages (from aiohttp!=4.0.0a0,!=4.0.0a1->s3fs<2024.0.0,>=2023.3.0->cartiflette==0.0.1) (1.9.3)\n",
      "Requirement already satisfied: frozenlist>=1.1.1 in /opt/mamba/lib/python3.10/site-packages (from aiohttp!=4.0.0a0,!=4.0.0a1->s3fs<2024.0.0,>=2023.3.0->cartiflette==0.0.1) (1.4.1)\n",
      "Requirement already satisfied: aiosignal>=1.1.2 in /opt/mamba/lib/python3.10/site-packages (from aiohttp!=4.0.0a0,!=4.0.0a1->s3fs<2024.0.0,>=2023.3.0->cartiflette==0.0.1) (1.3.1)\n",
      "Requirement already satisfied: async-timeout<5.0,>=4.0 in /opt/mamba/lib/python3.10/site-packages (from aiohttp!=4.0.0a0,!=4.0.0a1->s3fs<2024.0.0,>=2023.3.0->cartiflette==0.0.1) (4.0.3)\n",
      "Requirement already satisfied: click~=8.0 in /opt/mamba/lib/python3.10/site-packages (from fiona>=1.8->geopandas<0.13.0,>=0.12.2->cartiflette==0.0.1) (8.1.7)\n",
      "Requirement already satisfied: click-plugins>=1.0 in /opt/mamba/lib/python3.10/site-packages (from fiona>=1.8->geopandas<0.13.0,>=0.12.2->cartiflette==0.0.1) (1.1.1)\n",
      "Requirement already satisfied: cligj>=0.5 in /opt/mamba/lib/python3.10/site-packages (from fiona>=1.8->geopandas<0.13.0,>=0.12.2->cartiflette==0.0.1) (0.7.2)\n",
      "Requirement already satisfied: munch>=2.3.2 in /opt/mamba/lib/python3.10/site-packages (from fiona>=1.8->geopandas<0.13.0,>=0.12.2->cartiflette==0.0.1) (4.0.0)\n",
      "Requirement already satisfied: tzdata>=2022.1 in /opt/mamba/lib/python3.10/site-packages (from pandas>=1.0.0->geopandas<0.13.0,>=0.12.2->cartiflette==0.0.1) (2023.3)\n",
      "Requirement already satisfied: six>=1.5 in /opt/mamba/lib/python3.10/site-packages (from python-dateutil>=2.7->matplotlib<4.0.0,>=3.7.1->cartiflette==0.0.1) (1.16.0)\n",
      "Requirement already satisfied: jmespath<2.0.0,>=0.7.1 in /opt/mamba/lib/python3.10/site-packages (from botocore<1.33.14,>=1.33.2->aiobotocore<3.0.0,>=2.5.4->s3fs<2024.0.0,>=2023.3.0->cartiflette==0.0.1) (1.0.1)\n",
      "Downloading py7zr-0.20.8-py3-none-any.whl (67 kB)\n",
      "\u001b[2K   \u001b[90m━━━━━━━━━━━━━━━━━━━━━━━━━━━━━━━━━━━━━━━━\u001b[0m \u001b[32m67.0/67.0 kB\u001b[0m \u001b[31m17.5 MB/s\u001b[0m eta \u001b[36m0:00:00\u001b[0m\n",
      "\u001b[?25hDownloading s3fs-2023.12.2-py3-none-any.whl (28 kB)\n",
      "Downloading topojson-1.7-py2.py3-none-any.whl (82 kB)\n",
      "\u001b[2K   \u001b[90m━━━━━━━━━━━━━━━━━━━━━━━━━━━━━━━━━━━━━━━━\u001b[0m \u001b[32m82.1/82.1 kB\u001b[0m \u001b[31m12.2 MB/s\u001b[0m eta \u001b[36m0:00:00\u001b[0m\n",
      "\u001b[?25hDownloading aiobotocore-2.9.0-py3-none-any.whl (75 kB)\n",
      "\u001b[2K   \u001b[90m━━━━━━━━━━━━━━━━━━━━━━━━━━━━━━━━━━━━━━━━\u001b[0m \u001b[32m76.0/76.0 kB\u001b[0m \u001b[31m13.6 MB/s\u001b[0m eta \u001b[36m0:00:00\u001b[0m\n",
      "\u001b[?25hDownloading inflate64-1.0.0-cp310-cp310-manylinux_2_17_x86_64.manylinux2014_x86_64.whl (93 kB)\n",
      "\u001b[2K   \u001b[90m━━━━━━━━━━━━━━━━━━━━━━━━━━━━━━━━━━━━━━━━\u001b[0m \u001b[32m93.1/93.1 kB\u001b[0m \u001b[31m16.5 MB/s\u001b[0m eta \u001b[36m0:00:00\u001b[0m\n",
      "\u001b[?25hDownloading pybcj-1.0.2-cp310-cp310-manylinux_2_17_x86_64.manylinux2014_x86_64.whl (49 kB)\n",
      "\u001b[2K   \u001b[90m━━━━━━━━━━━━━━━━━━━━━━━━━━━━━━━━━━━━━━━━\u001b[0m \u001b[32m49.7/49.7 kB\u001b[0m \u001b[31m10.8 MB/s\u001b[0m eta \u001b[36m0:00:00\u001b[0m\n",
      "\u001b[?25hDownloading pycryptodomex-3.19.1-cp35-abi3-manylinux_2_17_x86_64.manylinux2014_x86_64.whl (2.1 MB)\n",
      "\u001b[2K   \u001b[90m━━━━━━━━━━━━━━━━━━━━━━━━━━━━━━━━━━━━━━━━\u001b[0m \u001b[32m2.1/2.1 MB\u001b[0m \u001b[31m41.1 MB/s\u001b[0m eta \u001b[36m0:00:00\u001b[0ma \u001b[36m0:00:01\u001b[0m\n",
      "\u001b[?25hDownloading pyppmd-1.1.0-cp310-cp310-manylinux_2_17_x86_64.manylinux2014_x86_64.whl (138 kB)\n",
      "\u001b[2K   \u001b[90m━━━━━━━━━━━━━━━━━━━━━━━━━━━━━━━━━━━━━━━━\u001b[0m \u001b[32m138.9/138.9 kB\u001b[0m \u001b[31m30.8 MB/s\u001b[0m eta \u001b[36m0:00:00\u001b[0m\n",
      "\u001b[?25hDownloading pyzstd-0.15.9-cp310-cp310-manylinux_2_17_x86_64.manylinux2014_x86_64.whl (412 kB)\n",
      "\u001b[2K   \u001b[90m━━━━━━━━━━━━━━━━━━━━━━━━━━━━━━━━━━━━━━━━\u001b[0m \u001b[32m412.3/412.3 kB\u001b[0m \u001b[31m46.6 MB/s\u001b[0m eta \u001b[36m0:00:00\u001b[0m\n",
      "\u001b[?25hDownloading lxml-4.9.4-cp310-cp310-manylinux_2_28_x86_64.whl (7.9 MB)\n",
      "\u001b[2K   \u001b[90m━━━━━━━━━━━━━━━━━━━━━━━━━━━━━━━━━━━━━━━━\u001b[0m \u001b[32m7.9/7.9 MB\u001b[0m \u001b[31m61.1 MB/s\u001b[0m eta \u001b[36m0:00:00\u001b[0m00:01\u001b[0m00:01\u001b[0m\n",
      "\u001b[?25hDownloading texttable-1.7.0-py2.py3-none-any.whl (10 kB)\n",
      "Downloading botocore-1.33.13-py3-none-any.whl (11.8 MB)\n",
      "\u001b[2K   \u001b[90m━━━━━━━━━━━━━━━━━━━━━━━━━━━━━━━━━━━━━━━━\u001b[0m \u001b[32m11.8/11.8 MB\u001b[0m \u001b[31m92.2 MB/s\u001b[0m eta \u001b[36m0:00:00\u001b[0m:00:01\u001b[0m0:01\u001b[0m\n",
      "\u001b[?25hDownloading wrapt-1.16.0-cp310-cp310-manylinux_2_5_x86_64.manylinux1_x86_64.manylinux_2_17_x86_64.manylinux2014_x86_64.whl (80 kB)\n",
      "\u001b[2K   \u001b[90m━━━━━━━━━━━━━━━━━━━━━━━━━━━━━━━━━━━━━━━━\u001b[0m \u001b[32m80.3/80.3 kB\u001b[0m \u001b[31m21.0 MB/s\u001b[0m eta \u001b[36m0:00:00\u001b[0m\n",
      "\u001b[?25hBuilding wheels for collected packages: cartiflette\n",
      "  Building wheel for cartiflette (pyproject.toml) ... \u001b[?25ldone\n",
      "\u001b[?25h  Created wheel for cartiflette: filename=cartiflette-0.0.1-py3-none-any.whl size=33970 sha256=485fd682c2b6cbea8426492e8f3110d9305a95b0327185b9b236b9bd12cbd10c\n",
      "  Stored in directory: /home/onyxia/.cache/pip/wheels/d8/e2/0f/69d93504f90599fad135cc8d8c9cdc5c2d26eaacfafd18c305\n",
      "Successfully built cartiflette\n",
      "Installing collected packages: texttable, appdirs, xlrd, wrapt, pyzstd, pyppmd, pycryptodomex, pybcj, multivolumefile, lxml, inflate64, aioitertools, topojson, py7zr, owslib, botocore, geopandas, aiobotocore, s3fs, cartiflette\n",
      "  Attempting uninstall: botocore\n",
      "    Found existing installation: botocore 1.34.7\n",
      "    Uninstalling botocore-1.34.7:\n",
      "      Successfully uninstalled botocore-1.34.7\n",
      "  Attempting uninstall: geopandas\n",
      "    Found existing installation: geopandas 0.14.1\n",
      "    Uninstalling geopandas-0.14.1:\n",
      "      Successfully uninstalled geopandas-0.14.1\n",
      "  Attempting uninstall: s3fs\n",
      "    Found existing installation: s3fs 0.4.2\n",
      "    Uninstalling s3fs-0.4.2:\n",
      "      Successfully uninstalled s3fs-0.4.2\n",
      "\u001b[31mERROR: pip's dependency resolver does not currently take into account all the packages that are installed. This behaviour is the source of the following dependency conflicts.\n",
      "boto3 1.34.7 requires botocore<1.35.0,>=1.34.7, but you have botocore 1.33.13 which is incompatible.\u001b[0m\u001b[31m\n",
      "\u001b[0mSuccessfully installed aiobotocore-2.9.0 aioitertools-0.11.0 appdirs-1.4.4 botocore-1.33.13 cartiflette-0.0.1 geopandas-0.12.2 inflate64-1.0.0 lxml-4.9.4 multivolumefile-0.2.3 owslib-0.28.1 py7zr-0.20.8 pybcj-1.0.2 pycryptodomex-3.19.1 pyppmd-1.1.0 pyzstd-0.15.9 s3fs-2023.12.2 texttable-1.7.0 topojson-1.7 wrapt-1.16.0 xlrd-2.0.1\n"
     ]
    }
   ],
   "source": [
    "!pip install openpyxl\n",
    "!pip install git+https://github.com/inseefrlab/cartiflette@80b8a5a28371feb6df31d55bcc2617948a5f9b1a\n",
    "import pandas as pd\n",
    "import requests\n",
    "import io\n",
    "import zipfile\n",
    "import sklearn\n",
    "from sklearn.linear_model import LinearRegression\n",
    "import numpy as np\n",
    "import matplotlib.pyplot as plt\n",
    "import os\n",
    "import cartiflette.s3 as s3"
   ]
  },
  {
   "cell_type": "markdown",
   "id": "d5010d3c-4145-4049-a3bb-7376b6020878",
   "metadata": {},
   "source": [
    "Nous commençons par télécharger les données relatives à divers équipements dans l'ensemble de la France, données issues de la base permanente des équipements (BPE) fournie par l'Insee."
   ]
  },
  {
   "cell_type": "code",
   "execution_count": 2,
   "id": "461f2db2-ecb2-48d8-b4dc-3b8f0a42a2db",
   "metadata": {},
   "outputs": [],
   "source": [
    "# Reading the Zipfile with information about equipments in 2021\n",
    "url = 'https://www.insee.fr/fr/statistiques/fichier/3568638/bpe21_ensemble_xy_csv.zip'\n",
    "r = requests.get(url)\n",
    "z = zipfile.ZipFile(io.BytesIO(r.content))\n",
    "z.extractall()\n",
    "\n",
    "# Two csv files are obtained"
   ]
  },
  {
   "cell_type": "code",
   "execution_count": 3,
   "id": "48a44acd-9a65-44c3-b772-a20598ec8f75",
   "metadata": {},
   "outputs": [],
   "source": [
    "# Reading the file with information about equipments\n",
    "dicType = {'BV2012': str, 'DCIRIS': str, 'DEP': str, 'DEPCOM': str, 'DOM': str, 'EPCI': str, 'SDOM': str}\n",
    "BPE = pd.read_csv('bpe21_ensemble_xy.csv', sep=\";\", dtype = dicType)"
   ]
  },
  {
   "cell_type": "markdown",
   "id": "2f748ade-fd8e-4f9c-bfe5-18f9dbf623ca",
   "metadata": {},
   "source": [
    "Il est maintenant nécessaire de conserver uniquement les données concernant Paris pour le fichier qui nous intéresse, de manière à obtenir un fichier csv de taille plus raisonnable."
   ]
  },
  {
   "cell_type": "code",
   "execution_count": 4,
   "id": "fc7855db-d474-4c9d-95f6-25fd142fd18c",
   "metadata": {},
   "outputs": [],
   "source": [
    "# Reducing the file to keep only Paris\n",
    "with open('data/bpeParis.csv','w') as f:\n",
    "    f = BPE.loc[BPE['DEP'] == '75']\n",
    "    f.to_csv(path_or_buf = 'data/bpeParis.csv', index = False)"
   ]
  },
  {
   "cell_type": "code",
   "execution_count": 5,
   "id": "713bc751-1867-4f71-9247-3d1cc1a385b5",
   "metadata": {},
   "outputs": [],
   "source": [
    "# We need to delete csv files that are too big to push\n",
    "# i.e. bpe21_ensemble_xy.csv and Varmod_bpe21_ensemble_xy.csv\n",
    "os.remove('bpe21_ensemble_xy.csv')\n",
    "os.remove('Varmod_bpe21_ensemble_xy.csv')"
   ]
  },
  {
   "cell_type": "markdown",
   "id": "291e3167-77e9-4d81-ae15-4144c1599561",
   "metadata": {},
   "source": [
    "## II- Traitement préliminaire pour associer les IRIS et les arrondissements"
   ]
  },
  {
   "cell_type": "markdown",
   "id": "a7f51320-7cd1-46a8-ab29-48dc3486fefe",
   "metadata": {},
   "source": [
    "La base des équipements utilise le découpage territorial en IRIS, alors que les notes concernent les arrondissements. Pour obtenir des résultats sur les arrondissements, il convient donc d'associer chaque arrondissement aux IRIS qui le composent."
   ]
  },
  {
   "cell_type": "code",
   "execution_count": 2,
   "id": "e9f93dbc-8ad4-42b5-8325-c0e2c4cfe32e",
   "metadata": {},
   "outputs": [],
   "source": [
    "# Getting the file containing matchings between arrondissements and IRIS\n",
    "url_1 = 'https://www.insee.fr/fr/statistiques/fichier/2017499/reference_IRIS_geo2023.zip'\n",
    "r1 = requests.get(url_1)\n",
    "z1 = zipfile.ZipFile(io.BytesIO(r1.content))\n",
    "z1.extractall(path = 'data/')\n",
    "Ref_IRIS = pd.read_excel('data/reference_IRIS_geo2023.xlsx')"
   ]
  },
  {
   "cell_type": "code",
   "execution_count": 3,
   "id": "f82277d8-5049-4edc-afb0-b5b4021ccd82",
   "metadata": {},
   "outputs": [],
   "source": [
    "# Changing the names of the columns\n",
    "# It is only further in the excel file that we find the right column names\n",
    "wrong_names = pd.Series.tolist(Ref_IRIS.columns)\n",
    "col_names = pd.Series.tolist(Ref_IRIS.iloc[4])\n",
    "dictionary_names = dict(zip(wrong_names, col_names))\n",
    "Ref_IRIS = Ref_IRIS.rename(columns = dictionary_names)\n",
    "\n",
    "# We obtain the right names of columns"
   ]
  },
  {
   "cell_type": "code",
   "execution_count": 4,
   "id": "78db2015-aa99-4757-ae35-c20c481b612d",
   "metadata": {},
   "outputs": [],
   "source": [
    "# Obtaining a list with IRIS in the 1st arrondissement of Paris\n",
    "Arr1 = Ref_IRIS[Ref_IRIS['LIBCOM'] == 'Paris 1er Arrondissement']\n",
    "liste1 = pd.Series.tolist(Arr1['CODE_IRIS'])"
   ]
  },
  {
   "cell_type": "code",
   "execution_count": 5,
   "id": "9c216306-97d3-4810-8d8d-6c326c01aa19",
   "metadata": {},
   "outputs": [],
   "source": [
    "#The same with all the other arrondissements\n",
    "dicIRIS = {'Paris 1er Arrondissement': liste1}\n",
    "for i in range(2,21):\n",
    "    j = str(i)\n",
    "    key_arr = 'Paris ' + j + 'e Arrondissement'\n",
    "    Arr = Ref_IRIS[Ref_IRIS['LIBCOM'] == key_arr]\n",
    "    val_arr = pd.Series.tolist(Arr['CODE_IRIS'])\n",
    "    dicIRIS[key_arr] = val_arr\n",
    "\n",
    "# We obtain a dictionary with the name of the arrondissement as a key \n",
    "# and a list with the numbers of IRIS corresponding as a value"
   ]
  },
  {
   "cell_type": "markdown",
   "id": "ff1d15f3-becc-41c8-990c-83c9a6220252",
   "metadata": {},
   "source": [
    "Nous obtenons finalement un dictionnaire qui nous permet d'établir une correspondance entre les IRIS et les arrondissements."
   ]
  },
  {
   "cell_type": "markdown",
   "id": "78a9bf0d-9527-4759-8fa7-c48f1c8dba66",
   "metadata": {},
   "source": [
    "## III- Étude des commerces"
   ]
  },
  {
   "cell_type": "markdown",
   "id": "6a465a54-7768-49ee-ba27-4adb6f92ba17",
   "metadata": {},
   "source": [
    "Nous nous intéressons ici à la catégorie B dans le fichier bpeParis.csv. Ce qui est réalisé pour les commerces peut aussi nous être utile pour les autres domaines d'appartenance des équipements."
   ]
  },
  {
   "cell_type": "markdown",
   "id": "6db5a36e-c392-40b4-bef0-681977bed4b6",
   "metadata": {},
   "source": [
    "### A- Préambule"
   ]
  },
  {
   "cell_type": "markdown",
   "id": "653e6c69-c857-4804-a9e4-fe49618dab47",
   "metadata": {},
   "source": [
    "Tout d'abord, il est nécessaire d'obtenir le nombre de commerces par arrondissement, en affinant selon le type de commerce."
   ]
  },
  {
   "cell_type": "code",
   "execution_count": 6,
   "id": "e06994f6-c716-4758-8e56-eb3805f2f63a",
   "metadata": {},
   "outputs": [],
   "source": [
    "dicType = {'BV2012': str, 'DCIRIS': str, 'DEP': str, 'DEPCOM': str, 'DOM': str, 'EPCI': str, 'SDOM': str}\n",
    "BPE = pd.read_csv('data/bpeParis.csv', sep=\",\", dtype = dicType)"
   ]
  },
  {
   "cell_type": "markdown",
   "id": "1a89e4c3-f2f1-459a-9bce-4478eb95a484",
   "metadata": {},
   "source": [
    "Nous prenons en considération les sous-domaines d'appartenance. Pour cela, nous créons une fonction qui associe à un sous-domaine d'appartenance un dictionnaire qui a pour clé le nom de chaque arrondissement."
   ]
  },
  {
   "cell_type": "code",
   "execution_count": 7,
   "id": "8082ad4f-e7e3-4b2a-b637-93c44638bd7d",
   "metadata": {},
   "outputs": [],
   "source": [
    "def Nb_SDOM(S_DOM):\n",
    "    \"\"\"This function creates a dictionary\n",
    "    with the name of the arrondissement as a key\n",
    "    and the number of \"S_DOM\" as a value\n",
    "    ---\n",
    "    S_DOM: name of a SDOM, i.e. with a letter and only one number\n",
    "    \"\"\"\n",
    "    # Concerning the 1st arrondissement of Paris\n",
    "    n1 = 0 # Number initialized\n",
    "    for iris in dicIRIS['Paris 1er Arrondissement']:\n",
    "        col = BPE[(BPE['DCIRIS'] == iris) & (BPE['SDOM'] == S_DOM)]\n",
    "        n1 += len(col) # number of lines\n",
    "    # Concerning the rest of the arrondissements\n",
    "    dic = {'1er arrondissement': n1}\n",
    "    n = 0\n",
    "    for i in range(2,21):\n",
    "        key_arr = 'Paris ' + str(i) + 'e Arrondissement'\n",
    "        for iris in dicIRIS[key_arr]:\n",
    "            col = BPE[(BPE['DCIRIS'] == iris) & (BPE['SDOM'] == S_DOM)]\n",
    "            n += len(col)\n",
    "        dic[str(i) + 'e arrondissement'] = n\n",
    "        n = 0\n",
    "    return dic"
   ]
  },
  {
   "cell_type": "code",
   "execution_count": 11,
   "id": "4f8463c7-6f88-42dd-aa37-eb9d2bf4c5f4",
   "metadata": {},
   "outputs": [
    {
     "data": {
      "text/plain": [
       "{'1er arrondissement': 7,\n",
       " '2e arrondissement': 8,\n",
       " '3e arrondissement': 7,\n",
       " '4e arrondissement': 9,\n",
       " '5e arrondissement': 17,\n",
       " '6e arrondissement': 15,\n",
       " '7e arrondissement': 18,\n",
       " '8e arrondissement': 21,\n",
       " '9e arrondissement': 27,\n",
       " '10e arrondissement': 29,\n",
       " '11e arrondissement': 46,\n",
       " '12e arrondissement': 34,\n",
       " '13e arrondissement': 52,\n",
       " '14e arrondissement': 38,\n",
       " '15e arrondissement': 72,\n",
       " '16e arrondissement': 44,\n",
       " '17e arrondissement': 49,\n",
       " '18e arrondissement': 48,\n",
       " '19e arrondissement': 49,\n",
       " '20e arrondissement': 53}"
      ]
     },
     "execution_count": 11,
     "metadata": {},
     "output_type": "execute_result"
    }
   ],
   "source": [
    "# Number of \"Grandes surfaces\" (B1) by arrondissement\n",
    "dicB1 = Nb_SDOM(\"B1\")\n",
    "dicB1\n",
    "# We obtain a dictionary with the name of the arrondissement as a key \n",
    "# and the number of \"Grandes surfaces\" for each arrondissement as a value"
   ]
  },
  {
   "cell_type": "code",
   "execution_count": 102,
   "id": "3556f7ee-dbe2-40e3-a010-4e71400f1a58",
   "metadata": {},
   "outputs": [],
   "source": [
    "# Number of \"commerces alimentaires\" (B2) by arrondissement\n",
    "dicB2 = Nb_SDOM(\"B2\")\n",
    "# We obtain a dictionary with the name of the arrondissement as a key \n",
    "# and the number of \"commerces alimentaires\" as a value"
   ]
  },
  {
   "cell_type": "code",
   "execution_count": 13,
   "id": "a2bc856e-3ff6-4217-a154-5bd87ea91014",
   "metadata": {},
   "outputs": [],
   "source": [
    "# Number of \"commerces spécialisés non alimentaires\" (B3) by arrondissement\n",
    "dicB3 = Nb_SDOM(\"B3\")\n",
    "# We obtain a dictionary with the name of the arrondissement as a key \n",
    "# and the number of \"commerces spécialisés non alimentaires\" as a value"
   ]
  },
  {
   "cell_type": "markdown",
   "id": "d032de42-e018-4d03-8e62-70faa96ea2cf",
   "metadata": {},
   "source": [
    "Nous créons maintenant un fichier csv pour isoler plus précisément les équipements selon leur type, et non plus seulement leur domaine ou leur sous-domaine."
   ]
  },
  {
   "cell_type": "code",
   "execution_count": 16,
   "id": "89ab2c11-064d-480e-9f6b-a6b9ef9e1a7d",
   "metadata": {},
   "outputs": [],
   "source": [
    "def csv_TYPEQU(listType, Name_csv_file):\n",
    "    \"\"\"This function creates a csv file\n",
    "    Each column is an arrondissement\n",
    "    Each row is one type of equipment\n",
    "    ---\n",
    "    listType: list containing all types that are wanted, typically all types for a given DOM\n",
    "    Each element of this list must be made of one letter and three numbers\n",
    "    Name_csv_file: name of the csv file obtained, put in the folder 'data'\n",
    "    \"\"\"\n",
    "    # Concerning the 1st arrondissement of Paris\n",
    "    n1 = 0 # Number initialized\n",
    "    list1 = []\n",
    "    for type in listType:\n",
    "        for iris in dicIRIS['Paris 1er Arrondissement']:\n",
    "            col = BPE[(BPE['DCIRIS'] == iris) & (BPE['TYPEQU'] == type)]\n",
    "            n1 += len(col) # number of rows\n",
    "        list1.append(n1)\n",
    "        n1 = 0\n",
    "    # Concerning the rest of the arrondissements\n",
    "    dic_DOM = {'1er arrondissement': list1}\n",
    "    n = 0\n",
    "    for arr in range(2,21):\n",
    "        key_arr = 'Paris ' + str(arr) + 'e Arrondissement'\n",
    "        list_DOM_Type = []\n",
    "        for type in listType:\n",
    "            for iris in dicIRIS[key_arr]:\n",
    "                col = BPE[(BPE['DCIRIS'] == iris) & (BPE['TYPEQU'] == type)]\n",
    "                n += len(col)\n",
    "            list_DOM_Type.append(n)\n",
    "            n = 0\n",
    "        dic_DOM[str(arr) + 'e arrondissement'] = list_DOM_Type\n",
    "    DOM_precis = pd.DataFrame(dic_DOM)\n",
    "    DOM_precis.set_axis(listType, axis = 0)\n",
    "    right_path = 'data/' + Name_csv_file\n",
    "    DOM_precis.to_csv(path_or_buf = right_path, index = False)\n",
    "    return None"
   ]
  },
  {
   "cell_type": "code",
   "execution_count": 18,
   "id": "087d5316-b172-4fc1-8e11-ac573e1e21d5",
   "metadata": {},
   "outputs": [],
   "source": [
    "# We consider all types in domains B, i.e. \"Commerces\"\n",
    "listType_B = ['B101', 'B102', 'B103', 'B201', 'B202', 'B203', 'B204', 'B205', 'B206', 'B301', 'B302', 'B303', 'B304', 'B305', 'B306', 'B307', 'B308', 'B309', 'B310', 'B311', 'B312', 'B313', 'B315', 'B316']\n",
    "csv_TYPEQU(listType_B, 'Commerces.csv')"
   ]
  },
  {
   "cell_type": "markdown",
   "id": "2aa9b766-3fd0-4567-ad58-f4c5a6dc1213",
   "metadata": {},
   "source": [
    "Prenons quelques exemples simples et descriptifs pour appréhender les données ainsi récupérées."
   ]
  },
  {
   "cell_type": "code",
   "execution_count": 50,
   "id": "650538bb-e27c-4aac-9bdf-8ab94d669b65",
   "metadata": {},
   "outputs": [],
   "source": [
    "Commerces = pd.read_csv('data/Commerces.csv')"
   ]
  },
  {
   "cell_type": "code",
   "execution_count": 51,
   "id": "c9843207-5847-4ed0-bee4-32c2db389615",
   "metadata": {},
   "outputs": [
    {
     "name": "stdout",
     "output_type": "stream",
     "text": [
      "Il y a 47 boulangeries dans le 4e arrondissement.\n"
     ]
    }
   ],
   "source": [
    "# Let's focus on bakeries (B203) in the 4th arrondissement\n",
    "arr = '4e arrondissement'\n",
    "k = listType_B.index('B203') # Selecting the correct row\n",
    "n = Commerces.loc[k, arr] # Selecting the number of bakeries in the 4th arrondissement\n",
    "print(\"Il y a \" + str(n) + \" boulangeries dans le \" + arr + \".\")"
   ]
  },
  {
   "cell_type": "code",
   "execution_count": 21,
   "id": "1821ba88-6a37-4ba2-ab2c-b9c339259e3e",
   "metadata": {},
   "outputs": [
    {
     "name": "stdout",
     "output_type": "stream",
     "text": [
      "Il y a en moyenne 29.6 supermarchés dans un arrondissement parisien.\n"
     ]
    }
   ],
   "source": [
    "# Let's see the mean of supermarkets (B102)\n",
    "k = listType_B.index('B102')\n",
    "n = Commerces.iloc[k].mean()\n",
    "print(\"Il y a en moyenne \" + str(n) + \" supermarchés dans un arrondissement parisien.\") "
   ]
  },
  {
   "cell_type": "markdown",
   "id": "699d4bce-bf36-42a0-845a-47465899eae3",
   "metadata": {},
   "source": [
    "### B- Régressions"
   ]
  },
  {
   "cell_type": "markdown",
   "id": "e5ecfec2-158e-44f8-a9fc-83256aa6d739",
   "metadata": {},
   "source": [
    "Nous introduisons la variable sur laquelle les autres variables extraites précédemment vont être régressées, à savoir la note moyenne donnée par les habitants."
   ]
  },
  {
   "cell_type": "code",
   "execution_count": 38,
   "id": "4a902a3b-9811-4ad8-b607-d01a3b4cba1b",
   "metadata": {},
   "outputs": [],
   "source": [
    "def Notes_DOM(DOM):\n",
    "    \"\"\" This function reads the excel file containing the grades obtained by each arrondissement in varied fields\n",
    "    And only keeps a list with the grades associated with a particular category\n",
    "    ---\n",
    "    DOM: name of the category for which a grade was given\n",
    "    \"\"\"\n",
    "    Notes_arr = pd.read_excel('data/Notes_arrondissements.xlsx', decimal = \",\")\n",
    "    notes = pd.Series(Notes_arr[DOM])\n",
    "    notes = pd.Series.tolist(notes)\n",
    "    return notes"
   ]
  },
  {
   "cell_type": "code",
   "execution_count": 42,
   "id": "33c2becd-8d3b-42b9-954e-c6d30e3ed2d3",
   "metadata": {},
   "outputs": [],
   "source": [
    "# We only focus on the category 'Commerces'\n",
    "notes_B = Notes_DOM('Commerces')\n",
    "\n",
    "Commerces = pd.read_csv('data/Commerces.csv')"
   ]
  },
  {
   "cell_type": "markdown",
   "id": "a9295752-b68c-4ba9-b8d0-df9bdf810b81",
   "metadata": {},
   "source": [
    "#### 1) Régression en prenant comme variable le nombre de commerces"
   ]
  },
  {
   "cell_type": "markdown",
   "id": "8f3c2a72-c058-40e6-88a3-2e007e271e7c",
   "metadata": {},
   "source": [
    "Concentrons-nous sur les commerces alimentaires."
   ]
  },
  {
   "cell_type": "code",
   "execution_count": 23,
   "id": "f8fa6081-2227-4d7a-9d86-6374f6392042",
   "metadata": {},
   "outputs": [
    {
     "data": {
      "image/png": "[encoded data removed]",
      "text/plain": [
       "<Figure size 640x480 with 1 Axes>"
      ]
     },
     "metadata": {},
     "output_type": "display_data"
    }
   ],
   "source": [
    "# Trying to make a regression with only B2\n",
    "listB2 = pd.DataFrame(dicB2.values())\n",
    "reg = LinearRegression().fit(listB2, notes_B)\n",
    "y_pred = reg.predict(listB2)\n",
    "\n",
    "plt.scatter(listB2, notes_B, color=\"black\")\n",
    "plt.plot(listB2, y_pred, color=\"blue\", linewidth=3)\n",
    "plt.xlabel('Nombre de commerces alimentaires')\n",
    "plt.ylabel('Note donnée par les habitants')\n",
    "plt.title('Une régression avec le nombre de commerces alimentaires')\n",
    "plt.show()\n",
    "\n",
    "# Not very satisfactory since y_pred is surprisingly decreasing"
   ]
  },
  {
   "cell_type": "markdown",
   "id": "49fb2cb7-f5f0-4df1-872d-917c9f901f22",
   "metadata": {},
   "source": [
    "Le résultat n'est pas très satisfaisant : on obtient une corrélation négative entre le nombre de commerces alimentaires et la note donnée par les habitants."
   ]
  },
  {
   "cell_type": "markdown",
   "id": "e846eee8-2d50-4728-b445-3041edd62c0c",
   "metadata": {},
   "source": [
    "Coupons l'échantillon en deux pour éviter le surapprentissage."
   ]
  },
  {
   "cell_type": "code",
   "execution_count": 19,
   "id": "3360076f-3ce6-4dec-94e3-ec1c7e537168",
   "metadata": {},
   "outputs": [],
   "source": [
    "# The same but by splitting the dataframe\n",
    "# Split the data into training/testing sets\n",
    "X_trainB2, X_testB2, y_trainB2, y_testB2 = sklearn.model_selection.train_test_split(listB2, notes_B, test_size = 0.5)"
   ]
  },
  {
   "cell_type": "code",
   "execution_count": 20,
   "id": "b003dd5c-a972-45f9-acdd-89bdc091d142",
   "metadata": {},
   "outputs": [],
   "source": [
    "# Making a regression using the arrondissements in train\n",
    "regB2 = LinearRegression().fit(X_trainB2, y_trainB2)\n",
    "\n",
    "# Make predictions using the testing set\n",
    "y_predB2 = regB2.predict(X_testB2)"
   ]
  },
  {
   "cell_type": "code",
   "execution_count": 21,
   "id": "62aec990-ac3d-415c-b0ed-a17e82dee49c",
   "metadata": {},
   "outputs": [
    {
     "data": {
      "text/plain": [
       "array([-0.00318491])"
      ]
     },
     "execution_count": 21,
     "metadata": {},
     "output_type": "execute_result"
    }
   ],
   "source": [
    "# The coefficients\n",
    "regB2.coef_"
   ]
  },
  {
   "cell_type": "markdown",
   "id": "335357dc-d649-4016-9da4-7515d0fa111c",
   "metadata": {},
   "source": [
    "Là encore, la corrélation est négative."
   ]
  },
  {
   "cell_type": "code",
   "execution_count": 23,
   "id": "a6fd9ae8-c620-4303-82c9-ded81fb44849",
   "metadata": {},
   "outputs": [
    {
     "data": {
      "text/plain": [
       "-0.18420644387740848"
      ]
     },
     "execution_count": 23,
     "metadata": {},
     "output_type": "execute_result"
    }
   ],
   "source": [
    "regB2.score(X_testB2, y_testB2)"
   ]
  },
  {
   "cell_type": "markdown",
   "id": "b66da308-14b0-40e7-8bb4-c7befd0588b3",
   "metadata": {},
   "source": [
    "Le R2 est très faible (inférieur à 0.05, voire négatif), ce qui semble indiquer que notre régression n'est pas très adaptée."
   ]
  },
  {
   "cell_type": "markdown",
   "id": "bdf033e1-b009-47a8-83e3-4da31ed1c37d",
   "metadata": {},
   "source": [
    "On utilise les informations plus précises sur les différents types de commerces."
   ]
  },
  {
   "cell_type": "code",
   "execution_count": 24,
   "id": "85d21c8b-c845-4a92-8ae6-2971d8946dc9",
   "metadata": {},
   "outputs": [],
   "source": [
    "# Split the data into training/testing sets\n",
    "Commerces2 = Commerces.transpose()\n",
    "X_train, X_test, y_train, y_test = sklearn.model_selection.train_test_split(Commerces2, notes_B, test_size = 0.5)"
   ]
  },
  {
   "cell_type": "code",
   "execution_count": 25,
   "id": "296ca6af-479a-4f26-8894-7769405d3578",
   "metadata": {},
   "outputs": [],
   "source": [
    "# Making a regression using the arrondissements in train\n",
    "reg = LinearRegression().fit(X_train, y_train)\n",
    "\n",
    "# Make predictions using the testing set\n",
    "y_pred = reg.predict(X_test)"
   ]
  },
  {
   "cell_type": "code",
   "execution_count": 26,
   "id": "19abf200-9c9c-4d1a-81f2-d8910a7f8e58",
   "metadata": {},
   "outputs": [
    {
     "data": {
      "text/plain": [
       "array([ 0.00149673, -0.0112926 ,  0.00432903, -0.01123   ,  0.00225831,\n",
       "        0.02502066, -0.01676043,  0.00857142, -0.00846889, -0.00243488,\n",
       "        0.00290193, -0.0350152 ,  0.00258619,  0.01153651,  0.00198626,\n",
       "        0.01024304,  0.00513016, -0.00316427, -0.01426978,  0.02321958,\n",
       "       -0.01507096, -0.00876891, -0.0032571 , -0.00129332])"
      ]
     },
     "execution_count": 26,
     "metadata": {},
     "output_type": "execute_result"
    }
   ],
   "source": [
    "# The coefficients\n",
    "reg.coef_"
   ]
  },
  {
   "cell_type": "markdown",
   "id": "88a47532-bb1b-4ed8-a3e4-b8af50ec4968",
   "metadata": {},
   "source": [
    "Nos coefficients sont tous très faibles en valeur absolue (inférieurs à 0.01)."
   ]
  },
  {
   "cell_type": "code",
   "execution_count": 29,
   "id": "81b77421-bde6-4d13-955c-643cb51528d9",
   "metadata": {},
   "outputs": [
    {
     "data": {
      "text/plain": [
       "-0.813328931013293"
      ]
     },
     "execution_count": 29,
     "metadata": {},
     "output_type": "execute_result"
    }
   ],
   "source": [
    "# The R^2\n",
    "reg.score(X_test, y_test)"
   ]
  },
  {
   "cell_type": "markdown",
   "id": "57769f61-e9e1-493b-b3da-6977e8459a90",
   "metadata": {},
   "source": [
    "Le R2 est négatif : notre modèle n'est absolument pas adapté. Il nous faut prendre en compte d'autres facteurs."
   ]
  },
  {
   "cell_type": "markdown",
   "id": "590fbbd5-3c21-4c32-b8a0-c2802c762204",
   "metadata": {},
   "source": [
    "#### 2) Régression en prenant comme variable la densité des commerces"
   ]
  },
  {
   "cell_type": "markdown",
   "id": "3b28e548-f0e7-4be8-9da3-6b326917d94c",
   "metadata": {},
   "source": [
    "Tentons de prendre en compte la densité des équipements plutôt que leur nombre, afin d'obtenir une corrélation plus pertinente entre les notes et les données."
   ]
  },
  {
   "cell_type": "code",
   "execution_count": 49,
   "id": "5a94d59e-9a88-4505-b87a-9df4b91a52d4",
   "metadata": {},
   "outputs": [
    {
     "name": "stdout",
     "output_type": "stream",
     "text": [
      "https://minio.lab.sspcloud.fr/projet-cartiflette/diffusion/shapefiles-test1/year=2022/administrative_level=COMMUNE_ARRONDISSEMENT/crs=4326/DEPARTEMENT=75/vectorfile_format=topojson/provider=IGN/source=EXPRESS-COG-CARTO-TERRITOIRE/raw.topojson\n"
     ]
    },
    {
     "name": "stderr",
     "output_type": "stream",
     "text": [
      "Downloading: : 40.1kiB [00:00, 9.32MiB/s]\n",
      "/tmp/ipykernel_342/704688942.py:15: UserWarning: Geometry is in a geographic CRS. Results from 'area' are likely incorrect. Use 'GeoSeries.to_crs()' to re-project geometries to a projected CRS before this operation.\n",
      "\n",
      "  superficies = Arrondissements.area\n"
     ]
    },
    {
     "data": {
      "text/plain": [
       "0     0.000224\n",
       "1     0.000122\n",
       "2     0.000143\n",
       "3     0.000196\n",
       "4     0.000312\n",
       "5     0.000264\n",
       "6     0.000501\n",
       "7     0.000476\n",
       "8     0.000267\n",
       "9     0.000354\n",
       "10    0.000447\n",
       "11    0.002007\n",
       "12    0.000874\n",
       "13    0.000688\n",
       "14    0.001038\n",
       "15    0.002011\n",
       "16    0.000695\n",
       "17    0.000735\n",
       "18    0.000832\n",
       "19    0.000736\n",
       "dtype: float64"
      ]
     },
     "execution_count": 49,
     "metadata": {},
     "output_type": "execute_result"
    }
   ],
   "source": [
    "# Creation of a database associating for each arrondissement its area.\n",
    "\n",
    "# Importing geographical data of Parisian arrondissements using the librairy cartiflette\n",
    "Arrondissements = s3.download_vectorfile_url_all(\n",
    "    crs = 4326,\n",
    "    values = [\"75\"],\n",
    "    borders=\"COMMUNE_ARRONDISSEMENT\",\n",
    "    vectorfile_format=\"topojson\",\n",
    "    filter_by=\"DEPARTEMENT\",\n",
    "    source=\"EXPRESS-COG-CARTO-TERRITOIRE\",\n",
    "    year=2022)\n",
    "\n",
    "# Storage of areas in the series \"superficies\"\n",
    "Arrondissements = Arrondissements.sort_values('INSEE_COG').reset_index()\n",
    "superficies = Arrondissements.area\n",
    "superficies"
   ]
  },
  {
   "cell_type": "code",
   "execution_count": 28,
   "id": "39845d64-4d72-4119-9dec-4302269ea76d",
   "metadata": {},
   "outputs": [],
   "source": [
    "superficies2 = superficies.to_frame().transpose()\n",
    "col_names = list(Commerces.columns.values)\n",
    "superficies2.columns = col_names\n",
    "superficies2.index = [\"Superficies\"]"
   ]
  },
  {
   "cell_type": "code",
   "execution_count": 97,
   "id": "bcac8ec3-79bf-4304-b123-2399b3ca8d8a",
   "metadata": {},
   "outputs": [],
   "source": [
    "Commerces2 = pd.concat([Commerces, superficies2])"
   ]
  },
  {
   "cell_type": "code",
   "execution_count": 104,
   "id": "1066efdd-8c02-4c70-a32b-41fc42763c4b",
   "metadata": {},
   "outputs": [],
   "source": [
    "def SDOM_pond(dic):\n",
    "    \"\"\" This function creates a dataframe \n",
    "    by weighting an other dataframe\n",
    "    ---\n",
    "    dic: dictionary with the names of arrondissements as keys\n",
    "    \"\"\"\n",
    "    SDOM = pd.DataFrame(dic.values(), index=None)\n",
    "    Areas = Commerces2.loc['Superficies'].tolist()\n",
    "    Areas = pd.DataFrame(Areas, index=None)\n",
    "    SDOM_pond = SDOM / Areas\n",
    "    return SDOM_pond"
   ]
  },
  {
   "cell_type": "code",
   "execution_count": 105,
   "id": "d99011b7-d96f-4c25-8ae0-042ffbbb5c22",
   "metadata": {},
   "outputs": [],
   "source": [
    "# Making a regression with only B2 ponderated\n",
    "B2_pond = SDOM_pond(dicB2)"
   ]
  },
  {
   "cell_type": "code",
   "execution_count": 106,
   "id": "bbd316fa-1221-46e7-ba5f-9b669344973e",
   "metadata": {},
   "outputs": [
    {
     "data": {
      "image/png": "[encoded data removed]",
      "text/plain": [
       "<Figure size 640x480 with 1 Axes>"
      ]
     },
     "metadata": {},
     "output_type": "display_data"
    }
   ],
   "source": [
    "# Making a regression with only B2 weighted\n",
    "reg = LinearRegression().fit(B2_pond, notes_B)\n",
    "y_pred = reg.predict(B2_pond)\n",
    "\n",
    "plt.scatter(B2_pond, notes_B, color=\"black\")\n",
    "plt.plot(B2_pond, y_pred, color=\"blue\", linewidth=3)\n",
    "plt.xlabel('Nombre de commerces alimentaires / superficie')\n",
    "plt.ylabel('Note donnée par les habitants')\n",
    "plt.title('Nombre de commerces alimentaires rapporté à la superficie')\n",
    "plt.show()\n",
    "\n",
    "# More satisfactory than previously since y_pred is increasing"
   ]
  },
  {
   "cell_type": "code",
   "execution_count": 107,
   "id": "df004b54-db13-4829-9ff6-237727c2bbe4",
   "metadata": {},
   "outputs": [
    {
     "data": {
      "text/plain": [
       "array([1.68067337e-07])"
      ]
     },
     "execution_count": 107,
     "metadata": {},
     "output_type": "execute_result"
    }
   ],
   "source": [
    "reg.coef_"
   ]
  },
  {
   "cell_type": "markdown",
   "id": "7062dfd8-e83b-4ebf-9ce6-80ba1096aba3",
   "metadata": {},
   "source": [
    "Le coefficient est légèrement positif, ce qui est plus satisfaisant que précédemment."
   ]
  },
  {
   "cell_type": "markdown",
   "id": "11b5e5f4-a7bd-4c02-b7dd-831233a93f74",
   "metadata": {},
   "source": [
    "Considérons cette fois tous les types de commerces en pondérant à chaque fois leur nombre par la superficie de l'arrondissement. Nous coupons l'échantillon en deux pour faire la régression."
   ]
  },
  {
   "cell_type": "code",
   "execution_count": 80,
   "id": "a9f7975c-6028-49f0-ade9-b39e6388b340",
   "metadata": {},
   "outputs": [],
   "source": [
    "# Split the data into training/testing sets with precise types and ponderation\n",
    "def df_pond(df_origin):\n",
    "    \"\"\" This function creates a dataframe\n",
    "    and weights each number by the area of the related arrondissement\n",
    "    ---\n",
    "    df_origin: dataframe with information about all arrondissement for a set of variables\n",
    "    \"\"\"\n",
    "    df_pond = df_origin.iloc[:,0] / superficies[0]\n",
    "    for col in range(1, 20):\n",
    "        Col_pond = df_origin.iloc[:,col] / superficies[col]\n",
    "        df_pond = pd.concat([df_pond, Col_pond], axis = 1)\n",
    "    return df_pond"
   ]
  },
  {
   "cell_type": "code",
   "execution_count": 81,
   "id": "8a8277d4-22a7-408c-963c-4bab4b54c92f",
   "metadata": {},
   "outputs": [],
   "source": [
    "Commerces_pond = df_pond(Commerces)"
   ]
  },
  {
   "cell_type": "code",
   "execution_count": 82,
   "id": "01bfffa3-7037-4e3b-a40f-6a0b486099f4",
   "metadata": {},
   "outputs": [],
   "source": [
    "Commerces_pond2 = Commerces_pond.transpose()\n",
    "X_train, X_test, y_train, y_test = sklearn.model_selection.train_test_split(Commerces_pond2, notes_B, test_size = 0.5)"
   ]
  },
  {
   "cell_type": "code",
   "execution_count": 83,
   "id": "284e7efe-2687-4966-9eda-da6fa5929706",
   "metadata": {},
   "outputs": [],
   "source": [
    "# Making a regression using the arrondissements in train\n",
    "reg = LinearRegression().fit(X_train, y_train)\n",
    "\n",
    "# Make predictions using the testing set\n",
    "y_pred = reg.predict(X_test)"
   ]
  },
  {
   "cell_type": "code",
   "execution_count": 84,
   "id": "026d97e4-2dd8-497e-ab39-a07ad9239840",
   "metadata": {},
   "outputs": [
    {
     "data": {
      "text/plain": [
       "array([ 3.06858926e-06,  5.45562679e-06,  4.16790636e-06, -9.81069798e-06,\n",
       "       -4.05036024e-06,  1.13559281e-05,  2.23106442e-06,  2.76970976e-06,\n",
       "       -4.59348332e-06, -4.27842822e-06, -6.74923682e-07,  2.67618765e-06,\n",
       "        8.42906624e-08,  1.31259020e-05,  4.37798481e-06,  9.09101265e-07,\n",
       "        1.48217587e-05, -3.17343522e-06, -5.68690478e-06,  7.79009844e-06,\n",
       "        2.65840047e-06, -3.92571023e-06,  4.34035567e-06,  5.84095367e-06])"
      ]
     },
     "execution_count": 84,
     "metadata": {},
     "output_type": "execute_result"
    }
   ],
   "source": [
    "# The coefficients\n",
    "reg.coef_"
   ]
  },
  {
   "cell_type": "code",
   "execution_count": 85,
   "id": "c4ad7a0f-e69c-4dad-b193-ed9497f491e9",
   "metadata": {},
   "outputs": [
    {
     "data": {
      "text/plain": [
       "-1.7428002785213819"
      ]
     },
     "execution_count": 85,
     "metadata": {},
     "output_type": "execute_result"
    }
   ],
   "source": [
    "# The R^2\n",
    "reg.score(X_test, y_test)"
   ]
  },
  {
   "cell_type": "markdown",
   "id": "82799459-c777-4113-9457-74e1e9beabba",
   "metadata": {},
   "source": [
    "## IV- Étude de l'enseignement"
   ]
  },
  {
   "cell_type": "markdown",
   "id": "d7ceb34f-a929-4a48-9939-141b04c0c1d4",
   "metadata": {},
   "source": [
    "Nous nous intéressons ici à la catégorie C dans le fichier bpeParis.csv"
   ]
  },
  {
   "cell_type": "code",
   "execution_count": 43,
   "id": "80fd2165-1bbb-4497-820b-d0b6ae518f5c",
   "metadata": {},
   "outputs": [],
   "source": [
    "# We only focus on the category 'Enseignement'\n",
    "notes_C = Notes_DOM('Enseignement')"
   ]
  },
  {
   "cell_type": "markdown",
   "id": "bb2502a2-4420-4c2d-94a5-8935b748f8de",
   "metadata": {},
   "source": [
    "Intéressons-nous d'abord au nombre d'établissements du second degré - second cycle."
   ]
  },
  {
   "cell_type": "code",
   "execution_count": 44,
   "id": "ff2da259-d31e-4e24-ba61-58ac88359adc",
   "metadata": {},
   "outputs": [],
   "source": [
    "# Number of \"Lycées\" (C3) by arrondissement\n",
    "dicC3 = Nb_SDOM(\"C3\")\n",
    "# We obtain a dictionary with the name of the arrondissement as a key \n",
    "# and the number of \"Lycées\" as a value"
   ]
  },
  {
   "cell_type": "code",
   "execution_count": 45,
   "id": "30e11e3d-f87c-4a18-be0d-4547005b04d6",
   "metadata": {},
   "outputs": [
    {
     "data": {
      "image/png": "[encoded data removed]",
      "text/plain": [
       "<Figure size 640x480 with 1 Axes>"
      ]
     },
     "metadata": {},
     "output_type": "display_data"
    }
   ],
   "source": [
    "# Trying to make a regression with only C3\n",
    "listC3 = pd.DataFrame(dicC3.values())\n",
    "reg = LinearRegression().fit(listC3, notes_C)\n",
    "y_pred = reg.predict(listC3)\n",
    "\n",
    "plt.scatter(listC3, notes, color=\"black\")\n",
    "plt.plot(listC3, y_pred, color=\"blue\", linewidth=3)\n",
    "plt.xlabel('Nombre de lycées')\n",
    "plt.ylabel('Note donnée par les habitants')\n",
    "plt.title('Une régression avec le nombre de lycées')\n",
    "plt.show()"
   ]
  },
  {
   "cell_type": "markdown",
   "id": "c3828476-40c2-435e-ab6b-d46677efd5a1",
   "metadata": {},
   "source": [
    "Nous excluons maintenant l'enseignement supérieur pour nous pencher sur les autres variables concernant l'éduca\u0000tion."
   ]
  },
  {
   "cell_type": "code",
   "execution_count": 79,
   "id": "d1fc02ac-c908-4aed-a008-c8ce48948404",
   "metadata": {},
   "outputs": [],
   "source": [
    "# More precisely, we want to have the number of each type of equipments \n",
    "# without higher education\n",
    "# To obtain this, we will create a csv file\n",
    "listType_C = ['C101', 'C102', 'C104', 'C105', 'C201', 'C301', 'C302', 'C303', 'C304', 'C305']\n",
    "csv_TYPEQU(listType_C, 'Education.csv')\n",
    "# Each row is one type of equipment"
   ]
  },
  {
   "cell_type": "code",
   "execution_count": 86,
   "id": "abb83d97-373f-43cb-b7f5-c0260455b39a",
   "metadata": {},
   "outputs": [],
   "source": [
    "Education = pd.read_csv('data/Education.csv')\n",
    "Education_pond = df_pond(Education)"
   ]
  },
  {
   "cell_type": "code",
   "execution_count": 87,
   "id": "67ba8c04-0bb3-439b-91b2-72f4d843dfd4",
   "metadata": {},
   "outputs": [],
   "source": [
    "Education_pond2 = Education_pond.transpose()\n",
    "X_train, X_test, y_train, y_test = sklearn.model_selection.train_test_split(Education_pond2, notes_C, test_size = 0.5)"
   ]
  },
  {
   "cell_type": "code",
   "execution_count": 90,
   "id": "b42e283f-ac40-4ea7-95ba-42fd94931cdf",
   "metadata": {},
   "outputs": [
    {
     "name": "stdout",
     "output_type": "stream",
     "text": [
      "Voici les coefficients : [-1.76071788e-05  2.29122412e-19 -8.64323324e-05  6.24686799e-20\n",
      "  2.68983985e-04 -1.41046468e-05 -9.99900192e-05  0.00000000e+00\n",
      "  0.00000000e+00 -2.95476480e-05]\n",
      "Voici le R^2 : -1.0655041858811818\n"
     ]
    }
   ],
   "source": [
    "# Making a regression using the arrondissements in train\n",
    "reg = LinearRegression().fit(X_train, y_train)\n",
    "\n",
    "# Make predictions using the testing set\n",
    "y_pred = reg.predict(X_test)\n",
    "\n",
    "print(\"Voici les coefficients :\", reg.coef_)\n",
    "print(\"Voici le R^2 :\", reg.score(X_test, y_test))"
   ]
  },
  {
   "cell_type": "markdown",
   "id": "4a5de4fc-3cc2-45fd-936a-64599e02069a",
   "metadata": {},
   "source": [
    "## V- Étude de la santé"
   ]
  },
  {
   "cell_type": "markdown",
   "id": "a6bceab6-3ad9-4cf9-9035-cbc50419c9b2",
   "metadata": {},
   "source": [
    "Nous nous intéressons ici à la catégorie D dans le fichier bpeParis.csv"
   ]
  },
  {
   "cell_type": "code",
   "execution_count": 94,
   "id": "845f139e-cb67-41e6-a583-4776e926b056",
   "metadata": {},
   "outputs": [],
   "source": [
    "# We only focus on the category 'Santé'\n",
    "notes_D = Notes_DOM('Santé')"
   ]
  },
  {
   "cell_type": "markdown",
   "id": "0417405f-ef18-48e7-8ece-4cd95e3d267a",
   "metadata": {},
   "source": [
    "Nous allons nous concentrer sur un sous-domaine précis, les professions médicales et paramédicales dans le secteur libéral."
   ]
  },
  {
   "cell_type": "code",
   "execution_count": 95,
   "id": "c436b562-e7e1-4e45-96e5-d90e64f6c8ea",
   "metadata": {},
   "outputs": [],
   "source": [
    "# Number of \"fonctions médicales et paramédicales\" (D2) by arrondissement\n",
    "dicD2 = Nb_SDOM(\"D2\")\n",
    "# We obtain a dictionary with the name of the arrondissement as a key \n",
    "# and the number of \"fonctions médicales et paramédicales\" as a value"
   ]
  },
  {
   "cell_type": "code",
   "execution_count": 96,
   "id": "9152f951-f45f-4757-9fc8-e8407916e115",
   "metadata": {},
   "outputs": [
    {
     "data": {
      "image/png": "[encoded data removed]",
      "text/plain": [
       "<Figure size 640x480 with 1 Axes>"
      ]
     },
     "metadata": {},
     "output_type": "display_data"
    }
   ],
   "source": [
    "# Trying to make a regression with only D2\n",
    "listD2 = pd.DataFrame(dicD2.values())\n",
    "reg = LinearRegression().fit(listD2, notes_D)\n",
    "y_pred = reg.predict(listD2)\n",
    "\n",
    "plt.scatter(listD2, notes, color=\"black\")\n",
    "plt.plot(listD2, y_pred, color=\"blue\", linewidth=3)\n",
    "plt.xlabel('Nombre de professionnels de la santé')\n",
    "plt.ylabel('Note donnée par les habitants')\n",
    "plt.title('Une régression avec le nombre de professionnels de la santé')\n",
    "plt.show()"
   ]
  },
  {
   "cell_type": "markdown",
   "id": "85d7421b-fa62-4720-baec-0205b2779e9c",
   "metadata": {},
   "source": [
    "On remarque un nombre significatif de points aberrants, en particulier avec un nombre réduit de professionnels mais des notes élevées. Ce phénomène tend à disparaître lorsque l'on pondère selon la superficie comme ci-après."
   ]
  },
  {
   "cell_type": "code",
   "execution_count": 108,
   "id": "e4a31c50-2150-4d6b-8c81-7a58bfd35849",
   "metadata": {},
   "outputs": [
    {
     "data": {
      "image/png": "[encoded data removed]",
      "text/plain": [
       "<Figure size 640x480 with 1 Axes>"
      ]
     },
     "metadata": {},
     "output_type": "display_data"
    }
   ],
   "source": [
    "D2_pond = SDOM_pond(dicD2)\n",
    "# Making a regression with only B2 weighted\n",
    "reg = LinearRegression().fit(D2_pond, notes_D)\n",
    "y_pred = reg.predict(D2_pond)\n",
    "\n",
    "plt.scatter(D2_pond, notes_D, color=\"black\")\n",
    "plt.plot(D2_pond, y_pred, color=\"blue\", linewidth=3)\n",
    "plt.xlabel('Nombre de professionnels de la santé / superficie')\n",
    "plt.ylabel('Note donnée par les habitants')\n",
    "plt.title('Nombre de professionnels de la santé rapporté à la superficie')\n",
    "plt.show()"
   ]
  },
  {
   "cell_type": "code",
   "execution_count": 122,
   "id": "bb18f1c7-8df3-4019-8f1a-9fa54ef7760c",
   "metadata": {},
   "outputs": [
    {
     "name": "stdout",
     "output_type": "stream",
     "text": [
      "Voici le coefficient : [3.01003922e-07]\n",
      "Voici le R^2 : 0.09267912010766244\n"
     ]
    }
   ],
   "source": [
    "# Split the data into training/testing sets\n",
    "X_train, X_test, y_train, y_test = sklearn.model_selection.train_test_split(D2_pond, notes_D, test_size = 0.5)\n",
    "\n",
    "# Making a regression using the arrondissements in train\n",
    "reg = LinearRegression().fit(X_train, y_train)\n",
    "\n",
    "# Make predictions using the testing set\n",
    "y_pred = reg.predict(X_test)\n",
    "\n",
    "print(\"Voici le coefficient :\", reg.coef_)\n",
    "print(\"Voici le R^2 :\", reg.score(X_test, y_test))"
   ]
  },
  {
   "cell_type": "markdown",
   "id": "ad014b4c-8c05-4be2-829c-14334b1e60ca",
   "metadata": {},
   "source": [
    "Le signe même du R2 dépend des sous-échantillons sélectionnés aléatoirement. Il est donc difficile de conclure de manière définitive étant donné la taille réduite de notre échantillon d'arrondissements."
   ]
  },
  {
   "cell_type": "markdown",
   "id": "f4186553-7ab2-4e74-850e-db277ffd05b0",
   "metadata": {},
   "source": [
    "## VI- Étude des transports"
   ]
  },
  {
   "cell_type": "markdown",
   "id": "08e0db12-ab1a-4708-9229-5884e57949b5",
   "metadata": {},
   "source": [
    "Nous nous intéressons ici à la catégorie E dans le fichier bpeParis.csv"
   ]
  },
  {
   "cell_type": "code",
   "execution_count": 123,
   "id": "9f1b9842-a1ef-43bc-b434-fe7dc60667f6",
   "metadata": {},
   "outputs": [],
   "source": [
    "# We only focus on the category 'Transports'\n",
    "notes_E = Notes_DOM('Transports')"
   ]
  },
  {
   "cell_type": "code",
   "execution_count": 128,
   "id": "b8d4a539-11c4-4e36-8123-4666c158895c",
   "metadata": {},
   "outputs": [],
   "source": [
    "listType_E = ['E101', 'E102', 'E107', 'E108', 'E109']\n",
    "csv_TYPEQU(listType_E, 'Transports.csv')\n",
    "\n",
    "Transports = pd.read_csv('data/Transports.csv')\n",
    "Transports_pond = df_pond(Transports)"
   ]
  },
  {
   "cell_type": "code",
   "execution_count": 129,
   "id": "9dd3abf4-5ea7-462d-9f29-dfcf4e6870db",
   "metadata": {},
   "outputs": [
    {
     "name": "stdout",
     "output_type": "stream",
     "text": [
      "Voici les coefficients : [2.32460265e-07 5.42101086e-20 4.95925017e-04 9.88946521e-05\n",
      " 0.00000000e+00]\n",
      "Voici le R^2 : -5.005855381465436\n"
     ]
    }
   ],
   "source": [
    "Transports_pond2 = Transports_pond.transpose()\n",
    "X_train, X_test, y_train, y_test = sklearn.model_selection.train_test_split(Transports_pond2, notes_E, test_size = 0.5)\n",
    "\n",
    "# Making a regression using the arrondissements in train\n",
    "reg = LinearRegression().fit(X_train, y_train)\n",
    "\n",
    "# Make predictions using the testing set\n",
    "y_pred = reg.predict(X_test)\n",
    "\n",
    "print(\"Voici les coefficients :\", reg.coef_)\n",
    "print(\"Voici le R^2 :\", reg.score(X_test, y_test))"
   ]
  },
  {
   "cell_type": "markdown",
   "id": "5451cb13-ab6d-4f1b-9390-dc8e5fcd86dc",
   "metadata": {},
   "source": [
    "Ici encore le R2 semble indiquer que la régression linéaire n'est pas pertinente. Cela est à mettre en relation avec le fait que, mis à part pour les taxis, le nombre d'équipements est très faible, voire nul."
   ]
  },
  {
   "cell_type": "markdown",
   "id": "9dd6ee43-2e04-456d-8390-bc2d9134b044",
   "metadata": {},
   "source": [
    "## Conclusion partielle"
   ]
  },
  {
   "cell_type": "markdown",
   "id": "12f6b243-2123-4e3b-be1d-a46422877740",
   "metadata": {},
   "source": [
    "Parmi les variables que nous avons étudiées, très peu semblent corrélées à la note donnée par les habitants, y compris lorsque l'on prend en compte la densité des équipements."
   ]
  },
  {
   "cell_type": "markdown",
   "id": "d74b95ba-d14d-4cf0-aecf-6ff289d1a6cf",
   "metadata": {},
   "source": [
    "Cela peut s'expliquer par plusieurs facteurs. Tout d'abord, les arrondissements ne sont pas fermés les uns aux autres : un Parisien peut tout à fait avoir intérêt à privilégier une boulangerie d'un autre arrondissement si ce dernier est voisin de son logement. Ensuite, on ne s'intéresse qu'au nombre et non à la qualité des équipements. Cela est visible avec le choix d'un établissement par exemple : les parents auront peut-être davantage tendance à privilégier un arrondissement pour un établissement en particulier en fonction de la qualité de l'enseignement, plutôt que de regarder le nombre total d'établissement dans un arrondissement donné. De plus, nous avons utilisé une pondération en fonction de la superficie mais d'autres pondérations peuvent être plus judicieuses, par exemple en fonction du nombre d'habitants. Ainsi, la satisfaction tirée d'une visite chez un médecin dépend moins de la distance qui sépare le logement du patient du cabinet que de la possibilité de consulter dans un délai relativement bref."
   ]
  },
  {
   "cell_type": "markdown",
   "id": "d6e67a3f-5d52-4b39-8353-dcdb0810de08",
   "metadata": {},
   "source": [
    "A cela s'ajoutent les biais propres à l'attribution des notes. Les personnes qui pris le temps de noter leur arrondissement y sont peut-être davantage attachés que la moyenne ou impliquées dans la vie associative locale etc. De plus, les catégories retenues pour la base permanente des équipements ne sont pas toujours adaptées à la ville de Paris. En effet, il conviendrait de rajouter parmi les moyens de transports les stations de métro ou encore le réseau de bus."
   ]
  }
 ],
 "metadata": {
  "kernelspec": {
   "display_name": "Python 3 (ipykernel)",
   "language": "python",
   "name": "python3"
  },
  "language_info": {
   "codemirror_mode": {
    "name": "ipython",
    "version": 3
   },
   "file_extension": ".py",
   "mimetype": "text/x-python",
   "name": "python",
   "nbconvert_exporter": "python",
   "pygments_lexer": "ipython3",
   "version": "3.10.13"
  }
 },
 "nbformat": 4,
 "nbformat_minor": 5
}
