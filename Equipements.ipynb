{
 "cells": [
  {
   "cell_type": "markdown",
   "id": "621e13a5-03bc-4255-b4f4-e87302d277e3",
   "metadata": {},
   "source": [
    "# Étude du lien entre les notes attribuées et la présence d'équipements"
   ]
  },
  {
   "cell_type": "markdown",
   "id": "cc9d30c0-6e55-4222-a263-eac524872a02",
   "metadata": {},
   "source": [
    "## I- Import des données"
   ]
  },
  {
   "cell_type": "code",
   "execution_count": 2,
   "id": "96707707-bdf2-47bd-85d5-e23660d21ec0",
   "metadata": {},
   "outputs": [
    {
     "name": "stdout",
     "output_type": "stream",
     "text": [
      "Collecting openpyxl\n",
      "  Downloading openpyxl-3.1.2-py2.py3-none-any.whl (249 kB)\n",
      "\u001b[2K     \u001b[90m━━━━━━━━━━━━━━━━━━━━━━━━━━━━━━━━━━━━━━━\u001b[0m \u001b[32m250.0/250.0 kB\u001b[0m \u001b[31m4.2 MB/s\u001b[0m eta \u001b[36m0:00:00\u001b[0ma \u001b[36m0:00:01\u001b[0m\n",
      "\u001b[?25hCollecting et-xmlfile (from openpyxl)\n",
      "  Downloading et_xmlfile-1.1.0-py3-none-any.whl (4.7 kB)\n",
      "Installing collected packages: et-xmlfile, openpyxl\n",
      "Successfully installed et-xmlfile-1.1.0 openpyxl-3.1.2\n"
     ]
    }
   ],
   "source": [
    "!pip install openpyxl\n",
    "import pandas as pd\n",
    "import requests\n",
    "import io\n",
    "import zipfile\n",
    "import sklearn\n",
    "from sklearn.linear_model import LinearRegression\n",
    "import numpy as np\n",
    "import matplotlib.pyplot as plt"
   ]
  },
  {
   "cell_type": "code",
   "execution_count": 4,
   "id": "461f2db2-ecb2-48d8-b4dc-3b8f0a42a2db",
   "metadata": {},
   "outputs": [],
   "source": [
    "# Reading the Zipfile with information about equipments in 2021\n",
    "url = 'https://www.insee.fr/fr/statistiques/fichier/3568638/bpe21_ensemble_xy_csv.zip'\n",
    "r = requests.get(url)\n",
    "z = zipfile.ZipFile(io.BytesIO(r.content))\n",
    "z.extractall()\n",
    "\n",
    "# We obtain two csv files"
   ]
  },
  {
   "cell_type": "code",
   "execution_count": 5,
   "id": "48a44acd-9a65-44c3-b772-a20598ec8f75",
   "metadata": {},
   "outputs": [],
   "source": [
    "# Reading the file with information about equipments\n",
    "dicType = {'BV2012': str, 'DCIRIS': str, 'DEP': str, 'DEPCOM': str, 'DOM': str, 'EPCI': str, 'SDOM': str}\n",
    "BPE = pd.read_csv('bpe21_ensemble_xy.csv', sep=\";\", dtype = dicType)"
   ]
  },
  {
   "cell_type": "code",
   "execution_count": 6,
   "id": "fc7855db-d474-4c9d-95f6-25fd142fd18c",
   "metadata": {},
   "outputs": [],
   "source": [
    "# Reducing the file to keep only Paris\n",
    "with open('bpeParis.csv','w') as f:\n",
    "    f = BPE.loc[BPE['DEP'] == '75']\n",
    "    f.to_csv('bpeParis.csv')\n",
    "\n",
    "# Please delete csv files that are too big to push\n",
    "# i.e. bpe21_ensemble_xy.csv and Varmod_bpe21_ensemble_xy.csv"
   ]
  },
  {
   "cell_type": "markdown",
   "id": "291e3167-77e9-4d81-ae15-4144c1599561",
   "metadata": {},
   "source": [
    "## II- Traitement préliminaire pour associer les IRIS et les arrondissements"
   ]
  },
  {
   "cell_type": "markdown",
   "id": "a7f51320-7cd1-46a8-ab29-48dc3486fefe",
   "metadata": {},
   "source": [
    "La base des équipements utilise le découpage territorial en IRIS, alors que les notes concernent les arrondissements. Pour obtenir des résultats sur les arrondissements, il convient donc d'associer chaque arrondissement aux IRIS qui le composent."
   ]
  },
  {
   "cell_type": "code",
   "execution_count": 7,
   "id": "e9f93dbc-8ad4-42b5-8325-c0e2c4cfe32e",
   "metadata": {},
   "outputs": [],
   "source": [
    "# Getting the file containing matchings between arrondissements and IRIS\n",
    "url_1 = 'https://www.insee.fr/fr/statistiques/fichier/2017499/reference_IRIS_geo2023.zip'\n",
    "r1 = requests.get(url_1)\n",
    "z1 = zipfile.ZipFile(io.BytesIO(r1.content))\n",
    "z1.extractall()\n",
    "Ref_IRIS = pd.read_excel('reference_IRIS_geo2023.xlsx')"
   ]
  },
  {
   "cell_type": "code",
   "execution_count": 12,
   "id": "f82277d8-5049-4edc-afb0-b5b4021ccd82",
   "metadata": {},
   "outputs": [],
   "source": [
    "# Changing the names of the columns\n",
    "# It is only further in the excel file that we find the right column names\n",
    "wrong_names = pd.Series.tolist(Ref_IRIS.columns)\n",
    "col_names = pd.Series.tolist(Ref_IRIS.iloc[4])\n",
    "dictionary_names = dict(zip(wrong_names, col_names))\n",
    "Ref_IRIS = Ref_IRIS.rename(columns = dictionary_names)\n",
    "\n",
    "# We obtain the right names of columns"
   ]
  },
  {
   "cell_type": "code",
   "execution_count": 13,
   "id": "78db2015-aa99-4757-ae35-c20c481b612d",
   "metadata": {},
   "outputs": [],
   "source": [
    "# Obtaining a list with IRIS in the 1st arrondissement of Paris\n",
    "Arr1 = Ref_IRIS[Ref_IRIS['LIBCOM'] == 'Paris 1er Arrondissement']\n",
    "liste1 = pd.Series.tolist(Arr1['CODE_IRIS'])"
   ]
  },
  {
   "cell_type": "code",
   "execution_count": 14,
   "id": "9c216306-97d3-4810-8d8d-6c326c01aa19",
   "metadata": {},
   "outputs": [],
   "source": [
    "#The same with all the other arrondissements\n",
    "\n",
    "dicIRIS = {'Paris 1er Arrondissement': liste1}\n",
    "for i in range(2,21):\n",
    "    j = str(i)\n",
    "    key_arr = 'Paris ' + j + 'e Arrondissement'\n",
    "    Arr = Ref_IRIS[Ref_IRIS['LIBCOM'] == key_arr]\n",
    "    val_arr = pd.Series.tolist(Arr['CODE_IRIS'])\n",
    "    dicIRIS[key_arr] = val_arr\n",
    "\n",
    "# We obtain a dictionary with the name of the arrondissement as a key \n",
    "# and a list with the numbers of IRIS corresponding as a value"
   ]
  },
  {
   "cell_type": "markdown",
   "id": "78a9bf0d-9527-4759-8fa7-c48f1c8dba66",
   "metadata": {},
   "source": [
    "## III- Étude des commerces"
   ]
  },
  {
   "cell_type": "markdown",
   "id": "6a465a54-7768-49ee-ba27-4adb6f92ba17",
   "metadata": {},
   "source": [
    "Nous nous intéressons ici à la catégorie B dans le fichier bpeParis.csv"
   ]
  },
  {
   "cell_type": "markdown",
   "id": "6db5a36e-c392-40b4-bef0-681977bed4b6",
   "metadata": {},
   "source": [
    "### A- Préambule"
   ]
  },
  {
   "cell_type": "code",
   "execution_count": 15,
   "id": "e06994f6-c716-4758-8e56-eb3805f2f63a",
   "metadata": {},
   "outputs": [],
   "source": [
    "dicType = {'BV2012': str, 'DCIRIS': str, 'DEP': str, 'DEPCOM': str, 'DOM': str, 'EPCI': str, 'SDOM': str}\n",
    "BPE = pd.read_csv('bpeParis.csv', sep=\",\", dtype = dicType)"
   ]
  },
  {
   "cell_type": "code",
   "execution_count": null,
   "id": "19c23d1d-f979-4cf1-aa1c-025abbce620c",
   "metadata": {},
   "outputs": [],
   "source": [
    "# Number of \"Grandes surfaces\" (B1) by arrondissement\n",
    "\n",
    "# Concerning the 1st arrondissement of Paris\n",
    "n1 = 0 # Number initialized\n",
    "for iris in dicIRIS['Paris 1er Arrondissement']:\n",
    "    col = BPE[(BPE['DCIRIS'] == iris) & (BPE['SDOM'] == 'B1')]\n",
    "    n1 += len(col) # number of lines\n",
    "\n",
    "# Concerning the rest of the arrondissements\n",
    "dicB1 = {'1er Arrondissement': n1}\n",
    "n = 0\n",
    "for i in range(2,21):\n",
    "    key_arr = 'Paris ' + str(i) + 'e Arrondissement'\n",
    "    for iris in dicIRIS[key_arr]:\n",
    "        col = BPE[(BPE['DCIRIS'] == iris) & (BPE['SDOM'] == 'B1')]\n",
    "        n += len(col)\n",
    "    dicB1[str(i) + 'e Arrondissement'] = n\n",
    "    n = 0\n",
    "\n",
    "# We obtain a dictionary with the name of the arrondissement as a key \n",
    "# and the number of \"Grandes surfaces\" as a value"
   ]
  },
  {
   "cell_type": "code",
   "execution_count": null,
   "id": "3556f7ee-dbe2-40e3-a010-4e71400f1a58",
   "metadata": {},
   "outputs": [],
   "source": [
    "# Number of \"commerces alimentaires\" (B2) by arrondissement\n",
    "\n",
    "# Concerning the 1st arrondissement of Paris\n",
    "n1 = 0 # Number initialized\n",
    "for iris in dicIRIS['Paris 1er Arrondissement']:\n",
    "    col = BPE[(BPE['DCIRIS'] == iris) & (BPE['SDOM'] == 'B2')]\n",
    "    n1 += len(col) # number of lines\n",
    "\n",
    "# Concerning the rest of the arrondissements\n",
    "dicB2 = {'1er Arrondissement': n1}\n",
    "n = 0\n",
    "for i in range(2,21):\n",
    "    key_arr = 'Paris ' + str(i) + 'e Arrondissement'\n",
    "    for iris in dicIRIS[key_arr]:\n",
    "        col = BPE[(BPE['DCIRIS'] == iris) & (BPE['SDOM'] == 'B2')]\n",
    "        n += len(col)\n",
    "    dicB2[str(i) + 'e Arrondissement'] = n\n",
    "    n = 0\n",
    "\n",
    "# We obtain a dictionary with the name of the arrondissement as a key \n",
    "# and the number of \"commerces alimentaires\" as a value"
   ]
  },
  {
   "cell_type": "code",
   "execution_count": null,
   "id": "fee68290-8df7-4fc1-944d-11b5ee386bb2",
   "metadata": {},
   "outputs": [],
   "source": [
    "# More precisely, we want to have the number of each type of equipments whose field is B, i.e. \"commerces\", for each arrondissement\n",
    "# To obtain this, we will create a csv file\n",
    "\n",
    "# Concerning the 1st arrondissement of Paris\n",
    "n1 = 0 # Number initialized\n",
    "listType = ['B101', 'B102', 'B103', 'B201', 'B202', 'B203', 'B204', 'B205', 'B206', 'B301', 'B302', 'B303', 'B304', 'B305', 'B306', 'B307', 'B308', 'B309', 'B310', 'B311', 'B312', 'B313', 'B314', 'B315', 'B316']\n",
    "list1 = []\n",
    "for type in listType:\n",
    "    for iris in dicIRIS['Paris 1er Arrondissement']:\n",
    "        col = BPE[(BPE['DCIRIS'] == iris) & (BPE['TYPEQU'] == type)]\n",
    "        n1 += len(col) # number of lines\n",
    "    list1.append(n1)\n",
    "    n1 = 0\n",
    "\n",
    "# Concerning the rest of the arrondissements\n",
    "dicB = {'1er Arrondissement': list1}\n",
    "n = 0\n",
    "for arr in range(2,21):\n",
    "    key_arr = 'Paris ' + str(arr) + 'e Arrondissement'\n",
    "    listBType = []\n",
    "    for type in listType:\n",
    "        for iris in dicIRIS[key_arr]:\n",
    "            col = BPE[(BPE['DCIRIS'] == iris) & (BPE['TYPEQU'] == type)]\n",
    "            n += len(col)\n",
    "        listBType.append(n)\n",
    "        n = 0\n",
    "    dicB[str(arr) + 'e Arrondissement'] = listBType\n",
    "\n",
    "Commerces_precis = pd.DataFrame(dicB)\n",
    "Commerces_precis.set_axis(listType, axis = 0)\n",
    "Commerces_precis.to_csv('Commerces.csv', index = False)\n",
    "\n",
    "# Each row is one type of equipment"
   ]
  },
  {
   "cell_type": "markdown",
   "id": "699d4bce-bf36-42a0-845a-47465899eae3",
   "metadata": {},
   "source": [
    "### B- Régressions"
   ]
  },
  {
   "cell_type": "code",
   "execution_count": null,
   "id": "d8868f8e-e963-4be7-a5c5-44bc2d4b606f",
   "metadata": {},
   "outputs": [],
   "source": [
    "##### Reading the excel file containing the grades obtained by each arrondissement in varied fields\n",
    "\n",
    "Notes_arr = pd.read_excel('Notes_arrondissements.xlsx')\n",
    "notes = pd.Series(Notes_arr['Commerces'])\n",
    "notes = notes.str.replace(',', '.')\n",
    "notes = pd.Series.tolist(notes)\n",
    "\n",
    "Commerces = pd.read_csv('Commerces.csv')"
   ]
  },
  {
   "cell_type": "code",
   "execution_count": null,
   "id": "62aec990-ac3d-415c-b0ed-a17e82dee49c",
   "metadata": {},
   "outputs": [],
   "source": []
  }
 ],
 "metadata": {
  "kernelspec": {
   "display_name": "Python 3 (ipykernel)",
   "language": "python",
   "name": "python3"
  },
  "language_info": {
   "codemirror_mode": {
    "name": "ipython",
    "version": 3
   },
   "file_extension": ".py",
   "mimetype": "text/x-python",
   "name": "python",
   "nbconvert_exporter": "python",
   "pygments_lexer": "ipython3",
   "version": "3.10.13"
  }
 },
 "nbformat": 4,
 "nbformat_minor": 5
}
