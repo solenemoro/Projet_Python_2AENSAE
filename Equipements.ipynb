{
 "cells": [
  {
   "cell_type": "markdown",
   "id": "621e13a5-03bc-4255-b4f4-e87302d277e3",
   "metadata": {},
   "source": [
    "# Étude du lien entre les notes attribuées et la présence d'équipements"
   ]
  },
  {
   "cell_type": "markdown",
   "id": "cc9d30c0-6e55-4222-a263-eac524872a02",
   "metadata": {},
   "source": [
    "## I- Import des données"
   ]
  },
  {
   "cell_type": "code",
   "execution_count": 1,
   "id": "96707707-bdf2-47bd-85d5-e23660d21ec0",
   "metadata": {},
   "outputs": [
    {
     "name": "stdout",
     "output_type": "stream",
     "text": [
      "Collecting openpyxl\n",
      "  Downloading openpyxl-3.1.2-py2.py3-none-any.whl (249 kB)\n",
      "\u001b[2K     \u001b[90m━━━━━━━━━━━━━━━━━━━━━━━━━━━━━━━━━━━━━━━\u001b[0m \u001b[32m250.0/250.0 kB\u001b[0m \u001b[31m6.7 MB/s\u001b[0m eta \u001b[36m0:00:00\u001b[0m00:01\u001b[0m\n",
      "\u001b[?25hCollecting et-xmlfile (from openpyxl)\n",
      "  Downloading et_xmlfile-1.1.0-py3-none-any.whl (4.7 kB)\n",
      "Installing collected packages: et-xmlfile, openpyxl\n",
      "Successfully installed et-xmlfile-1.1.0 openpyxl-3.1.2\n",
      "Collecting git+https://github.com/inseefrlab/cartiflette@80b8a5a28371feb6df31d55bcc2617948a5f9b1a\n",
      "  Cloning https://github.com/inseefrlab/cartiflette (to revision 80b8a5a28371feb6df31d55bcc2617948a5f9b1a) to /tmp/pip-req-build-xwjeof1o\n",
      "  Running command git clone --filter=blob:none --quiet https://github.com/inseefrlab/cartiflette /tmp/pip-req-build-xwjeof1o\n",
      "  Running command git rev-parse -q --verify 'sha^80b8a5a28371feb6df31d55bcc2617948a5f9b1a'\n",
      "  Running command git fetch -q https://github.com/inseefrlab/cartiflette 80b8a5a28371feb6df31d55bcc2617948a5f9b1a\n",
      "  Running command git checkout -q 80b8a5a28371feb6df31d55bcc2617948a5f9b1a\n",
      "  Resolved https://github.com/inseefrlab/cartiflette to commit 80b8a5a28371feb6df31d55bcc2617948a5f9b1a\n",
      "  Installing build dependencies ... \u001b[?25ldone\n",
      "\u001b[?25h  Getting requirements to build wheel ... \u001b[?25ldone\n",
      "\u001b[?25h  Preparing metadata (pyproject.toml) ... \u001b[?25ldone\n",
      "\u001b[?25hRequirement already satisfied: PyYAML<7.0,>=6.0 in /opt/mamba/lib/python3.10/site-packages (from cartiflette==0.0.1) (6.0.1)\n",
      "Collecting appdirs<2.0.0,>=1.4.4 (from cartiflette==0.0.1)\n",
      "  Downloading appdirs-1.4.4-py2.py3-none-any.whl (9.6 kB)\n",
      "Collecting geopandas<0.13.0,>=0.12.2 (from cartiflette==0.0.1)\n",
      "  Downloading geopandas-0.12.2-py3-none-any.whl (1.1 MB)\n",
      "\u001b[2K     \u001b[90m━━━━━━━━━━━━━━━━━━━━━━━━━━━━━━━━━━━━━━━━\u001b[0m \u001b[32m1.1/1.1 MB\u001b[0m \u001b[31m24.4 MB/s\u001b[0m eta \u001b[36m0:00:00\u001b[0m00:01\u001b[0m\n",
      "\u001b[?25hRequirement already satisfied: matplotlib<4.0.0,>=3.7.1 in /opt/mamba/lib/python3.10/site-packages (from cartiflette==0.0.1) (3.8.2)\n",
      "Requirement already satisfied: openpyxl<4.0.0,>=3.1.1 in /opt/mamba/lib/python3.10/site-packages (from cartiflette==0.0.1) (3.1.2)\n",
      "Collecting owslib<0.29.0,>=0.28.1 (from cartiflette==0.0.1)\n",
      "  Downloading OWSLib-0.28.1-py2.py3-none-any.whl (219 kB)\n",
      "\u001b[2K     \u001b[90m━━━━━━━━━━━━━━━━━━━━━━━━━━━━━━━━━━━━━━━\u001b[0m \u001b[32m219.6/219.6 kB\u001b[0m \u001b[31m6.6 MB/s\u001b[0m eta \u001b[36m0:00:00\u001b[0m\n",
      "\u001b[?25hCollecting py7zr<0.21.0,>=0.20.4 (from cartiflette==0.0.1)\n",
      "  Downloading py7zr-0.20.8-py3-none-any.whl.metadata (16 kB)\n",
      "Requirement already satisfied: requests<3.0.0,>=2.28.2 in /opt/mamba/lib/python3.10/site-packages (from cartiflette==0.0.1) (2.31.0)\n",
      "Collecting s3fs<2024.0.0,>=2023.3.0 (from cartiflette==0.0.1)\n",
      "  Downloading s3fs-2023.12.2-py3-none-any.whl.metadata (1.6 kB)\n",
      "Collecting topojson<2.0,>=1.5 (from cartiflette==0.0.1)\n",
      "  Downloading topojson-1.7-py2.py3-none-any.whl.metadata (3.8 kB)\n",
      "Requirement already satisfied: tqdm<5.0.0,>=4.65.0 in /opt/mamba/lib/python3.10/site-packages (from cartiflette==0.0.1) (4.66.1)\n",
      "Collecting xlrd<3.0.0,>=2.0.1 (from cartiflette==0.0.1)\n",
      "  Downloading xlrd-2.0.1-py2.py3-none-any.whl (96 kB)\n",
      "\u001b[2K     \u001b[90m━━━━━━━━━━━━━━━━━━━━━━━━━━━━━━━━━━━━━━━\u001b[0m \u001b[32m96.5/96.5 kB\u001b[0m \u001b[31m779.8 kB/s\u001b[0m eta \u001b[36m0:00:00\u001b[0ma \u001b[36m0:00:01\u001b[0m\n",
      "\u001b[?25hRequirement already satisfied: pandas>=1.0.0 in /opt/mamba/lib/python3.10/site-packages (from geopandas<0.13.0,>=0.12.2->cartiflette==0.0.1) (2.1.4)\n",
      "Requirement already satisfied: shapely>=1.7 in /opt/mamba/lib/python3.10/site-packages (from geopandas<0.13.0,>=0.12.2->cartiflette==0.0.1) (2.0.2)\n",
      "Requirement already satisfied: fiona>=1.8 in /opt/mamba/lib/python3.10/site-packages (from geopandas<0.13.0,>=0.12.2->cartiflette==0.0.1) (1.9.3)\n",
      "Requirement already satisfied: pyproj>=2.6.1.post1 in /opt/mamba/lib/python3.10/site-packages (from geopandas<0.13.0,>=0.12.2->cartiflette==0.0.1) (3.6.1)\n",
      "Requirement already satisfied: packaging in /opt/mamba/lib/python3.10/site-packages (from geopandas<0.13.0,>=0.12.2->cartiflette==0.0.1) (23.1)\n",
      "Requirement already satisfied: contourpy>=1.0.1 in /opt/mamba/lib/python3.10/site-packages (from matplotlib<4.0.0,>=3.7.1->cartiflette==0.0.1) (1.2.0)\n",
      "Requirement already satisfied: cycler>=0.10 in /opt/mamba/lib/python3.10/site-packages (from matplotlib<4.0.0,>=3.7.1->cartiflette==0.0.1) (0.12.1)\n",
      "Requirement already satisfied: fonttools>=4.22.0 in /opt/mamba/lib/python3.10/site-packages (from matplotlib<4.0.0,>=3.7.1->cartiflette==0.0.1) (4.46.0)\n",
      "Requirement already satisfied: kiwisolver>=1.3.1 in /opt/mamba/lib/python3.10/site-packages (from matplotlib<4.0.0,>=3.7.1->cartiflette==0.0.1) (1.4.5)\n",
      "Requirement already satisfied: numpy<2,>=1.21 in /opt/mamba/lib/python3.10/site-packages (from matplotlib<4.0.0,>=3.7.1->cartiflette==0.0.1) (1.26.2)\n",
      "Requirement already satisfied: pillow>=8 in /opt/mamba/lib/python3.10/site-packages (from matplotlib<4.0.0,>=3.7.1->cartiflette==0.0.1) (10.1.0)\n",
      "Requirement already satisfied: pyparsing>=2.3.1 in /opt/mamba/lib/python3.10/site-packages (from matplotlib<4.0.0,>=3.7.1->cartiflette==0.0.1) (3.1.1)\n",
      "Requirement already satisfied: python-dateutil>=2.7 in /opt/mamba/lib/python3.10/site-packages (from matplotlib<4.0.0,>=3.7.1->cartiflette==0.0.1) (2.8.2)\n",
      "Requirement already satisfied: et-xmlfile in /opt/mamba/lib/python3.10/site-packages (from openpyxl<4.0.0,>=3.1.1->cartiflette==0.0.1) (1.1.0)\n",
      "Collecting lxml (from owslib<0.29.0,>=0.28.1->cartiflette==0.0.1)\n",
      "  Downloading lxml-4.9.4-cp310-cp310-manylinux_2_28_x86_64.whl.metadata (3.7 kB)\n",
      "Requirement already satisfied: pytz in /opt/mamba/lib/python3.10/site-packages (from owslib<0.29.0,>=0.28.1->cartiflette==0.0.1) (2023.3.post1)\n",
      "Collecting texttable (from py7zr<0.21.0,>=0.20.4->cartiflette==0.0.1)\n",
      "  Downloading texttable-1.7.0-py2.py3-none-any.whl.metadata (9.8 kB)\n",
      "Collecting pycryptodomex>=3.16.0 (from py7zr<0.21.0,>=0.20.4->cartiflette==0.0.1)\n",
      "  Downloading pycryptodomex-3.19.0-cp35-abi3-manylinux_2_17_x86_64.manylinux2014_x86_64.whl.metadata (3.4 kB)\n",
      "Collecting pyzstd>=0.15.9 (from py7zr<0.21.0,>=0.20.4->cartiflette==0.0.1)\n",
      "  Downloading pyzstd-0.15.9-cp310-cp310-manylinux_2_17_x86_64.manylinux2014_x86_64.whl.metadata (7.5 kB)\n",
      "Collecting pyppmd<1.2.0,>=1.1.0 (from py7zr<0.21.0,>=0.20.4->cartiflette==0.0.1)\n",
      "  Downloading pyppmd-1.1.0-cp310-cp310-manylinux_2_17_x86_64.manylinux2014_x86_64.whl.metadata (5.7 kB)\n",
      "Collecting pybcj<1.1.0,>=1.0.0 (from py7zr<0.21.0,>=0.20.4->cartiflette==0.0.1)\n",
      "  Downloading pybcj-1.0.2-cp310-cp310-manylinux_2_17_x86_64.manylinux2014_x86_64.whl.metadata (4.0 kB)\n",
      "Collecting multivolumefile>=0.2.3 (from py7zr<0.21.0,>=0.20.4->cartiflette==0.0.1)\n",
      "  Downloading multivolumefile-0.2.3-py3-none-any.whl (17 kB)\n",
      "Collecting inflate64<1.1.0,>=1.0.0 (from py7zr<0.21.0,>=0.20.4->cartiflette==0.0.1)\n",
      "  Downloading inflate64-1.0.0-cp310-cp310-manylinux_2_17_x86_64.manylinux2014_x86_64.whl.metadata (4.0 kB)\n",
      "Requirement already satisfied: brotli>=1.1.0 in /opt/mamba/lib/python3.10/site-packages (from py7zr<0.21.0,>=0.20.4->cartiflette==0.0.1) (1.1.0)\n",
      "Requirement already satisfied: psutil in /opt/mamba/lib/python3.10/site-packages (from py7zr<0.21.0,>=0.20.4->cartiflette==0.0.1) (5.9.7)\n",
      "Requirement already satisfied: charset-normalizer<4,>=2 in /opt/mamba/lib/python3.10/site-packages (from requests<3.0.0,>=2.28.2->cartiflette==0.0.1) (3.2.0)\n",
      "Requirement already satisfied: idna<4,>=2.5 in /opt/mamba/lib/python3.10/site-packages (from requests<3.0.0,>=2.28.2->cartiflette==0.0.1) (3.4)\n",
      "Requirement already satisfied: urllib3<3,>=1.21.1 in /opt/mamba/lib/python3.10/site-packages (from requests<3.0.0,>=2.28.2->cartiflette==0.0.1) (1.26.18)\n",
      "Requirement already satisfied: certifi>=2017.4.17 in /opt/mamba/lib/python3.10/site-packages (from requests<3.0.0,>=2.28.2->cartiflette==0.0.1) (2023.11.17)\n",
      "Collecting aiobotocore<3.0.0,>=2.5.4 (from s3fs<2024.0.0,>=2023.3.0->cartiflette==0.0.1)\n",
      "  Downloading aiobotocore-2.9.0-py3-none-any.whl.metadata (20 kB)\n",
      "Requirement already satisfied: fsspec==2023.12.2 in /opt/mamba/lib/python3.10/site-packages (from s3fs<2024.0.0,>=2023.3.0->cartiflette==0.0.1) (2023.12.2)\n",
      "Requirement already satisfied: aiohttp!=4.0.0a0,!=4.0.0a1 in /opt/mamba/lib/python3.10/site-packages (from s3fs<2024.0.0,>=2023.3.0->cartiflette==0.0.1) (3.9.1)\n",
      "Collecting botocore<1.33.14,>=1.33.2 (from aiobotocore<3.0.0,>=2.5.4->s3fs<2024.0.0,>=2023.3.0->cartiflette==0.0.1)\n",
      "  Downloading botocore-1.33.13-py3-none-any.whl.metadata (6.1 kB)\n",
      "Collecting wrapt<2.0.0,>=1.10.10 (from aiobotocore<3.0.0,>=2.5.4->s3fs<2024.0.0,>=2023.3.0->cartiflette==0.0.1)\n",
      "  Downloading wrapt-1.16.0-cp310-cp310-manylinux_2_5_x86_64.manylinux1_x86_64.manylinux_2_17_x86_64.manylinux2014_x86_64.whl.metadata (6.6 kB)\n",
      "Collecting aioitertools<1.0.0,>=0.5.1 (from aiobotocore<3.0.0,>=2.5.4->s3fs<2024.0.0,>=2023.3.0->cartiflette==0.0.1)\n",
      "  Downloading aioitertools-0.11.0-py3-none-any.whl (23 kB)\n",
      "Requirement already satisfied: attrs>=17.3.0 in /opt/mamba/lib/python3.10/site-packages (from aiohttp!=4.0.0a0,!=4.0.0a1->s3fs<2024.0.0,>=2023.3.0->cartiflette==0.0.1) (23.1.0)\n",
      "Requirement already satisfied: multidict<7.0,>=4.5 in /opt/mamba/lib/python3.10/site-packages (from aiohttp!=4.0.0a0,!=4.0.0a1->s3fs<2024.0.0,>=2023.3.0->cartiflette==0.0.1) (6.0.4)\n",
      "Requirement already satisfied: yarl<2.0,>=1.0 in /opt/mamba/lib/python3.10/site-packages (from aiohttp!=4.0.0a0,!=4.0.0a1->s3fs<2024.0.0,>=2023.3.0->cartiflette==0.0.1) (1.9.3)\n",
      "Requirement already satisfied: frozenlist>=1.1.1 in /opt/mamba/lib/python3.10/site-packages (from aiohttp!=4.0.0a0,!=4.0.0a1->s3fs<2024.0.0,>=2023.3.0->cartiflette==0.0.1) (1.4.1)\n",
      "Requirement already satisfied: aiosignal>=1.1.2 in /opt/mamba/lib/python3.10/site-packages (from aiohttp!=4.0.0a0,!=4.0.0a1->s3fs<2024.0.0,>=2023.3.0->cartiflette==0.0.1) (1.3.1)\n",
      "Requirement already satisfied: async-timeout<5.0,>=4.0 in /opt/mamba/lib/python3.10/site-packages (from aiohttp!=4.0.0a0,!=4.0.0a1->s3fs<2024.0.0,>=2023.3.0->cartiflette==0.0.1) (4.0.3)\n",
      "Requirement already satisfied: click~=8.0 in /opt/mamba/lib/python3.10/site-packages (from fiona>=1.8->geopandas<0.13.0,>=0.12.2->cartiflette==0.0.1) (8.1.7)\n",
      "Requirement already satisfied: click-plugins>=1.0 in /opt/mamba/lib/python3.10/site-packages (from fiona>=1.8->geopandas<0.13.0,>=0.12.2->cartiflette==0.0.1) (1.1.1)\n",
      "Requirement already satisfied: cligj>=0.5 in /opt/mamba/lib/python3.10/site-packages (from fiona>=1.8->geopandas<0.13.0,>=0.12.2->cartiflette==0.0.1) (0.7.2)\n",
      "Requirement already satisfied: munch>=2.3.2 in /opt/mamba/lib/python3.10/site-packages (from fiona>=1.8->geopandas<0.13.0,>=0.12.2->cartiflette==0.0.1) (4.0.0)\n",
      "Requirement already satisfied: tzdata>=2022.1 in /opt/mamba/lib/python3.10/site-packages (from pandas>=1.0.0->geopandas<0.13.0,>=0.12.2->cartiflette==0.0.1) (2023.3)\n",
      "Requirement already satisfied: six>=1.5 in /opt/mamba/lib/python3.10/site-packages (from python-dateutil>=2.7->matplotlib<4.0.0,>=3.7.1->cartiflette==0.0.1) (1.16.0)\n",
      "Requirement already satisfied: jmespath<2.0.0,>=0.7.1 in /opt/mamba/lib/python3.10/site-packages (from botocore<1.33.14,>=1.33.2->aiobotocore<3.0.0,>=2.5.4->s3fs<2024.0.0,>=2023.3.0->cartiflette==0.0.1) (1.0.1)\n",
      "Downloading py7zr-0.20.8-py3-none-any.whl (67 kB)\n",
      "\u001b[2K   \u001b[90m━━━━━━━━━━━━━━━━━━━━━━━━━━━━━━━━━━━━━━━━\u001b[0m \u001b[32m67.0/67.0 kB\u001b[0m \u001b[31m9.8 MB/s\u001b[0m eta \u001b[36m0:00:00\u001b[0m\n",
      "\u001b[?25hDownloading s3fs-2023.12.2-py3-none-any.whl (28 kB)\n",
      "Downloading topojson-1.7-py2.py3-none-any.whl (82 kB)\n",
      "\u001b[2K   \u001b[90m━━━━━━━━━━━━━━━━━━━━━━━━━━━━━━━━━━━━━━━━\u001b[0m \u001b[32m82.1/82.1 kB\u001b[0m \u001b[31m5.8 MB/s\u001b[0m eta \u001b[36m0:00:00\u001b[0m\n",
      "\u001b[?25hDownloading aiobotocore-2.9.0-py3-none-any.whl (75 kB)\n",
      "\u001b[2K   \u001b[90m━━━━━━━━━━━━━━━━━━━━━━━━━━━━━━━━━━━━━━━━\u001b[0m \u001b[32m76.0/76.0 kB\u001b[0m \u001b[31m10.3 MB/s\u001b[0m eta \u001b[36m0:00:00\u001b[0m\n",
      "\u001b[?25hDownloading inflate64-1.0.0-cp310-cp310-manylinux_2_17_x86_64.manylinux2014_x86_64.whl (93 kB)\n",
      "\u001b[2K   \u001b[90m━━━━━━━━━━━━━━━━━━━━━━━━━━━━━━━━━━━━━━━━\u001b[0m \u001b[32m93.1/93.1 kB\u001b[0m \u001b[31m17.6 MB/s\u001b[0m eta \u001b[36m0:00:00\u001b[0m\n",
      "\u001b[?25hDownloading pybcj-1.0.2-cp310-cp310-manylinux_2_17_x86_64.manylinux2014_x86_64.whl (49 kB)\n",
      "\u001b[2K   \u001b[90m━━━━━━━━━━━━━━━━━━━━━━━━━━━━━━━━━━━━━━━━\u001b[0m \u001b[32m49.7/49.7 kB\u001b[0m \u001b[31m9.0 MB/s\u001b[0m eta \u001b[36m0:00:00\u001b[0m\n",
      "\u001b[?25hDownloading pycryptodomex-3.19.0-cp35-abi3-manylinux_2_17_x86_64.manylinux2014_x86_64.whl (2.1 MB)\n",
      "\u001b[2K   \u001b[90m━━━━━━━━━━━━━━━━━━━━━━━━━━━━━━━━━━━━━━━━\u001b[0m \u001b[32m2.1/2.1 MB\u001b[0m \u001b[31m27.4 MB/s\u001b[0m eta \u001b[36m0:00:00\u001b[0m:00:01\u001b[0m\n",
      "\u001b[?25hDownloading pyppmd-1.1.0-cp310-cp310-manylinux_2_17_x86_64.manylinux2014_x86_64.whl (138 kB)\n",
      "\u001b[2K   \u001b[90m━━━━━━━━━━━━━━━━━━━━━━━━━━━━━━━━━━━━━━━━\u001b[0m \u001b[32m138.9/138.9 kB\u001b[0m \u001b[31m10.5 MB/s\u001b[0m eta \u001b[36m0:00:00\u001b[0m\n",
      "\u001b[?25hDownloading pyzstd-0.15.9-cp310-cp310-manylinux_2_17_x86_64.manylinux2014_x86_64.whl (412 kB)\n",
      "\u001b[2K   \u001b[90m━━━━━━━━━━━━━━━━━━━━━━━━━━━━━━━━━━━━━━━━\u001b[0m \u001b[32m412.3/412.3 kB\u001b[0m \u001b[31m8.6 MB/s\u001b[0m eta \u001b[36m0:00:00\u001b[0m:00:01\u001b[0m\n",
      "\u001b[?25hDownloading lxml-4.9.4-cp310-cp310-manylinux_2_28_x86_64.whl (7.9 MB)\n",
      "\u001b[2K   \u001b[90m━━━━━━━━━━━━━━━━━━━━━━━━━━━━━━━━━━━━━━━━\u001b[0m \u001b[32m7.9/7.9 MB\u001b[0m \u001b[31m44.6 MB/s\u001b[0m eta \u001b[36m0:00:00\u001b[0m00:01\u001b[0m00:01\u001b[0m\n",
      "\u001b[?25hDownloading texttable-1.7.0-py2.py3-none-any.whl (10 kB)\n",
      "Downloading botocore-1.33.13-py3-none-any.whl (11.8 MB)\n",
      "\u001b[2K   \u001b[90m━━━━━━━━━━━━━━━━━━━━━━━━━━━━━━━━━━━━━━━━\u001b[0m \u001b[32m11.8/11.8 MB\u001b[0m \u001b[31m67.5 MB/s\u001b[0m eta \u001b[36m0:00:00\u001b[0m00:01\u001b[0m0:01\u001b[0m\n",
      "\u001b[?25hDownloading wrapt-1.16.0-cp310-cp310-manylinux_2_5_x86_64.manylinux1_x86_64.manylinux_2_17_x86_64.manylinux2014_x86_64.whl (80 kB)\n",
      "\u001b[2K   \u001b[90m━━━━━━━━━━━━━━━━━━━━━━━━━━━━━━━━━━━━━━━━\u001b[0m \u001b[32m80.3/80.3 kB\u001b[0m \u001b[31m4.0 MB/s\u001b[0m eta \u001b[36m0:00:00\u001b[0m\n",
      "\u001b[?25hBuilding wheels for collected packages: cartiflette\n",
      "  Building wheel for cartiflette (pyproject.toml) ... \u001b[?25ldone\n",
      "\u001b[?25h  Created wheel for cartiflette: filename=cartiflette-0.0.1-py3-none-any.whl size=33970 sha256=485fd682c2b6cbea8426492e8f3110d9305a95b0327185b9b236b9bd12cbd10c\n",
      "  Stored in directory: /home/onyxia/.cache/pip/wheels/d8/e2/0f/69d93504f90599fad135cc8d8c9cdc5c2d26eaacfafd18c305\n",
      "Successfully built cartiflette\n",
      "Installing collected packages: texttable, appdirs, xlrd, wrapt, pyzstd, pyppmd, pycryptodomex, pybcj, multivolumefile, lxml, inflate64, aioitertools, topojson, py7zr, owslib, botocore, geopandas, aiobotocore, s3fs, cartiflette\n",
      "  Attempting uninstall: botocore\n",
      "    Found existing installation: botocore 1.34.2\n",
      "    Uninstalling botocore-1.34.2:\n",
      "      Successfully uninstalled botocore-1.34.2\n",
      "  Attempting uninstall: geopandas\n",
      "    Found existing installation: geopandas 0.14.1\n",
      "    Uninstalling geopandas-0.14.1:\n",
      "      Successfully uninstalled geopandas-0.14.1\n",
      "  Attempting uninstall: s3fs\n",
      "    Found existing installation: s3fs 0.4.2\n",
      "    Uninstalling s3fs-0.4.2:\n",
      "      Successfully uninstalled s3fs-0.4.2\n",
      "\u001b[31mERROR: pip's dependency resolver does not currently take into account all the packages that are installed. This behaviour is the source of the following dependency conflicts.\n",
      "boto3 1.34.2 requires botocore<1.35.0,>=1.34.2, but you have botocore 1.33.13 which is incompatible.\u001b[0m\u001b[31m\n",
      "\u001b[0mSuccessfully installed aiobotocore-2.9.0 aioitertools-0.11.0 appdirs-1.4.4 botocore-1.33.13 cartiflette-0.0.1 geopandas-0.12.2 inflate64-1.0.0 lxml-4.9.4 multivolumefile-0.2.3 owslib-0.28.1 py7zr-0.20.8 pybcj-1.0.2 pycryptodomex-3.19.0 pyppmd-1.1.0 pyzstd-0.15.9 s3fs-2023.12.2 texttable-1.7.0 topojson-1.7 wrapt-1.16.0 xlrd-2.0.1\n"
     ]
    }
   ],
   "source": [
    "!pip install openpyxl\n",
    "!pip install git+https://github.com/inseefrlab/cartiflette@80b8a5a28371feb6df31d55bcc2617948a5f9b1a\n",
    "import pandas as pd\n",
    "import requests\n",
    "import io\n",
    "import zipfile\n",
    "import sklearn\n",
    "from sklearn.linear_model import LinearRegression\n",
    "import numpy as np\n",
    "import matplotlib.pyplot as plt\n",
    "import os\n",
    "import cartiflette.s3 as s3"
   ]
  },
  {
   "cell_type": "markdown",
   "id": "d5010d3c-4145-4049-a3bb-7376b6020878",
   "metadata": {},
   "source": [
    "Nous commençons par télécharger les données relatives à divers équipements dans l'ensemble de la France, données issues de la base permanente des équipements (BPE) fournie par l'Insee."
   ]
  },
  {
   "cell_type": "code",
   "execution_count": 2,
   "id": "461f2db2-ecb2-48d8-b4dc-3b8f0a42a2db",
   "metadata": {},
   "outputs": [],
   "source": [
    "# Reading the Zipfile with information about equipments in 2021\n",
    "url = 'https://www.insee.fr/fr/statistiques/fichier/3568638/bpe21_ensemble_xy_csv.zip'\n",
    "r = requests.get(url)\n",
    "z = zipfile.ZipFile(io.BytesIO(r.content))\n",
    "z.extractall()\n",
    "\n",
    "# Two csv files are obtained"
   ]
  },
  {
   "cell_type": "code",
   "execution_count": 3,
   "id": "48a44acd-9a65-44c3-b772-a20598ec8f75",
   "metadata": {},
   "outputs": [],
   "source": [
    "# Reading the file with information about equipments\n",
    "dicType = {'BV2012': str, 'DCIRIS': str, 'DEP': str, 'DEPCOM': str, 'DOM': str, 'EPCI': str, 'SDOM': str}\n",
    "BPE = pd.read_csv('bpe21_ensemble_xy.csv', sep=\";\", dtype = dicType)"
   ]
  },
  {
   "cell_type": "markdown",
   "id": "2f748ade-fd8e-4f9c-bfe5-18f9dbf623ca",
   "metadata": {},
   "source": [
    "Il est maintenant nécessaire de conserver uniquement les données concernant Paris pour le fichier qui nous intéresse, de manière à obtenir un fichier csv de taille plus raisonnable."
   ]
  },
  {
   "cell_type": "code",
   "execution_count": 4,
   "id": "fc7855db-d474-4c9d-95f6-25fd142fd18c",
   "metadata": {},
   "outputs": [],
   "source": [
    "# Reducing the file to keep only Paris\n",
    "with open('data/bpeParis.csv','w') as f:\n",
    "    f = BPE.loc[BPE['DEP'] == '75']\n",
    "    f.to_csv(path_or_buf = 'data/bpeParis.csv', index = False)"
   ]
  },
  {
   "cell_type": "code",
   "execution_count": 5,
   "id": "713bc751-1867-4f71-9247-3d1cc1a385b5",
   "metadata": {},
   "outputs": [],
   "source": [
    "# We need to delete csv files that are too big to push\n",
    "# i.e. bpe21_ensemble_xy.csv and Varmod_bpe21_ensemble_xy.csv\n",
    "os.remove('bpe21_ensemble_xy.csv')\n",
    "os.remove('Varmod_bpe21_ensemble_xy.csv')"
   ]
  },
  {
   "cell_type": "markdown",
   "id": "291e3167-77e9-4d81-ae15-4144c1599561",
   "metadata": {},
   "source": [
    "## II- Traitement préliminaire pour associer les IRIS et les arrondissements"
   ]
  },
  {
   "cell_type": "markdown",
   "id": "a7f51320-7cd1-46a8-ab29-48dc3486fefe",
   "metadata": {},
   "source": [
    "La base des équipements utilise le découpage territorial en IRIS, alors que les notes concernent les arrondissements. Pour obtenir des résultats sur les arrondissements, il convient donc d'associer chaque arrondissement aux IRIS qui le composent."
   ]
  },
  {
   "cell_type": "code",
   "execution_count": 6,
   "id": "e9f93dbc-8ad4-42b5-8325-c0e2c4cfe32e",
   "metadata": {},
   "outputs": [],
   "source": [
    "# Getting the file containing matchings between arrondissements and IRIS\n",
    "url_1 = 'https://www.insee.fr/fr/statistiques/fichier/2017499/reference_IRIS_geo2023.zip'\n",
    "r1 = requests.get(url_1)\n",
    "z1 = zipfile.ZipFile(io.BytesIO(r1.content))\n",
    "z1.extractall(path = 'data/')\n",
    "Ref_IRIS = pd.read_excel('data/reference_IRIS_geo2023.xlsx')"
   ]
  },
  {
   "cell_type": "code",
   "execution_count": 7,
   "id": "f82277d8-5049-4edc-afb0-b5b4021ccd82",
   "metadata": {},
   "outputs": [],
   "source": [
    "# Changing the names of the columns\n",
    "# It is only further in the excel file that we find the right column names\n",
    "wrong_names = pd.Series.tolist(Ref_IRIS.columns)\n",
    "col_names = pd.Series.tolist(Ref_IRIS.iloc[4])\n",
    "dictionary_names = dict(zip(wrong_names, col_names))\n",
    "Ref_IRIS = Ref_IRIS.rename(columns = dictionary_names)\n",
    "\n",
    "# We obtain the right names of columns"
   ]
  },
  {
   "cell_type": "code",
   "execution_count": 8,
   "id": "78db2015-aa99-4757-ae35-c20c481b612d",
   "metadata": {},
   "outputs": [],
   "source": [
    "# Obtaining a list with IRIS in the 1st arrondissement of Paris\n",
    "Arr1 = Ref_IRIS[Ref_IRIS['LIBCOM'] == 'Paris 1er Arrondissement']\n",
    "liste1 = pd.Series.tolist(Arr1['CODE_IRIS'])"
   ]
  },
  {
   "cell_type": "code",
   "execution_count": 9,
   "id": "9c216306-97d3-4810-8d8d-6c326c01aa19",
   "metadata": {},
   "outputs": [],
   "source": [
    "#The same with all the other arrondissements\n",
    "dicIRIS = {'Paris 1er Arrondissement': liste1}\n",
    "for i in range(2,21):\n",
    "    j = str(i)\n",
    "    key_arr = 'Paris ' + j + 'e Arrondissement'\n",
    "    Arr = Ref_IRIS[Ref_IRIS['LIBCOM'] == key_arr]\n",
    "    val_arr = pd.Series.tolist(Arr['CODE_IRIS'])\n",
    "    dicIRIS[key_arr] = val_arr\n",
    "\n",
    "# We obtain a dictionary with the name of the arrondissement as a key \n",
    "# and a list with the numbers of IRIS corresponding as a value"
   ]
  },
  {
   "cell_type": "markdown",
   "id": "ff1d15f3-becc-41c8-990c-83c9a6220252",
   "metadata": {},
   "source": [
    "Nous obtenons finalement un dictionnaire qui nous permet d'établir une correspondance entre les IRIS et les arrondissements."
   ]
  },
  {
   "cell_type": "markdown",
   "id": "78a9bf0d-9527-4759-8fa7-c48f1c8dba66",
   "metadata": {},
   "source": [
    "## III- Étude des commerces"
   ]
  },
  {
   "cell_type": "markdown",
   "id": "6a465a54-7768-49ee-ba27-4adb6f92ba17",
   "metadata": {},
   "source": [
    "Nous nous intéressons ici à la catégorie B dans le fichier bpeParis.csv"
   ]
  },
  {
   "cell_type": "markdown",
   "id": "6db5a36e-c392-40b4-bef0-681977bed4b6",
   "metadata": {},
   "source": [
    "### A- Préambule"
   ]
  },
  {
   "cell_type": "markdown",
   "id": "653e6c69-c857-4804-a9e4-fe49618dab47",
   "metadata": {},
   "source": [
    "Tout d'abord, il est nécessaire d'obtenir le nombre de commerces par arrondissement, en affinant selon le type de commerce."
   ]
  },
  {
   "cell_type": "code",
   "execution_count": 10,
   "id": "e06994f6-c716-4758-8e56-eb3805f2f63a",
   "metadata": {},
   "outputs": [],
   "source": [
    "dicType = {'BV2012': str, 'DCIRIS': str, 'DEP': str, 'DEPCOM': str, 'DOM': str, 'EPCI': str, 'SDOM': str}\n",
    "BPE = pd.read_csv('data/bpeParis.csv', sep=\",\", dtype = dicType)"
   ]
  },
  {
   "cell_type": "markdown",
   "id": "1a89e4c3-f2f1-459a-9bce-4478eb95a484",
   "metadata": {},
   "source": [
    "Nous prenons en considération les sous-domaines d'appartenance."
   ]
  },
  {
   "cell_type": "code",
   "execution_count": 11,
   "id": "19c23d1d-f979-4cf1-aa1c-025abbce620c",
   "metadata": {},
   "outputs": [],
   "source": [
    "# Number of \"Grandes surfaces\" (B1) by arrondissement\n",
    "\n",
    "# Concerning the 1st arrondissement of Paris\n",
    "n1 = 0 # Number initialized\n",
    "for iris in dicIRIS['Paris 1er Arrondissement']:\n",
    "    col = BPE[(BPE['DCIRIS'] == iris) & (BPE['SDOM'] == 'B1')]\n",
    "    n1 += len(col) # number of lines\n",
    "\n",
    "# Concerning the rest of the arrondissements\n",
    "dicB1 = {'1er Arrondissement': n1}\n",
    "n = 0\n",
    "for i in range(2,21):\n",
    "    key_arr = 'Paris ' + str(i) + 'e Arrondissement'\n",
    "    for iris in dicIRIS[key_arr]:\n",
    "        col = BPE[(BPE['DCIRIS'] == iris) & (BPE['SDOM'] == 'B1')]\n",
    "        n += len(col)\n",
    "    dicB1[str(i) + 'e Arrondissement'] = n\n",
    "    n = 0\n",
    "\n",
    "# We obtain a dictionary with the name of the arrondissement as a key \n",
    "# and the number of \"Grandes surfaces\" as a value"
   ]
  },
  {
   "cell_type": "code",
   "execution_count": 12,
   "id": "3556f7ee-dbe2-40e3-a010-4e71400f1a58",
   "metadata": {},
   "outputs": [],
   "source": [
    "# Number of \"commerces alimentaires\" (B2) by arrondissement\n",
    "\n",
    "# Concerning the 1st arrondissement of Paris\n",
    "n1 = 0 # Number initialized\n",
    "for iris in dicIRIS['Paris 1er Arrondissement']:\n",
    "    col = BPE[(BPE['DCIRIS'] == iris) & (BPE['SDOM'] == 'B2')]\n",
    "    n1 += len(col) # number of lines\n",
    "\n",
    "# Concerning the rest of the arrondissements\n",
    "dicB2 = {'1er Arrondissement': n1}\n",
    "n = 0\n",
    "for i in range(2,21):\n",
    "    key_arr = 'Paris ' + str(i) + 'e Arrondissement'\n",
    "    for iris in dicIRIS[key_arr]:\n",
    "        col = BPE[(BPE['DCIRIS'] == iris) & (BPE['SDOM'] == 'B2')]\n",
    "        n += len(col)\n",
    "    dicB2[str(i) + 'e Arrondissement'] = n\n",
    "    n = 0\n",
    "\n",
    "# We obtain a dictionary with the name of the arrondissement as a key \n",
    "# and the number of \"commerces alimentaires\" as a value"
   ]
  },
  {
   "cell_type": "markdown",
   "id": "d032de42-e018-4d03-8e62-70faa96ea2cf",
   "metadata": {},
   "source": [
    "Nous créons maintenant un fichier csv pour isoler plus précisément les équipements selon leur type, et non plus seulement leur domaine ou leur sous-domaine."
   ]
  },
  {
   "cell_type": "code",
   "execution_count": 14,
   "id": "fee68290-8df7-4fc1-944d-11b5ee386bb2",
   "metadata": {},
   "outputs": [],
   "source": [
    "# More precisely, we want to have the number of each type of equipments \n",
    "# whose field is B, i.e. \"commerces\", for each arrondissement\n",
    "# To obtain this, we will create a csv file\n",
    "\n",
    "# Concerning the 1st arrondissement of Paris\n",
    "n1 = 0 # Number initialized\n",
    "listType = ['B101', 'B102', 'B103', 'B201', 'B202', 'B203', 'B204', 'B205', 'B206', 'B301', 'B302', 'B303', 'B304', 'B305', 'B306', 'B307', 'B308', 'B309', 'B310', 'B311', 'B312', 'B313', 'B315', 'B316']\n",
    "list1 = []\n",
    "for type in listType:\n",
    "    for iris in dicIRIS['Paris 1er Arrondissement']:\n",
    "        col = BPE[(BPE['DCIRIS'] == iris) & (BPE['TYPEQU'] == type)]\n",
    "        n1 += len(col) # number of lines\n",
    "    list1.append(n1)\n",
    "    n1 = 0\n",
    "\n",
    "# Concerning the rest of the arrondissements\n",
    "dicB = {'1er arrondissement': list1}\n",
    "n = 0\n",
    "for arr in range(2,21):\n",
    "    key_arr = 'Paris ' + str(arr) + 'e Arrondissement'\n",
    "    listB_Type = []\n",
    "    for type in listType:\n",
    "        for iris in dicIRIS[key_arr]:\n",
    "            col = BPE[(BPE['DCIRIS'] == iris) & (BPE['TYPEQU'] == type)]\n",
    "            n += len(col)\n",
    "        listB_Type.append(n)\n",
    "        n = 0\n",
    "    dicB[str(arr) + 'e arrondissement'] = listB_Type\n",
    "\n",
    "Commerces_precis = pd.DataFrame(dicB)\n",
    "Commerces_precis.set_axis(listType, axis = 0)\n",
    "Commerces_precis.to_csv(path_or_buf = 'data/Commerces.csv', index = False)\n",
    "\n",
    "# Each row is one type of equipment, each column is an arrondissement"
   ]
  },
  {
   "cell_type": "markdown",
   "id": "2aa9b766-3fd0-4567-ad58-f4c5a6dc1213",
   "metadata": {},
   "source": [
    "Prenons quelques exemples simples et descriptifs pour appréhender les données ainsi récupérées."
   ]
  },
  {
   "cell_type": "code",
   "execution_count": 15,
   "id": "c9843207-5847-4ed0-bee4-32c2db389615",
   "metadata": {},
   "outputs": [
    {
     "name": "stdout",
     "output_type": "stream",
     "text": [
      "Il y a 47 boulangeries dans le 4e arrondissement.\n"
     ]
    }
   ],
   "source": [
    "Commerces = pd.read_csv('data/Commerces.csv')\n",
    "# Let's focus on bakeries (B203) in the 4th arrondissement\n",
    "arr = '4e arrondissement'\n",
    "k = listType.index('B203') # Selecting the correct row\n",
    "n = Commerces.loc[k, arr] # Selecting the number of bakeries in the 4th arrondissement\n",
    "print(\"Il y a \" + str(n) + \" boulangeries dans le \" + arr + \".\")"
   ]
  },
  {
   "cell_type": "code",
   "execution_count": 16,
   "id": "1821ba88-6a37-4ba2-ab2c-b9c339259e3e",
   "metadata": {},
   "outputs": [
    {
     "name": "stdout",
     "output_type": "stream",
     "text": [
      "Il y a en moyenne 29.6 supermarchés dans un arrondissement parisien.\n"
     ]
    }
   ],
   "source": [
    "# Let's see the mean of supermarkets (B102)\n",
    "k = listType.index('B102')\n",
    "n = Commerces.iloc[k].mean()\n",
    "print(\"Il y a en moyenne \" + str(n) + \" supermarchés dans un arrondissement parisien.\") "
   ]
  },
  {
   "cell_type": "markdown",
   "id": "699d4bce-bf36-42a0-845a-47465899eae3",
   "metadata": {},
   "source": [
    "### B- Régressions"
   ]
  },
  {
   "cell_type": "markdown",
   "id": "e5ecfec2-158e-44f8-a9fc-83256aa6d739",
   "metadata": {},
   "source": [
    "Nous introduisons la variable sur laquelle les autres variables extraites précédemment vont être régressées, à savoir la note moyenne donnée par les habitants."
   ]
  },
  {
   "cell_type": "code",
   "execution_count": 79,
   "id": "d8868f8e-e963-4be7-a5c5-44bc2d4b606f",
   "metadata": {},
   "outputs": [],
   "source": [
    "# Reading the excel file containing the grades obtained by each arrondissement in varied fields\n",
    "# We only focus on the category 'Commerces'\n",
    "Notes_arr = pd.read_excel('Notes_arrondissements.xlsx', decimal = \",\")\n",
    "notes = pd.Series(Notes_arr['Commerces'])\n",
    "notes = pd.Series.tolist(notes)\n",
    "\n",
    "Commerces = pd.read_csv('data/Commerces.csv')"
   ]
  },
  {
   "cell_type": "markdown",
   "id": "a9295752-b68c-4ba9-b8d0-df9bdf810b81",
   "metadata": {},
   "source": [
    "#### 1) Régression en prenant comme variable le nombre de commerces"
   ]
  },
  {
   "cell_type": "markdown",
   "id": "8f3c2a72-c058-40e6-88a3-2e007e271e7c",
   "metadata": {},
   "source": [
    "Concentrons-nous sur les commerces alimentaires."
   ]
  },
  {
   "cell_type": "code",
   "execution_count": 18,
   "id": "f8fa6081-2227-4d7a-9d86-6374f6392042",
   "metadata": {},
   "outputs": [
    {
     "data": {
      "image/png": "[encoded data removed]",
      "text/plain": [
       "<Figure size 640x480 with 1 Axes>"
      ]
     },
     "metadata": {},
     "output_type": "display_data"
    }
   ],
   "source": [
    "# Trying to make a regression with only B2\n",
    "listB2 = pd.DataFrame(dicB2.values())\n",
    "reg = LinearRegression().fit(listB2, notes)\n",
    "y_pred = reg.predict(listB2)\n",
    "\n",
    "plt.scatter(listB2, notes, color=\"black\")\n",
    "plt.plot(listB2, y_pred, color=\"blue\", linewidth=3)\n",
    "plt.xlabel('Nombre de commerces alimentaires')\n",
    "plt.ylabel('Note donnée par les habitants')\n",
    "plt.title('Une régression avec B2')\n",
    "plt.show()\n",
    "\n",
    "# Not very satisfactory since y_pred is surprisingly decreasing"
   ]
  },
  {
   "cell_type": "markdown",
   "id": "49fb2cb7-f5f0-4df1-872d-917c9f901f22",
   "metadata": {},
   "source": [
    "Le résultat n'est pas très satisfaisant : on obtient une corrélation négative entre le nombre de commerces alimentaires et la note donnée par les habitants."
   ]
  },
  {
   "cell_type": "markdown",
   "id": "e846eee8-2d50-4728-b445-3041edd62c0c",
   "metadata": {},
   "source": [
    "Coupons l'échantillon en deux pour éviter le surapprentissage."
   ]
  },
  {
   "cell_type": "code",
   "execution_count": 19,
   "id": "3360076f-3ce6-4dec-94e3-ec1c7e537168",
   "metadata": {},
   "outputs": [],
   "source": [
    "# The same but by splitting the dataframe\n",
    "# Split the data into training/testing sets\n",
    "X_trainB2, X_testB2, y_trainB2, y_testB2 = sklearn.model_selection.train_test_split(listB2, notes, test_size = 0.5)"
   ]
  },
  {
   "cell_type": "code",
   "execution_count": 20,
   "id": "b003dd5c-a972-45f9-acdd-89bdc091d142",
   "metadata": {},
   "outputs": [],
   "source": [
    "# Making a regression using the arrondissements in train\n",
    "regB2 = LinearRegression().fit(X_trainB2, y_trainB2)\n",
    "\n",
    "# Make predictions using the testing set\n",
    "y_predB2 = regB2.predict(X_testB2)"
   ]
  },
  {
   "cell_type": "code",
   "execution_count": 21,
   "id": "62aec990-ac3d-415c-b0ed-a17e82dee49c",
   "metadata": {},
   "outputs": [
    {
     "data": {
      "text/plain": [
       "array([-0.00318491])"
      ]
     },
     "execution_count": 21,
     "metadata": {},
     "output_type": "execute_result"
    }
   ],
   "source": [
    "# The coefficients\n",
    "regB2.coef_"
   ]
  },
  {
   "cell_type": "markdown",
   "id": "335357dc-d649-4016-9da4-7515d0fa111c",
   "metadata": {},
   "source": [
    "Là encore, la corrélation est négative."
   ]
  },
  {
   "cell_type": "code",
   "execution_count": 22,
   "id": "653490c8-4566-4b1a-9440-eb32a5a825a8",
   "metadata": {},
   "outputs": [
    {
     "data": {
      "text/plain": [
       "{'copy_X': True, 'fit_intercept': True, 'n_jobs': None, 'positive': False}"
      ]
     },
     "execution_count": 22,
     "metadata": {},
     "output_type": "execute_result"
    }
   ],
   "source": [
    "regB2.get_params()"
   ]
  },
  {
   "cell_type": "code",
   "execution_count": 23,
   "id": "a6fd9ae8-c620-4303-82c9-ded81fb44849",
   "metadata": {},
   "outputs": [
    {
     "data": {
      "text/plain": [
       "-0.18420644387740848"
      ]
     },
     "execution_count": 23,
     "metadata": {},
     "output_type": "execute_result"
    }
   ],
   "source": [
    "regB2.score(X_testB2, y_testB2)"
   ]
  },
  {
   "cell_type": "markdown",
   "id": "b66da308-14b0-40e7-8bb4-c7befd0588b3",
   "metadata": {},
   "source": [
    "Le R2 est très faible (inférieur à 0.05, voire négatif), ce qui semble que notre régression n'est pas très adaptée."
   ]
  },
  {
   "cell_type": "code",
   "execution_count": 24,
   "id": "4bf22385-270e-4d88-a938-be19d2617010",
   "metadata": {},
   "outputs": [
    {
     "data": {
      "image/png": "[encoded data removed]",
      "text/plain": [
       "<Figure size 640x480 with 1 Axes>"
      ]
     },
     "metadata": {},
     "output_type": "display_data"
    }
   ],
   "source": [
    "plt.scatter(listB2, notes, color=\"black\")\n",
    "plt.plot(X_trainB2, y_predB2, color=\"blue\", linewidth=3)\n",
    "plt.xlabel('Nombre de commerces alimentaires')\n",
    "plt.ylabel('Note donnée par les habitants')\n",
    "plt.title(\"Une régression avec B2 en coupant l'échantillon\")\n",
    "plt.show()\n",
    "\n",
    "# Still not very satisfactory"
   ]
  },
  {
   "cell_type": "markdown",
   "id": "bdf033e1-b009-47a8-83e3-4da31ed1c37d",
   "metadata": {},
   "source": [
    "On utilise les informations plus précises sur les différents types de commerces."
   ]
  },
  {
   "cell_type": "code",
   "execution_count": 25,
   "id": "85d21c8b-c845-4a92-8ae6-2971d8946dc9",
   "metadata": {},
   "outputs": [],
   "source": [
    "# Split the data into training/testing sets\n",
    "Commerces2 = Commerces.transpose()\n",
    "X_train, X_test, y_train, y_test = sklearn.model_selection.train_test_split(Commerces2, notes, test_size = 0.5)"
   ]
  },
  {
   "cell_type": "code",
   "execution_count": 26,
   "id": "296ca6af-479a-4f26-8894-7769405d3578",
   "metadata": {},
   "outputs": [],
   "source": [
    "# Making a regression using the arrondissements in train\n",
    "reg = LinearRegression().fit(X_train, y_train)\n",
    "\n",
    "# Make predictions using the testing set\n",
    "y_pred = reg.predict(X_test)"
   ]
  },
  {
   "cell_type": "code",
   "execution_count": 27,
   "id": "19abf200-9c9c-4d1a-81f2-d8910a7f8e58",
   "metadata": {},
   "outputs": [
    {
     "data": {
      "text/plain": [
       "array([-0.00050155,  0.00600679,  0.00129337,  0.00443104, -0.00100023,\n",
       "       -0.00627575, -0.0090708 ,  0.00157625, -0.0007636 ,  0.02054295,\n",
       "        0.00354884, -0.01467917, -0.02925285,  0.02500319, -0.00445093,\n",
       "       -0.01117817,  0.00972713, -0.00235113, -0.00700295,  0.01869061,\n",
       "        0.00255121,  0.00921021,  0.01797105, -0.00744266])"
      ]
     },
     "execution_count": 27,
     "metadata": {},
     "output_type": "execute_result"
    }
   ],
   "source": [
    "# The coefficients\n",
    "reg.coef_"
   ]
  },
  {
   "cell_type": "code",
   "execution_count": 28,
   "id": "ec95a800-3626-4067-a9f1-56a05f6bda64",
   "metadata": {},
   "outputs": [
    {
     "data": {
      "text/plain": [
       "{'copy_X': True, 'fit_intercept': True, 'n_jobs': None, 'positive': False}"
      ]
     },
     "execution_count": 28,
     "metadata": {},
     "output_type": "execute_result"
    }
   ],
   "source": [
    "reg.get_params()"
   ]
  },
  {
   "cell_type": "code",
   "execution_count": 29,
   "id": "81b77421-bde6-4d13-955c-643cb51528d9",
   "metadata": {},
   "outputs": [
    {
     "data": {
      "text/plain": [
       "-0.813328931013293"
      ]
     },
     "execution_count": 29,
     "metadata": {},
     "output_type": "execute_result"
    }
   ],
   "source": [
    "# The R^2\n",
    "reg.score(X_test, y_test)"
   ]
  },
  {
   "cell_type": "markdown",
   "id": "57769f61-e9e1-493b-b3da-6977e8459a90",
   "metadata": {},
   "source": [
    "Le R2 est négatif : notre modèle n'est absolument pas adapté. Il nous faut prendre en compte d'autres facteurs."
   ]
  },
  {
   "cell_type": "markdown",
   "id": "590fbbd5-3c21-4c32-b8a0-c2802c762204",
   "metadata": {},
   "source": [
    "#### 2) Régression en prenant comme variable la densité des commerces"
   ]
  },
  {
   "cell_type": "markdown",
   "id": "3b28e548-f0e7-4be8-9da3-6b326917d94c",
   "metadata": {},
   "source": [
    "Tentons de prendre en compte la densité des équipements plutôt que leur nombre."
   ]
  },
  {
   "cell_type": "code",
   "execution_count": 80,
   "id": "5a94d59e-9a88-4505-b87a-9df4b91a52d4",
   "metadata": {},
   "outputs": [
    {
     "name": "stdout",
     "output_type": "stream",
     "text": [
      "https://minio.lab.sspcloud.fr/projet-cartiflette/diffusion/shapefiles-test1/year=2022/administrative_level=COMMUNE_ARRONDISSEMENT/crs=4326/DEPARTEMENT=75/vectorfile_format=topojson/provider=IGN/source=EXPRESS-COG-CARTO-TERRITOIRE/raw.topojson\n"
     ]
    },
    {
     "name": "stderr",
     "output_type": "stream",
     "text": [
      "Downloading: : 40.1kiB [00:00, 7.49MiB/s]\n",
      "/tmp/ipykernel_285/1247608674.py:15: UserWarning: Geometry is in a geographic CRS. Results from 'area' are likely incorrect. Use 'GeoSeries.to_crs()' to re-project geometries to a projected CRS before this operation.\n",
      "\n",
      "  superficies = Arrondissements.area\n"
     ]
    },
    {
     "data": {
      "text/plain": [
       "0     0.000224\n",
       "1     0.000122\n",
       "2     0.000143\n",
       "3     0.000196\n",
       "4     0.000312\n",
       "5     0.000264\n",
       "6     0.000501\n",
       "7     0.000476\n",
       "8     0.000267\n",
       "9     0.000354\n",
       "10    0.000447\n",
       "11    0.002007\n",
       "12    0.000874\n",
       "13    0.000688\n",
       "14    0.001038\n",
       "15    0.002011\n",
       "16    0.000695\n",
       "17    0.000735\n",
       "18    0.000832\n",
       "19    0.000736\n",
       "dtype: float64"
      ]
     },
     "execution_count": 80,
     "metadata": {},
     "output_type": "execute_result"
    }
   ],
   "source": [
    "# Création d'une base de donnée associant pour chaque arrondissement sa superficie.\n",
    "\n",
    "# Import des données géographiques des arrondissements parisiens depuis la librairie cartiflette\n",
    "Arrondissements = s3.download_vectorfile_url_all(\n",
    "    crs = 4326,\n",
    "    values = [\"75\"],\n",
    "    borders=\"COMMUNE_ARRONDISSEMENT\",\n",
    "    vectorfile_format=\"topojson\",\n",
    "    filter_by=\"DEPARTEMENT\",\n",
    "    source=\"EXPRESS-COG-CARTO-TERRITOIRE\",\n",
    "    year=2022)\n",
    "\n",
    "# Stockage des superficies dans la series superficies\n",
    "Arrondissements = Arrondissements.sort_values('INSEE_COG').reset_index()\n",
    "superficies = Arrondissements.area\n",
    "superficies"
   ]
  },
  {
   "cell_type": "code",
   "execution_count": 91,
   "id": "06ca0973-4291-4547-badd-ae6c6592ac5b",
   "metadata": {},
   "outputs": [],
   "source": [
    "superficies2 = superficies.to_frame().transpose()"
   ]
  },
  {
   "cell_type": "code",
   "execution_count": 96,
   "id": "39845d64-4d72-4119-9dec-4302269ea76d",
   "metadata": {},
   "outputs": [],
   "source": [
    "col_names = list(Commerces.columns.values)\n",
    "superficies2.columns = col_names\n",
    "superficies2.index = [\"Superficies\"]"
   ]
  },
  {
   "cell_type": "code",
   "execution_count": 100,
   "id": "bcac8ec3-79bf-4304-b123-2399b3ca8d8a",
   "metadata": {},
   "outputs": [],
   "source": [
    "Commerces2 = pd.concat([Commerces, superficies2])\n",
    "Commerces2"
   ]
  },
  {
   "cell_type": "code",
   "execution_count": 119,
   "id": "05750204-16d8-40fc-8f42-341e2ce3e584",
   "metadata": {},
   "outputs": [
    {
     "name": "stdout",
     "output_type": "stream",
     "text": [
      "      0\n",
      "0    76\n",
      "1    84\n",
      "2    96\n",
      "3   100\n",
      "4   167\n",
      "5   117\n",
      "6   148\n",
      "7   163\n",
      "8   211\n",
      "9   326\n",
      "10  354\n",
      "11  299\n",
      "12  245\n",
      "13  240\n",
      "14  410\n",
      "15  251\n",
      "16  370\n",
      "17  586\n",
      "18  331\n",
      "19  363\n",
      "1er arrondissement    0.000224\n",
      "2e arrondissement     0.000122\n",
      "3e arrondissement     0.000143\n",
      "4e arrondissement     0.000196\n",
      "5e arrondissement     0.000312\n",
      "6e arrondissement     0.000264\n",
      "7e arrondissement     0.000501\n",
      "8e arrondissement     0.000476\n",
      "9e arrondissement     0.000267\n",
      "10e arrondissement    0.000354\n",
      "11e arrondissement    0.000447\n",
      "12e arrondissement    0.002007\n",
      "13e arrondissement    0.000874\n",
      "14e arrondissement    0.000688\n",
      "15e arrondissement    0.001038\n",
      "16e arrondissement    0.002011\n",
      "17e arrondissement    0.000695\n",
      "18e arrondissement    0.000735\n",
      "19e arrondissement    0.000832\n",
      "20e arrondissement    0.000736\n",
      "Name: Superficies, dtype: float64\n"
     ]
    },
    {
     "data": {
      "text/html": [
       "<div>\n",
       "<style scoped>\n",
       "    .dataframe tbody tr th:only-of-type {\n",
       "        vertical-align: middle;\n",
       "    }\n",
       "\n",
       "    .dataframe tbody tr th {\n",
       "        vertical-align: top;\n",
       "    }\n",
       "\n",
       "    .dataframe thead th {\n",
       "        text-align: right;\n",
       "    }\n",
       "</style>\n",
       "<table border=\"1\" class=\"dataframe\">\n",
       "  <thead>\n",
       "    <tr style=\"text-align: right;\">\n",
       "      <th></th>\n",
       "      <th>0</th>\n",
       "      <th>10e arrondissement</th>\n",
       "      <th>11e arrondissement</th>\n",
       "      <th>12e arrondissement</th>\n",
       "      <th>13e arrondissement</th>\n",
       "      <th>14e arrondissement</th>\n",
       "      <th>15e arrondissement</th>\n",
       "      <th>16e arrondissement</th>\n",
       "      <th>17e arrondissement</th>\n",
       "      <th>18e arrondissement</th>\n",
       "      <th>...</th>\n",
       "      <th>1er arrondissement</th>\n",
       "      <th>20e arrondissement</th>\n",
       "      <th>2e arrondissement</th>\n",
       "      <th>3e arrondissement</th>\n",
       "      <th>4e arrondissement</th>\n",
       "      <th>5e arrondissement</th>\n",
       "      <th>6e arrondissement</th>\n",
       "      <th>7e arrondissement</th>\n",
       "      <th>8e arrondissement</th>\n",
       "      <th>9e arrondissement</th>\n",
       "    </tr>\n",
       "  </thead>\n",
       "  <tbody>\n",
       "    <tr>\n",
       "      <th>0</th>\n",
       "      <td>NaN</td>\n",
       "      <td>NaN</td>\n",
       "      <td>NaN</td>\n",
       "      <td>NaN</td>\n",
       "      <td>NaN</td>\n",
       "      <td>NaN</td>\n",
       "      <td>NaN</td>\n",
       "      <td>NaN</td>\n",
       "      <td>NaN</td>\n",
       "      <td>NaN</td>\n",
       "      <td>...</td>\n",
       "      <td>NaN</td>\n",
       "      <td>NaN</td>\n",
       "      <td>NaN</td>\n",
       "      <td>NaN</td>\n",
       "      <td>NaN</td>\n",
       "      <td>NaN</td>\n",
       "      <td>NaN</td>\n",
       "      <td>NaN</td>\n",
       "      <td>NaN</td>\n",
       "      <td>NaN</td>\n",
       "    </tr>\n",
       "    <tr>\n",
       "      <th>1</th>\n",
       "      <td>NaN</td>\n",
       "      <td>NaN</td>\n",
       "      <td>NaN</td>\n",
       "      <td>NaN</td>\n",
       "      <td>NaN</td>\n",
       "      <td>NaN</td>\n",
       "      <td>NaN</td>\n",
       "      <td>NaN</td>\n",
       "      <td>NaN</td>\n",
       "      <td>NaN</td>\n",
       "      <td>...</td>\n",
       "      <td>NaN</td>\n",
       "      <td>NaN</td>\n",
       "      <td>NaN</td>\n",
       "      <td>NaN</td>\n",
       "      <td>NaN</td>\n",
       "      <td>NaN</td>\n",
       "      <td>NaN</td>\n",
       "      <td>NaN</td>\n",
       "      <td>NaN</td>\n",
       "      <td>NaN</td>\n",
       "    </tr>\n",
       "    <tr>\n",
       "      <th>2</th>\n",
       "      <td>NaN</td>\n",
       "      <td>NaN</td>\n",
       "      <td>NaN</td>\n",
       "      <td>NaN</td>\n",
       "      <td>NaN</td>\n",
       "      <td>NaN</td>\n",
       "      <td>NaN</td>\n",
       "      <td>NaN</td>\n",
       "      <td>NaN</td>\n",
       "      <td>NaN</td>\n",
       "      <td>...</td>\n",
       "      <td>NaN</td>\n",
       "      <td>NaN</td>\n",
       "      <td>NaN</td>\n",
       "      <td>NaN</td>\n",
       "      <td>NaN</td>\n",
       "      <td>NaN</td>\n",
       "      <td>NaN</td>\n",
       "      <td>NaN</td>\n",
       "      <td>NaN</td>\n",
       "      <td>NaN</td>\n",
       "    </tr>\n",
       "    <tr>\n",
       "      <th>3</th>\n",
       "      <td>NaN</td>\n",
       "      <td>NaN</td>\n",
       "      <td>NaN</td>\n",
       "      <td>NaN</td>\n",
       "      <td>NaN</td>\n",
       "      <td>NaN</td>\n",
       "      <td>NaN</td>\n",
       "      <td>NaN</td>\n",
       "      <td>NaN</td>\n",
       "      <td>NaN</td>\n",
       "      <td>...</td>\n",
       "      <td>NaN</td>\n",
       "      <td>NaN</td>\n",
       "      <td>NaN</td>\n",
       "      <td>NaN</td>\n",
       "      <td>NaN</td>\n",
       "      <td>NaN</td>\n",
       "      <td>NaN</td>\n",
       "      <td>NaN</td>\n",
       "      <td>NaN</td>\n",
       "      <td>NaN</td>\n",
       "    </tr>\n",
       "    <tr>\n",
       "      <th>4</th>\n",
       "      <td>NaN</td>\n",
       "      <td>NaN</td>\n",
       "      <td>NaN</td>\n",
       "      <td>NaN</td>\n",
       "      <td>NaN</td>\n",
       "      <td>NaN</td>\n",
       "      <td>NaN</td>\n",
       "      <td>NaN</td>\n",
       "      <td>NaN</td>\n",
       "      <td>NaN</td>\n",
       "      <td>...</td>\n",
       "      <td>NaN</td>\n",
       "      <td>NaN</td>\n",
       "      <td>NaN</td>\n",
       "      <td>NaN</td>\n",
       "      <td>NaN</td>\n",
       "      <td>NaN</td>\n",
       "      <td>NaN</td>\n",
       "      <td>NaN</td>\n",
       "      <td>NaN</td>\n",
       "      <td>NaN</td>\n",
       "    </tr>\n",
       "    <tr>\n",
       "      <th>5</th>\n",
       "      <td>NaN</td>\n",
       "      <td>NaN</td>\n",
       "      <td>NaN</td>\n",
       "      <td>NaN</td>\n",
       "      <td>NaN</td>\n",
       "      <td>NaN</td>\n",
       "      <td>NaN</td>\n",
       "      <td>NaN</td>\n",
       "      <td>NaN</td>\n",
       "      <td>NaN</td>\n",
       "      <td>...</td>\n",
       "      <td>NaN</td>\n",
       "      <td>NaN</td>\n",
       "      <td>NaN</td>\n",
       "      <td>NaN</td>\n",
       "      <td>NaN</td>\n",
       "      <td>NaN</td>\n",
       "      <td>NaN</td>\n",
       "      <td>NaN</td>\n",
       "      <td>NaN</td>\n",
       "      <td>NaN</td>\n",
       "    </tr>\n",
       "    <tr>\n",
       "      <th>6</th>\n",
       "      <td>NaN</td>\n",
       "      <td>NaN</td>\n",
       "      <td>NaN</td>\n",
       "      <td>NaN</td>\n",
       "      <td>NaN</td>\n",
       "      <td>NaN</td>\n",
       "      <td>NaN</td>\n",
       "      <td>NaN</td>\n",
       "      <td>NaN</td>\n",
       "      <td>NaN</td>\n",
       "      <td>...</td>\n",
       "      <td>NaN</td>\n",
       "      <td>NaN</td>\n",
       "      <td>NaN</td>\n",
       "      <td>NaN</td>\n",
       "      <td>NaN</td>\n",
       "      <td>NaN</td>\n",
       "      <td>NaN</td>\n",
       "      <td>NaN</td>\n",
       "      <td>NaN</td>\n",
       "      <td>NaN</td>\n",
       "    </tr>\n",
       "    <tr>\n",
       "      <th>7</th>\n",
       "      <td>NaN</td>\n",
       "      <td>NaN</td>\n",
       "      <td>NaN</td>\n",
       "      <td>NaN</td>\n",
       "      <td>NaN</td>\n",
       "      <td>NaN</td>\n",
       "      <td>NaN</td>\n",
       "      <td>NaN</td>\n",
       "      <td>NaN</td>\n",
       "      <td>NaN</td>\n",
       "      <td>...</td>\n",
       "      <td>NaN</td>\n",
       "      <td>NaN</td>\n",
       "      <td>NaN</td>\n",
       "      <td>NaN</td>\n",
       "      <td>NaN</td>\n",
       "      <td>NaN</td>\n",
       "      <td>NaN</td>\n",
       "      <td>NaN</td>\n",
       "      <td>NaN</td>\n",
       "      <td>NaN</td>\n",
       "    </tr>\n",
       "    <tr>\n",
       "      <th>8</th>\n",
       "      <td>NaN</td>\n",
       "      <td>NaN</td>\n",
       "      <td>NaN</td>\n",
       "      <td>NaN</td>\n",
       "      <td>NaN</td>\n",
       "      <td>NaN</td>\n",
       "      <td>NaN</td>\n",
       "      <td>NaN</td>\n",
       "      <td>NaN</td>\n",
       "      <td>NaN</td>\n",
       "      <td>...</td>\n",
       "      <td>NaN</td>\n",
       "      <td>NaN</td>\n",
       "      <td>NaN</td>\n",
       "      <td>NaN</td>\n",
       "      <td>NaN</td>\n",
       "      <td>NaN</td>\n",
       "      <td>NaN</td>\n",
       "      <td>NaN</td>\n",
       "      <td>NaN</td>\n",
       "      <td>NaN</td>\n",
       "    </tr>\n",
       "    <tr>\n",
       "      <th>9</th>\n",
       "      <td>NaN</td>\n",
       "      <td>NaN</td>\n",
       "      <td>NaN</td>\n",
       "      <td>NaN</td>\n",
       "      <td>NaN</td>\n",
       "      <td>NaN</td>\n",
       "      <td>NaN</td>\n",
       "      <td>NaN</td>\n",
       "      <td>NaN</td>\n",
       "      <td>NaN</td>\n",
       "      <td>...</td>\n",
       "      <td>NaN</td>\n",
       "      <td>NaN</td>\n",
       "      <td>NaN</td>\n",
       "      <td>NaN</td>\n",
       "      <td>NaN</td>\n",
       "      <td>NaN</td>\n",
       "      <td>NaN</td>\n",
       "      <td>NaN</td>\n",
       "      <td>NaN</td>\n",
       "      <td>NaN</td>\n",
       "    </tr>\n",
       "    <tr>\n",
       "      <th>10</th>\n",
       "      <td>NaN</td>\n",
       "      <td>NaN</td>\n",
       "      <td>NaN</td>\n",
       "      <td>NaN</td>\n",
       "      <td>NaN</td>\n",
       "      <td>NaN</td>\n",
       "      <td>NaN</td>\n",
       "      <td>NaN</td>\n",
       "      <td>NaN</td>\n",
       "      <td>NaN</td>\n",
       "      <td>...</td>\n",
       "      <td>NaN</td>\n",
       "      <td>NaN</td>\n",
       "      <td>NaN</td>\n",
       "      <td>NaN</td>\n",
       "      <td>NaN</td>\n",
       "      <td>NaN</td>\n",
       "      <td>NaN</td>\n",
       "      <td>NaN</td>\n",
       "      <td>NaN</td>\n",
       "      <td>NaN</td>\n",
       "    </tr>\n",
       "    <tr>\n",
       "      <th>11</th>\n",
       "      <td>NaN</td>\n",
       "      <td>NaN</td>\n",
       "      <td>NaN</td>\n",
       "      <td>NaN</td>\n",
       "      <td>NaN</td>\n",
       "      <td>NaN</td>\n",
       "      <td>NaN</td>\n",
       "      <td>NaN</td>\n",
       "      <td>NaN</td>\n",
       "      <td>NaN</td>\n",
       "      <td>...</td>\n",
       "      <td>NaN</td>\n",
       "      <td>NaN</td>\n",
       "      <td>NaN</td>\n",
       "      <td>NaN</td>\n",
       "      <td>NaN</td>\n",
       "      <td>NaN</td>\n",
       "      <td>NaN</td>\n",
       "      <td>NaN</td>\n",
       "      <td>NaN</td>\n",
       "      <td>NaN</td>\n",
       "    </tr>\n",
       "    <tr>\n",
       "      <th>12</th>\n",
       "      <td>NaN</td>\n",
       "      <td>NaN</td>\n",
       "      <td>NaN</td>\n",
       "      <td>NaN</td>\n",
       "      <td>NaN</td>\n",
       "      <td>NaN</td>\n",
       "      <td>NaN</td>\n",
       "      <td>NaN</td>\n",
       "      <td>NaN</td>\n",
       "      <td>NaN</td>\n",
       "      <td>...</td>\n",
       "      <td>NaN</td>\n",
       "      <td>NaN</td>\n",
       "      <td>NaN</td>\n",
       "      <td>NaN</td>\n",
       "      <td>NaN</td>\n",
       "      <td>NaN</td>\n",
       "      <td>NaN</td>\n",
       "      <td>NaN</td>\n",
       "      <td>NaN</td>\n",
       "      <td>NaN</td>\n",
       "    </tr>\n",
       "    <tr>\n",
       "      <th>13</th>\n",
       "      <td>NaN</td>\n",
       "      <td>NaN</td>\n",
       "      <td>NaN</td>\n",
       "      <td>NaN</td>\n",
       "      <td>NaN</td>\n",
       "      <td>NaN</td>\n",
       "      <td>NaN</td>\n",
       "      <td>NaN</td>\n",
       "      <td>NaN</td>\n",
       "      <td>NaN</td>\n",
       "      <td>...</td>\n",
       "      <td>NaN</td>\n",
       "      <td>NaN</td>\n",
       "      <td>NaN</td>\n",
       "      <td>NaN</td>\n",
       "      <td>NaN</td>\n",
       "      <td>NaN</td>\n",
       "      <td>NaN</td>\n",
       "      <td>NaN</td>\n",
       "      <td>NaN</td>\n",
       "      <td>NaN</td>\n",
       "    </tr>\n",
       "    <tr>\n",
       "      <th>14</th>\n",
       "      <td>NaN</td>\n",
       "      <td>NaN</td>\n",
       "      <td>NaN</td>\n",
       "      <td>NaN</td>\n",
       "      <td>NaN</td>\n",
       "      <td>NaN</td>\n",
       "      <td>NaN</td>\n",
       "      <td>NaN</td>\n",
       "      <td>NaN</td>\n",
       "      <td>NaN</td>\n",
       "      <td>...</td>\n",
       "      <td>NaN</td>\n",
       "      <td>NaN</td>\n",
       "      <td>NaN</td>\n",
       "      <td>NaN</td>\n",
       "      <td>NaN</td>\n",
       "      <td>NaN</td>\n",
       "      <td>NaN</td>\n",
       "      <td>NaN</td>\n",
       "      <td>NaN</td>\n",
       "      <td>NaN</td>\n",
       "    </tr>\n",
       "    <tr>\n",
       "      <th>15</th>\n",
       "      <td>NaN</td>\n",
       "      <td>NaN</td>\n",
       "      <td>NaN</td>\n",
       "      <td>NaN</td>\n",
       "      <td>NaN</td>\n",
       "      <td>NaN</td>\n",
       "      <td>NaN</td>\n",
       "      <td>NaN</td>\n",
       "      <td>NaN</td>\n",
       "      <td>NaN</td>\n",
       "      <td>...</td>\n",
       "      <td>NaN</td>\n",
       "      <td>NaN</td>\n",
       "      <td>NaN</td>\n",
       "      <td>NaN</td>\n",
       "      <td>NaN</td>\n",
       "      <td>NaN</td>\n",
       "      <td>NaN</td>\n",
       "      <td>NaN</td>\n",
       "      <td>NaN</td>\n",
       "      <td>NaN</td>\n",
       "    </tr>\n",
       "    <tr>\n",
       "      <th>16</th>\n",
       "      <td>NaN</td>\n",
       "      <td>NaN</td>\n",
       "      <td>NaN</td>\n",
       "      <td>NaN</td>\n",
       "      <td>NaN</td>\n",
       "      <td>NaN</td>\n",
       "      <td>NaN</td>\n",
       "      <td>NaN</td>\n",
       "      <td>NaN</td>\n",
       "      <td>NaN</td>\n",
       "      <td>...</td>\n",
       "      <td>NaN</td>\n",
       "      <td>NaN</td>\n",
       "      <td>NaN</td>\n",
       "      <td>NaN</td>\n",
       "      <td>NaN</td>\n",
       "      <td>NaN</td>\n",
       "      <td>NaN</td>\n",
       "      <td>NaN</td>\n",
       "      <td>NaN</td>\n",
       "      <td>NaN</td>\n",
       "    </tr>\n",
       "    <tr>\n",
       "      <th>17</th>\n",
       "      <td>NaN</td>\n",
       "      <td>NaN</td>\n",
       "      <td>NaN</td>\n",
       "      <td>NaN</td>\n",
       "      <td>NaN</td>\n",
       "      <td>NaN</td>\n",
       "      <td>NaN</td>\n",
       "      <td>NaN</td>\n",
       "      <td>NaN</td>\n",
       "      <td>NaN</td>\n",
       "      <td>...</td>\n",
       "      <td>NaN</td>\n",
       "      <td>NaN</td>\n",
       "      <td>NaN</td>\n",
       "      <td>NaN</td>\n",
       "      <td>NaN</td>\n",
       "      <td>NaN</td>\n",
       "      <td>NaN</td>\n",
       "      <td>NaN</td>\n",
       "      <td>NaN</td>\n",
       "      <td>NaN</td>\n",
       "    </tr>\n",
       "    <tr>\n",
       "      <th>18</th>\n",
       "      <td>NaN</td>\n",
       "      <td>NaN</td>\n",
       "      <td>NaN</td>\n",
       "      <td>NaN</td>\n",
       "      <td>NaN</td>\n",
       "      <td>NaN</td>\n",
       "      <td>NaN</td>\n",
       "      <td>NaN</td>\n",
       "      <td>NaN</td>\n",
       "      <td>NaN</td>\n",
       "      <td>...</td>\n",
       "      <td>NaN</td>\n",
       "      <td>NaN</td>\n",
       "      <td>NaN</td>\n",
       "      <td>NaN</td>\n",
       "      <td>NaN</td>\n",
       "      <td>NaN</td>\n",
       "      <td>NaN</td>\n",
       "      <td>NaN</td>\n",
       "      <td>NaN</td>\n",
       "      <td>NaN</td>\n",
       "    </tr>\n",
       "    <tr>\n",
       "      <th>19</th>\n",
       "      <td>NaN</td>\n",
       "      <td>NaN</td>\n",
       "      <td>NaN</td>\n",
       "      <td>NaN</td>\n",
       "      <td>NaN</td>\n",
       "      <td>NaN</td>\n",
       "      <td>NaN</td>\n",
       "      <td>NaN</td>\n",
       "      <td>NaN</td>\n",
       "      <td>NaN</td>\n",
       "      <td>...</td>\n",
       "      <td>NaN</td>\n",
       "      <td>NaN</td>\n",
       "      <td>NaN</td>\n",
       "      <td>NaN</td>\n",
       "      <td>NaN</td>\n",
       "      <td>NaN</td>\n",
       "      <td>NaN</td>\n",
       "      <td>NaN</td>\n",
       "      <td>NaN</td>\n",
       "      <td>NaN</td>\n",
       "    </tr>\n",
       "  </tbody>\n",
       "</table>\n",
       "<p>20 rows × 21 columns</p>\n",
       "</div>"
      ],
      "text/plain": [
       "     0  10e arrondissement  11e arrondissement  12e arrondissement  \\\n",
       "0  NaN                 NaN                 NaN                 NaN   \n",
       "1  NaN                 NaN                 NaN                 NaN   \n",
       "2  NaN                 NaN                 NaN                 NaN   \n",
       "3  NaN                 NaN                 NaN                 NaN   \n",
       "4  NaN                 NaN                 NaN                 NaN   \n",
       "5  NaN                 NaN                 NaN                 NaN   \n",
       "6  NaN                 NaN                 NaN                 NaN   \n",
       "7  NaN                 NaN                 NaN                 NaN   \n",
       "8  NaN                 NaN                 NaN                 NaN   \n",
       "9  NaN                 NaN                 NaN                 NaN   \n",
       "10 NaN                 NaN                 NaN                 NaN   \n",
       "11 NaN                 NaN                 NaN                 NaN   \n",
       "12 NaN                 NaN                 NaN                 NaN   \n",
       "13 NaN                 NaN                 NaN                 NaN   \n",
       "14 NaN                 NaN                 NaN                 NaN   \n",
       "15 NaN                 NaN                 NaN                 NaN   \n",
       "16 NaN                 NaN                 NaN                 NaN   \n",
       "17 NaN                 NaN                 NaN                 NaN   \n",
       "18 NaN                 NaN                 NaN                 NaN   \n",
       "19 NaN                 NaN                 NaN                 NaN   \n",
       "\n",
       "    13e arrondissement  14e arrondissement  15e arrondissement  \\\n",
       "0                  NaN                 NaN                 NaN   \n",
       "1                  NaN                 NaN                 NaN   \n",
       "2                  NaN                 NaN                 NaN   \n",
       "3                  NaN                 NaN                 NaN   \n",
       "4                  NaN                 NaN                 NaN   \n",
       "5                  NaN                 NaN                 NaN   \n",
       "6                  NaN                 NaN                 NaN   \n",
       "7                  NaN                 NaN                 NaN   \n",
       "8                  NaN                 NaN                 NaN   \n",
       "9                  NaN                 NaN                 NaN   \n",
       "10                 NaN                 NaN                 NaN   \n",
       "11                 NaN                 NaN                 NaN   \n",
       "12                 NaN                 NaN                 NaN   \n",
       "13                 NaN                 NaN                 NaN   \n",
       "14                 NaN                 NaN                 NaN   \n",
       "15                 NaN                 NaN                 NaN   \n",
       "16                 NaN                 NaN                 NaN   \n",
       "17                 NaN                 NaN                 NaN   \n",
       "18                 NaN                 NaN                 NaN   \n",
       "19                 NaN                 NaN                 NaN   \n",
       "\n",
       "    16e arrondissement  17e arrondissement  18e arrondissement  ...  \\\n",
       "0                  NaN                 NaN                 NaN  ...   \n",
       "1                  NaN                 NaN                 NaN  ...   \n",
       "2                  NaN                 NaN                 NaN  ...   \n",
       "3                  NaN                 NaN                 NaN  ...   \n",
       "4                  NaN                 NaN                 NaN  ...   \n",
       "5                  NaN                 NaN                 NaN  ...   \n",
       "6                  NaN                 NaN                 NaN  ...   \n",
       "7                  NaN                 NaN                 NaN  ...   \n",
       "8                  NaN                 NaN                 NaN  ...   \n",
       "9                  NaN                 NaN                 NaN  ...   \n",
       "10                 NaN                 NaN                 NaN  ...   \n",
       "11                 NaN                 NaN                 NaN  ...   \n",
       "12                 NaN                 NaN                 NaN  ...   \n",
       "13                 NaN                 NaN                 NaN  ...   \n",
       "14                 NaN                 NaN                 NaN  ...   \n",
       "15                 NaN                 NaN                 NaN  ...   \n",
       "16                 NaN                 NaN                 NaN  ...   \n",
       "17                 NaN                 NaN                 NaN  ...   \n",
       "18                 NaN                 NaN                 NaN  ...   \n",
       "19                 NaN                 NaN                 NaN  ...   \n",
       "\n",
       "    1er arrondissement  20e arrondissement  2e arrondissement  \\\n",
       "0                  NaN                 NaN                NaN   \n",
       "1                  NaN                 NaN                NaN   \n",
       "2                  NaN                 NaN                NaN   \n",
       "3                  NaN                 NaN                NaN   \n",
       "4                  NaN                 NaN                NaN   \n",
       "5                  NaN                 NaN                NaN   \n",
       "6                  NaN                 NaN                NaN   \n",
       "7                  NaN                 NaN                NaN   \n",
       "8                  NaN                 NaN                NaN   \n",
       "9                  NaN                 NaN                NaN   \n",
       "10                 NaN                 NaN                NaN   \n",
       "11                 NaN                 NaN                NaN   \n",
       "12                 NaN                 NaN                NaN   \n",
       "13                 NaN                 NaN                NaN   \n",
       "14                 NaN                 NaN                NaN   \n",
       "15                 NaN                 NaN                NaN   \n",
       "16                 NaN                 NaN                NaN   \n",
       "17                 NaN                 NaN                NaN   \n",
       "18                 NaN                 NaN                NaN   \n",
       "19                 NaN                 NaN                NaN   \n",
       "\n",
       "    3e arrondissement  4e arrondissement  5e arrondissement  \\\n",
       "0                 NaN                NaN                NaN   \n",
       "1                 NaN                NaN                NaN   \n",
       "2                 NaN                NaN                NaN   \n",
       "3                 NaN                NaN                NaN   \n",
       "4                 NaN                NaN                NaN   \n",
       "5                 NaN                NaN                NaN   \n",
       "6                 NaN                NaN                NaN   \n",
       "7                 NaN                NaN                NaN   \n",
       "8                 NaN                NaN                NaN   \n",
       "9                 NaN                NaN                NaN   \n",
       "10                NaN                NaN                NaN   \n",
       "11                NaN                NaN                NaN   \n",
       "12                NaN                NaN                NaN   \n",
       "13                NaN                NaN                NaN   \n",
       "14                NaN                NaN                NaN   \n",
       "15                NaN                NaN                NaN   \n",
       "16                NaN                NaN                NaN   \n",
       "17                NaN                NaN                NaN   \n",
       "18                NaN                NaN                NaN   \n",
       "19                NaN                NaN                NaN   \n",
       "\n",
       "    6e arrondissement  7e arrondissement  8e arrondissement  9e arrondissement  \n",
       "0                 NaN                NaN                NaN                NaN  \n",
       "1                 NaN                NaN                NaN                NaN  \n",
       "2                 NaN                NaN                NaN                NaN  \n",
       "3                 NaN                NaN                NaN                NaN  \n",
       "4                 NaN                NaN                NaN                NaN  \n",
       "5                 NaN                NaN                NaN                NaN  \n",
       "6                 NaN                NaN                NaN                NaN  \n",
       "7                 NaN                NaN                NaN                NaN  \n",
       "8                 NaN                NaN                NaN                NaN  \n",
       "9                 NaN                NaN                NaN                NaN  \n",
       "10                NaN                NaN                NaN                NaN  \n",
       "11                NaN                NaN                NaN                NaN  \n",
       "12                NaN                NaN                NaN                NaN  \n",
       "13                NaN                NaN                NaN                NaN  \n",
       "14                NaN                NaN                NaN                NaN  \n",
       "15                NaN                NaN                NaN                NaN  \n",
       "16                NaN                NaN                NaN                NaN  \n",
       "17                NaN                NaN                NaN                NaN  \n",
       "18                NaN                NaN                NaN                NaN  \n",
       "19                NaN                NaN                NaN                NaN  \n",
       "\n",
       "[20 rows x 21 columns]"
      ]
     },
     "execution_count": 119,
     "metadata": {},
     "output_type": "execute_result"
    }
   ],
   "source": [
    "# Trying to make a regression with only B2 ponderated\n",
    "B2 = pd.DataFrame(dicB2.values())\n",
    "print(B2)\n",
    "Com = Commerces2.loc['Superficies'] #.tolist()\n",
    "print(Com)\n",
    "B2_pond = B2 / Com\n",
    "B2_pond\n",
    "\n",
    "# Pas encore OK !!!!!"
   ]
  },
  {
   "cell_type": "code",
   "execution_count": 108,
   "id": "bbd316fa-1221-46e7-ba5f-9b669344973e",
   "metadata": {},
   "outputs": [
    {
     "ename": "TypeError",
     "evalue": "Feature names are only supported if all input features have string names, but your input has ['int', 'str'] as feature name / column name types. If you want feature names to be stored and validated, you must convert them all to strings, by using X.columns = X.columns.astype(str) for example. Otherwise you can remove feature / column names from your input data, or convert them all to a non-string data type.",
     "output_type": "error",
     "traceback": [
      "\u001b[0;31m---------------------------------------------------------------------------\u001b[0m",
      "\u001b[0;31mTypeError\u001b[0m                                 Traceback (most recent call last)",
      "Cell \u001b[0;32mIn[108], line 4\u001b[0m\n\u001b[1;32m      2\u001b[0m listB2 \u001b[38;5;241m=\u001b[39m pd\u001b[38;5;241m.\u001b[39mDataFrame(dicB2\u001b[38;5;241m.\u001b[39mvalues())\n\u001b[1;32m      3\u001b[0m listB2_pond \u001b[38;5;241m=\u001b[39m listB2 \u001b[38;5;241m/\u001b[39m Commerces2\u001b[38;5;241m.\u001b[39mloc[\u001b[38;5;124m'\u001b[39m\u001b[38;5;124mSuperficies\u001b[39m\u001b[38;5;124m'\u001b[39m]\n\u001b[0;32m----> 4\u001b[0m reg \u001b[38;5;241m=\u001b[39m \u001b[43mLinearRegression\u001b[49m\u001b[43m(\u001b[49m\u001b[43m)\u001b[49m\u001b[38;5;241;43m.\u001b[39;49m\u001b[43mfit\u001b[49m\u001b[43m(\u001b[49m\u001b[43mlistB2_pond\u001b[49m\u001b[43m,\u001b[49m\u001b[43m \u001b[49m\u001b[43mnotes\u001b[49m\u001b[43m)\u001b[49m\n\u001b[1;32m      5\u001b[0m y_pred \u001b[38;5;241m=\u001b[39m reg\u001b[38;5;241m.\u001b[39mpredict(listB2_pond)\n\u001b[1;32m      7\u001b[0m plt\u001b[38;5;241m.\u001b[39mscatter(listB2_pond, notes, color\u001b[38;5;241m=\u001b[39m\u001b[38;5;124m\"\u001b[39m\u001b[38;5;124mblack\u001b[39m\u001b[38;5;124m\"\u001b[39m)\n",
      "File \u001b[0;32m/opt/mamba/lib/python3.10/site-packages/sklearn/base.py:1152\u001b[0m, in \u001b[0;36m_fit_context.<locals>.decorator.<locals>.wrapper\u001b[0;34m(estimator, *args, **kwargs)\u001b[0m\n\u001b[1;32m   1145\u001b[0m     estimator\u001b[38;5;241m.\u001b[39m_validate_params()\n\u001b[1;32m   1147\u001b[0m \u001b[38;5;28;01mwith\u001b[39;00m config_context(\n\u001b[1;32m   1148\u001b[0m     skip_parameter_validation\u001b[38;5;241m=\u001b[39m(\n\u001b[1;32m   1149\u001b[0m         prefer_skip_nested_validation \u001b[38;5;129;01mor\u001b[39;00m global_skip_validation\n\u001b[1;32m   1150\u001b[0m     )\n\u001b[1;32m   1151\u001b[0m ):\n\u001b[0;32m-> 1152\u001b[0m     \u001b[38;5;28;01mreturn\u001b[39;00m \u001b[43mfit_method\u001b[49m\u001b[43m(\u001b[49m\u001b[43mestimator\u001b[49m\u001b[43m,\u001b[49m\u001b[43m \u001b[49m\u001b[38;5;241;43m*\u001b[39;49m\u001b[43margs\u001b[49m\u001b[43m,\u001b[49m\u001b[43m \u001b[49m\u001b[38;5;241;43m*\u001b[39;49m\u001b[38;5;241;43m*\u001b[39;49m\u001b[43mkwargs\u001b[49m\u001b[43m)\u001b[49m\n",
      "File \u001b[0;32m/opt/mamba/lib/python3.10/site-packages/sklearn/linear_model/_base.py:678\u001b[0m, in \u001b[0;36mLinearRegression.fit\u001b[0;34m(self, X, y, sample_weight)\u001b[0m\n\u001b[1;32m    674\u001b[0m n_jobs_ \u001b[38;5;241m=\u001b[39m \u001b[38;5;28mself\u001b[39m\u001b[38;5;241m.\u001b[39mn_jobs\n\u001b[1;32m    676\u001b[0m accept_sparse \u001b[38;5;241m=\u001b[39m \u001b[38;5;28;01mFalse\u001b[39;00m \u001b[38;5;28;01mif\u001b[39;00m \u001b[38;5;28mself\u001b[39m\u001b[38;5;241m.\u001b[39mpositive \u001b[38;5;28;01melse\u001b[39;00m [\u001b[38;5;124m\"\u001b[39m\u001b[38;5;124mcsr\u001b[39m\u001b[38;5;124m\"\u001b[39m, \u001b[38;5;124m\"\u001b[39m\u001b[38;5;124mcsc\u001b[39m\u001b[38;5;124m\"\u001b[39m, \u001b[38;5;124m\"\u001b[39m\u001b[38;5;124mcoo\u001b[39m\u001b[38;5;124m\"\u001b[39m]\n\u001b[0;32m--> 678\u001b[0m X, y \u001b[38;5;241m=\u001b[39m \u001b[38;5;28;43mself\u001b[39;49m\u001b[38;5;241;43m.\u001b[39;49m\u001b[43m_validate_data\u001b[49m\u001b[43m(\u001b[49m\n\u001b[1;32m    679\u001b[0m \u001b[43m    \u001b[49m\u001b[43mX\u001b[49m\u001b[43m,\u001b[49m\u001b[43m \u001b[49m\u001b[43my\u001b[49m\u001b[43m,\u001b[49m\u001b[43m \u001b[49m\u001b[43maccept_sparse\u001b[49m\u001b[38;5;241;43m=\u001b[39;49m\u001b[43maccept_sparse\u001b[49m\u001b[43m,\u001b[49m\u001b[43m \u001b[49m\u001b[43my_numeric\u001b[49m\u001b[38;5;241;43m=\u001b[39;49m\u001b[38;5;28;43;01mTrue\u001b[39;49;00m\u001b[43m,\u001b[49m\u001b[43m \u001b[49m\u001b[43mmulti_output\u001b[49m\u001b[38;5;241;43m=\u001b[39;49m\u001b[38;5;28;43;01mTrue\u001b[39;49;00m\n\u001b[1;32m    680\u001b[0m \u001b[43m\u001b[49m\u001b[43m)\u001b[49m\n\u001b[1;32m    682\u001b[0m has_sw \u001b[38;5;241m=\u001b[39m sample_weight \u001b[38;5;129;01mis\u001b[39;00m \u001b[38;5;129;01mnot\u001b[39;00m \u001b[38;5;28;01mNone\u001b[39;00m\n\u001b[1;32m    683\u001b[0m \u001b[38;5;28;01mif\u001b[39;00m has_sw:\n",
      "File \u001b[0;32m/opt/mamba/lib/python3.10/site-packages/sklearn/base.py:580\u001b[0m, in \u001b[0;36mBaseEstimator._validate_data\u001b[0;34m(self, X, y, reset, validate_separately, cast_to_ndarray, **check_params)\u001b[0m\n\u001b[1;32m    509\u001b[0m \u001b[38;5;28;01mdef\u001b[39;00m \u001b[38;5;21m_validate_data\u001b[39m(\n\u001b[1;32m    510\u001b[0m     \u001b[38;5;28mself\u001b[39m,\n\u001b[1;32m    511\u001b[0m     X\u001b[38;5;241m=\u001b[39m\u001b[38;5;124m\"\u001b[39m\u001b[38;5;124mno_validation\u001b[39m\u001b[38;5;124m\"\u001b[39m,\n\u001b[0;32m   (...)\u001b[0m\n\u001b[1;32m    516\u001b[0m     \u001b[38;5;241m*\u001b[39m\u001b[38;5;241m*\u001b[39mcheck_params,\n\u001b[1;32m    517\u001b[0m ):\n\u001b[1;32m    518\u001b[0m \u001b[38;5;250m    \u001b[39m\u001b[38;5;124;03m\"\"\"Validate input data and set or check the `n_features_in_` attribute.\u001b[39;00m\n\u001b[1;32m    519\u001b[0m \n\u001b[1;32m    520\u001b[0m \u001b[38;5;124;03m    Parameters\u001b[39;00m\n\u001b[0;32m   (...)\u001b[0m\n\u001b[1;32m    578\u001b[0m \u001b[38;5;124;03m        validated.\u001b[39;00m\n\u001b[1;32m    579\u001b[0m \u001b[38;5;124;03m    \"\"\"\u001b[39;00m\n\u001b[0;32m--> 580\u001b[0m     \u001b[38;5;28;43mself\u001b[39;49m\u001b[38;5;241;43m.\u001b[39;49m\u001b[43m_check_feature_names\u001b[49m\u001b[43m(\u001b[49m\u001b[43mX\u001b[49m\u001b[43m,\u001b[49m\u001b[43m \u001b[49m\u001b[43mreset\u001b[49m\u001b[38;5;241;43m=\u001b[39;49m\u001b[43mreset\u001b[49m\u001b[43m)\u001b[49m\n\u001b[1;32m    582\u001b[0m     \u001b[38;5;28;01mif\u001b[39;00m y \u001b[38;5;129;01mis\u001b[39;00m \u001b[38;5;28;01mNone\u001b[39;00m \u001b[38;5;129;01mand\u001b[39;00m \u001b[38;5;28mself\u001b[39m\u001b[38;5;241m.\u001b[39m_get_tags()[\u001b[38;5;124m\"\u001b[39m\u001b[38;5;124mrequires_y\u001b[39m\u001b[38;5;124m\"\u001b[39m]:\n\u001b[1;32m    583\u001b[0m         \u001b[38;5;28;01mraise\u001b[39;00m \u001b[38;5;167;01mValueError\u001b[39;00m(\n\u001b[1;32m    584\u001b[0m             \u001b[38;5;124mf\u001b[39m\u001b[38;5;124m\"\u001b[39m\u001b[38;5;124mThis \u001b[39m\u001b[38;5;132;01m{\u001b[39;00m\u001b[38;5;28mself\u001b[39m\u001b[38;5;241m.\u001b[39m\u001b[38;5;18m__class__\u001b[39m\u001b[38;5;241m.\u001b[39m\u001b[38;5;18m__name__\u001b[39m\u001b[38;5;132;01m}\u001b[39;00m\u001b[38;5;124m estimator \u001b[39m\u001b[38;5;124m\"\u001b[39m\n\u001b[1;32m    585\u001b[0m             \u001b[38;5;124m\"\u001b[39m\u001b[38;5;124mrequires y to be passed, but the target y is None.\u001b[39m\u001b[38;5;124m\"\u001b[39m\n\u001b[1;32m    586\u001b[0m         )\n",
      "File \u001b[0;32m/opt/mamba/lib/python3.10/site-packages/sklearn/base.py:441\u001b[0m, in \u001b[0;36mBaseEstimator._check_feature_names\u001b[0;34m(self, X, reset)\u001b[0m\n\u001b[1;32m    421\u001b[0m \u001b[38;5;250m\u001b[39m\u001b[38;5;124;03m\"\"\"Set or check the `feature_names_in_` attribute.\u001b[39;00m\n\u001b[1;32m    422\u001b[0m \n\u001b[1;32m    423\u001b[0m \u001b[38;5;124;03m.. versionadded:: 1.0\u001b[39;00m\n\u001b[0;32m   (...)\u001b[0m\n\u001b[1;32m    437\u001b[0m \u001b[38;5;124;03m       should set `reset=False`.\u001b[39;00m\n\u001b[1;32m    438\u001b[0m \u001b[38;5;124;03m\"\"\"\u001b[39;00m\n\u001b[1;32m    440\u001b[0m \u001b[38;5;28;01mif\u001b[39;00m reset:\n\u001b[0;32m--> 441\u001b[0m     feature_names_in \u001b[38;5;241m=\u001b[39m \u001b[43m_get_feature_names\u001b[49m\u001b[43m(\u001b[49m\u001b[43mX\u001b[49m\u001b[43m)\u001b[49m\n\u001b[1;32m    442\u001b[0m     \u001b[38;5;28;01mif\u001b[39;00m feature_names_in \u001b[38;5;129;01mis\u001b[39;00m \u001b[38;5;129;01mnot\u001b[39;00m \u001b[38;5;28;01mNone\u001b[39;00m:\n\u001b[1;32m    443\u001b[0m         \u001b[38;5;28mself\u001b[39m\u001b[38;5;241m.\u001b[39mfeature_names_in_ \u001b[38;5;241m=\u001b[39m feature_names_in\n",
      "File \u001b[0;32m/opt/mamba/lib/python3.10/site-packages/sklearn/utils/validation.py:2020\u001b[0m, in \u001b[0;36m_get_feature_names\u001b[0;34m(X)\u001b[0m\n\u001b[1;32m   2018\u001b[0m \u001b[38;5;66;03m# mixed type of string and non-string is not supported\u001b[39;00m\n\u001b[1;32m   2019\u001b[0m \u001b[38;5;28;01mif\u001b[39;00m \u001b[38;5;28mlen\u001b[39m(types) \u001b[38;5;241m>\u001b[39m \u001b[38;5;241m1\u001b[39m \u001b[38;5;129;01mand\u001b[39;00m \u001b[38;5;124m\"\u001b[39m\u001b[38;5;124mstr\u001b[39m\u001b[38;5;124m\"\u001b[39m \u001b[38;5;129;01min\u001b[39;00m types:\n\u001b[0;32m-> 2020\u001b[0m     \u001b[38;5;28;01mraise\u001b[39;00m \u001b[38;5;167;01mTypeError\u001b[39;00m(\n\u001b[1;32m   2021\u001b[0m         \u001b[38;5;124m\"\u001b[39m\u001b[38;5;124mFeature names are only supported if all input features have string names, \u001b[39m\u001b[38;5;124m\"\u001b[39m\n\u001b[1;32m   2022\u001b[0m         \u001b[38;5;124mf\u001b[39m\u001b[38;5;124m\"\u001b[39m\u001b[38;5;124mbut your input has \u001b[39m\u001b[38;5;132;01m{\u001b[39;00mtypes\u001b[38;5;132;01m}\u001b[39;00m\u001b[38;5;124m as feature name / column name types. \u001b[39m\u001b[38;5;124m\"\u001b[39m\n\u001b[1;32m   2023\u001b[0m         \u001b[38;5;124m\"\u001b[39m\u001b[38;5;124mIf you want feature names to be stored and validated, you must convert \u001b[39m\u001b[38;5;124m\"\u001b[39m\n\u001b[1;32m   2024\u001b[0m         \u001b[38;5;124m\"\u001b[39m\u001b[38;5;124mthem all to strings, by using X.columns = X.columns.astype(str) for \u001b[39m\u001b[38;5;124m\"\u001b[39m\n\u001b[1;32m   2025\u001b[0m         \u001b[38;5;124m\"\u001b[39m\u001b[38;5;124mexample. Otherwise you can remove feature / column names from your input \u001b[39m\u001b[38;5;124m\"\u001b[39m\n\u001b[1;32m   2026\u001b[0m         \u001b[38;5;124m\"\u001b[39m\u001b[38;5;124mdata, or convert them all to a non-string data type.\u001b[39m\u001b[38;5;124m\"\u001b[39m\n\u001b[1;32m   2027\u001b[0m     )\n\u001b[1;32m   2029\u001b[0m \u001b[38;5;66;03m# Only feature names of all strings are supported\u001b[39;00m\n\u001b[1;32m   2030\u001b[0m \u001b[38;5;28;01mif\u001b[39;00m \u001b[38;5;28mlen\u001b[39m(types) \u001b[38;5;241m==\u001b[39m \u001b[38;5;241m1\u001b[39m \u001b[38;5;129;01mand\u001b[39;00m types[\u001b[38;5;241m0\u001b[39m] \u001b[38;5;241m==\u001b[39m \u001b[38;5;124m\"\u001b[39m\u001b[38;5;124mstr\u001b[39m\u001b[38;5;124m\"\u001b[39m:\n",
      "\u001b[0;31mTypeError\u001b[0m: Feature names are only supported if all input features have string names, but your input has ['int', 'str'] as feature name / column name types. If you want feature names to be stored and validated, you must convert them all to strings, by using X.columns = X.columns.astype(str) for example. Otherwise you can remove feature / column names from your input data, or convert them all to a non-string data type."
     ]
    }
   ],
   "source": [
    "# Trying to make a regression with only B2 ponderated\n",
    "listB2 = pd.DataFrame(dicB2.values())\n",
    "listB2_pond = listB2 / Commerces2.loc['Superficies']\n",
    "reg = LinearRegression().fit(listB2_pond, notes)\n",
    "y_pred = reg.predict(listB2_pond)\n",
    "\n",
    "plt.scatter(listB2_pond, notes, color=\"black\")\n",
    "plt.plot(listB2_pond, y_pred, color=\"blue\", linewidth=3)\n",
    "plt.xlabel('Nombre de commerces alimentaires / superficie')\n",
    "plt.ylabel('Note donnée par les habitants')\n",
    "plt.title('Une régression avec B2 pondéré')\n",
    "plt.show()\n",
    "\n",
    "# Not very satisfactory since y_pred is surprisingly decreasing"
   ]
  },
  {
   "cell_type": "code",
   "execution_count": 44,
   "id": "146e0100-1b9c-4093-bb04-e4c35d66d59c",
   "metadata": {},
   "outputs": [
    {
     "ename": "NameError",
     "evalue": "name 'NbLieux' is not defined",
     "output_type": "error",
     "traceback": [
      "\u001b[0;31m---------------------------------------------------------------------------\u001b[0m",
      "\u001b[0;31mNameError\u001b[0m                                 Traceback (most recent call last)",
      "Cell \u001b[0;32mIn[44], line 1\u001b[0m\n\u001b[0;32m----> 1\u001b[0m \u001b[43mNbLieux\u001b[49m\u001b[38;5;241m.\u001b[39mto_frame()\u001b[38;5;241m.\u001b[39msort_values(\u001b[38;5;124m'\u001b[39m\u001b[38;5;124mCODE_POSTAL\u001b[39m\u001b[38;5;124m'\u001b[39m)\u001b[38;5;241m.\u001b[39mreset_index()\n",
      "\u001b[0;31mNameError\u001b[0m: name 'NbLieux' is not defined"
     ]
    }
   ],
   "source": [
    "# NbLieux.to_frame().sort_values('CODE_POSTAL').reset_index()"
   ]
  },
  {
   "cell_type": "code",
   "execution_count": null,
   "id": "fa6fb369-4f9f-4e01-89ab-a7365b487477",
   "metadata": {},
   "outputs": [],
   "source": [
    "\"\"\" Copié sur Guilhem: à adapter !!!\n",
    "\n",
    "\n",
    "# Ajout des données de superficie au dataframe contenant le nombre de lieux culturels par arrondissement.\n",
    "\n",
    "NbLieux = NbLieux.to_frame().sort_values('CODE_POSTAL').reset_index()\n",
    "NbLieux['superficie'] = superficies.values\n",
    "NbLieux = NbLieux.rename(columns={'count':'nb_lieux'})\n",
    "\n",
    "\n",
    "\"\"\""
   ]
  },
  {
   "cell_type": "code",
   "execution_count": null,
   "id": "2f683193-ac3a-4793-820e-c872c7c9d812",
   "metadata": {},
   "outputs": [],
   "source": [
    "\"\"\"\n",
    "# Création d'une colonne contenant les densités des lieux culturels \n",
    "NbLieux.nb_lieux = NbLieux.nb_lieux.astype('float64')\n",
    "NbLieux['densite_culture'] = NbLieux.nb_lieux / NbLieux.superficie\n",
    "\"\"\""
   ]
  },
  {
   "cell_type": "code",
   "execution_count": null,
   "id": "a7248092-8af1-4f5e-8a42-19803d11ccc6",
   "metadata": {},
   "outputs": [],
   "source": [
    "\"\"\"\n",
    "\n",
    "display(NbLieux.sort_values('densite_culture', ascending=False))\n",
    "\n",
    "\"\"\""
   ]
  },
  {
   "cell_type": "code",
   "execution_count": null,
   "id": "0987fd1b-b0b7-4ce5-8bb4-149f29b9ea3f",
   "metadata": {},
   "outputs": [],
   "source": [
    "from cartiflette.s3 import download_vectorfile_url_all\n",
    "\n",
    "'''Let's download the geographical data of Paris to create its map'''\n",
    "Paris_borders = download_vectorfile_url_all(crs = 4326,values = [\"75\"],borders=\"COMMUNE_ARRONDISSEMENT\",vectorfile_format=\"topojson\",filter_by=\"DEPARTEMENT\",source=\"EXPRESS-COG-CARTO-TERRITOIRE\",year=2022)"
   ]
  },
  {
   "cell_type": "markdown",
   "id": "82799459-c777-4113-9457-74e1e9beabba",
   "metadata": {},
   "source": [
    "## IV- Étude de l'enseignement"
   ]
  },
  {
   "cell_type": "markdown",
   "id": "d7ceb34f-a929-4a48-9939-141b04c0c1d4",
   "metadata": {},
   "source": [
    "Nous nous intéressons ici à la catégorie C dans le fichier bpeParis.csv"
   ]
  },
  {
   "cell_type": "code",
   "execution_count": 47,
   "id": "ff2da259-d31e-4e24-ba61-58ac88359adc",
   "metadata": {},
   "outputs": [],
   "source": [
    "# Number of \"Lycées\" (C3) by arrondissement\n",
    "\n",
    "# Concerning the 1st arrondissement of Paris\n",
    "n1 = 0 # Number initialized\n",
    "for iris in dicIRIS['Paris 1er Arrondissement']:\n",
    "    col = BPE[(BPE['DCIRIS'] == iris) & (BPE['SDOM'] == 'C3')]\n",
    "    n1 += len(col) # number of lines\n",
    "\n",
    "# Concerning the rest of the arrondissements\n",
    "dicC3 = {'1er Arrondissement': n1}\n",
    "n = 0\n",
    "for i in range(2,21):\n",
    "    key_arr = 'Paris ' + str(i) + 'e Arrondissement'\n",
    "    for iris in dicIRIS[key_arr]:\n",
    "        col = BPE[(BPE['DCIRIS'] == iris) & (BPE['SDOM'] == 'C3')]\n",
    "        n += len(col)\n",
    "    dicC3[str(i) + 'e Arrondissement'] = n\n",
    "    n = 0\n",
    "\n",
    "# We obtain a dictionary with the name of the arrondissement as a key \n",
    "# and the number of \"Lycées\" as a value"
   ]
  },
  {
   "cell_type": "code",
   "execution_count": 48,
   "id": "30e11e3d-f87c-4a18-be0d-4547005b04d6",
   "metadata": {},
   "outputs": [
    {
     "data": {
      "image/png": "[encoded data removed]",
      "text/plain": [
       "<Figure size 640x480 with 1 Axes>"
      ]
     },
     "metadata": {},
     "output_type": "display_data"
    }
   ],
   "source": [
    "# Trying to make a regression with only C3\n",
    "listC3 = pd.DataFrame(dicC3.values())\n",
    "reg = LinearRegression().fit(listC3, notes)\n",
    "y_pred = reg.predict(listC3)\n",
    "\n",
    "plt.scatter(listC3, notes, color=\"black\")\n",
    "plt.plot(listC3, y_pred, color=\"blue\", linewidth=3)\n",
    "plt.xlabel('Nombre de lycées')\n",
    "plt.ylabel('Note donnée par les habitants')\n",
    "plt.title('Une régression avec C3')\n",
    "plt.show()"
   ]
  },
  {
   "cell_type": "code",
   "execution_count": null,
   "id": "d1fc02ac-c908-4aed-a008-c8ce48948404",
   "metadata": {},
   "outputs": [],
   "source": [
    "# More precisely, we want to have the number of each type of equipments whose field is B, i.e. \"commerces\", for each arrondissement\n",
    "# To obtain this, we will create a csv file\n",
    "\n",
    "# Concerning the 1st arrondissement of Paris\n",
    "n1 = 0 # Number initialized\n",
    "listType = ['C101', 'C102', 'C104', 'C105', 'C201', 'C301', 'C302', 'C303', 'C304', 'C305', 'C401', 'B307', 'B308', 'B309', 'B310', 'B311', 'B312', 'B313', 'B314', 'B315', 'B316']\n",
    "##### Please find a list somewhere\n",
    "list1 = []\n",
    "for type in listType:\n",
    "    for iris in dicIRIS['Paris 1er Arrondissement']:\n",
    "        col = BPE[(BPE['DCIRIS'] == iris) & (BPE['TYPEQU'] == type)]\n",
    "        n1 += len(col) # number of lines\n",
    "    list1.append(n1)\n",
    "    n1 = 0\n",
    "\n",
    "# Concerning the rest of the arrondissements\n",
    "dicB = {'1er Arrondissement': list1}\n",
    "n = 0\n",
    "for arr in range(2,21):\n",
    "    key_arr = 'Paris ' + str(arr) + 'e Arrondissement'\n",
    "    listBType = []\n",
    "    for type in listType:\n",
    "        for iris in dicIRIS[key_arr]:\n",
    "            col = BPE[(BPE['DCIRIS'] == iris) & (BPE['TYPEQU'] == type)]\n",
    "            n += len(col)\n",
    "        listBType.append(n)\n",
    "        n = 0\n",
    "    dicB[str(arr) + 'e Arrondissement'] = listBType\n",
    "\n",
    "Commerces_precis = pd.DataFrame(dicB)\n",
    "Commerces_precis.set_axis(listType, axis = 0)\n",
    "Commerces_precis.to_csv(path_or_buf = 'data/Commerces.csv', index = False)\n",
    "\n",
    "# Each row is one type of equipment"
   ]
  },
  {
   "cell_type": "markdown",
   "id": "4a5de4fc-3cc2-45fd-936a-64599e02069a",
   "metadata": {},
   "source": [
    "## V- Étude de la santé"
   ]
  },
  {
   "cell_type": "markdown",
   "id": "a6bceab6-3ad9-4cf9-9035-cbc50419c9b2",
   "metadata": {},
   "source": [
    "Nous nous intéressons ici à la catégorie D dans le fichier bpeParis.csv"
   ]
  },
  {
   "cell_type": "code",
   "execution_count": null,
   "id": "845f139e-cb67-41e6-a583-4776e926b056",
   "metadata": {},
   "outputs": [],
   "source": []
  },
  {
   "cell_type": "markdown",
   "id": "f4186553-7ab2-4e74-850e-db277ffd05b0",
   "metadata": {},
   "source": [
    "## VI- Étude des transports"
   ]
  },
  {
   "cell_type": "markdown",
   "id": "08e0db12-ab1a-4708-9229-5884e57949b5",
   "metadata": {},
   "source": [
    "Nous nous intéressons ici à la catégorie E dans le fichier bpeParis.csv"
   ]
  },
  {
   "cell_type": "code",
   "execution_count": null,
   "id": "b8d4a539-11c4-4e36-8123-4666c158895c",
   "metadata": {},
   "outputs": [],
   "source": []
  }
 ],
 "metadata": {
  "kernelspec": {
   "display_name": "Python 3 (ipykernel)",
   "language": "python",
   "name": "python3"
  },
  "language_info": {
   "codemirror_mode": {
    "name": "ipython",
    "version": 3
   },
   "file_extension": ".py",
   "mimetype": "text/x-python",
   "name": "python",
   "nbconvert_exporter": "python",
   "pygments_lexer": "ipython3",
   "version": "3.10.13"
  }
 },
 "nbformat": 4,
 "nbformat_minor": 5
}
