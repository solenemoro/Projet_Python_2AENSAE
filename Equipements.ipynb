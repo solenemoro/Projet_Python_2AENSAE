{
 "cells": [
  {
   "cell_type": "markdown",
   "id": "621e13a5-03bc-4255-b4f4-e87302d277e3",
   "metadata": {},
   "source": [
    "# Étude du lien entre les notes attribuées et la présence d'équipements"
   ]
  },
  {
   "cell_type": "markdown",
   "id": "cc9d30c0-6e55-4222-a263-eac524872a02",
   "metadata": {},
   "source": [
    "## I- Import des données"
   ]
  },
  {
   "cell_type": "code",
   "execution_count": 1,
   "id": "96707707-bdf2-47bd-85d5-e23660d21ec0",
   "metadata": {},
   "outputs": [
    {
     "name": "stdout",
     "output_type": "stream",
     "text": [
      "Collecting openpyxl\n",
      "  Downloading openpyxl-3.1.2-py2.py3-none-any.whl (249 kB)\n",
      "\u001b[2K     \u001b[90m━━━━━━━━━━━━━━━━━━━━━━━━━━━━━━━━━━━━━━━\u001b[0m \u001b[32m250.0/250.0 kB\u001b[0m \u001b[31m3.7 MB/s\u001b[0m eta \u001b[36m0:00:00\u001b[0ma \u001b[36m0:00:01\u001b[0m\n",
      "\u001b[?25hCollecting et-xmlfile (from openpyxl)\n",
      "  Downloading et_xmlfile-1.1.0-py3-none-any.whl (4.7 kB)\n",
      "Installing collected packages: et-xmlfile, openpyxl\n",
      "Successfully installed et-xmlfile-1.1.0 openpyxl-3.1.2\n"
     ]
    }
   ],
   "source": [
    "!pip install openpyxl\n",
    "import pandas as pd\n",
    "import requests\n",
    "import io\n",
    "import zipfile\n",
    "import sklearn\n",
    "from sklearn.linear_model import LinearRegression\n",
    "import numpy as np\n",
    "import matplotlib.pyplot as plt\n",
    "import os"
   ]
  },
  {
   "cell_type": "markdown",
   "id": "d5010d3c-4145-4049-a3bb-7376b6020878",
   "metadata": {},
   "source": [
    "Nous commençons par télécharger les données relatives à divers équipements dans l'ensemble de la France."
   ]
  },
  {
   "cell_type": "code",
   "execution_count": 2,
   "id": "461f2db2-ecb2-48d8-b4dc-3b8f0a42a2db",
   "metadata": {},
   "outputs": [],
   "source": [
    "# Reading the Zipfile with information about equipments in 2021\n",
    "url = 'https://www.insee.fr/fr/statistiques/fichier/3568638/bpe21_ensemble_xy_csv.zip'\n",
    "r = requests.get(url)\n",
    "z = zipfile.ZipFile(io.BytesIO(r.content))\n",
    "z.extractall()\n",
    "\n",
    "# We obtain two csv files"
   ]
  },
  {
   "cell_type": "code",
   "execution_count": 3,
   "id": "48a44acd-9a65-44c3-b772-a20598ec8f75",
   "metadata": {},
   "outputs": [],
   "source": [
    "# Reading the file with information about equipments\n",
    "dicType = {'BV2012': str, 'DCIRIS': str, 'DEP': str, 'DEPCOM': str, 'DOM': str, 'EPCI': str, 'SDOM': str}\n",
    "BPE = pd.read_csv('bpe21_ensemble_xy.csv', sep=\";\", dtype = dicType)"
   ]
  },
  {
   "cell_type": "markdown",
   "id": "2f748ade-fd8e-4f9c-bfe5-18f9dbf623ca",
   "metadata": {},
   "source": [
    "Il est maintenant nécessaire de conserver uniquement les données concernant Paris pour le fichier qui nous intéresse, de manière à obtenir un fichier csv de taille plus raisonnable."
   ]
  },
  {
   "cell_type": "code",
   "execution_count": 15,
   "id": "fc7855db-d474-4c9d-95f6-25fd142fd18c",
   "metadata": {},
   "outputs": [],
   "source": [
    "# Reducing the file to keep only Paris\n",
    "with open('data/bpeParis.csv','w') as f:\n",
    "    f = BPE.loc[BPE['DEP'] == '75']\n",
    "    f.to_csv(path_or_buf = 'data/bpeParis.csv', index = False)"
   ]
  },
  {
   "cell_type": "code",
   "execution_count": 5,
   "id": "713bc751-1867-4f71-9247-3d1cc1a385b5",
   "metadata": {},
   "outputs": [],
   "source": [
    "# We need to delete csv files that are too big to push\n",
    "# i.e. bpe21_ensemble_xy.csv and Varmod_bpe21_ensemble_xy.csv\n",
    "os.remove('bpe21_ensemble_xy.csv')\n",
    "os.remove('Varmod_bpe21_ensemble_xy.csv')"
   ]
  },
  {
   "cell_type": "markdown",
   "id": "291e3167-77e9-4d81-ae15-4144c1599561",
   "metadata": {},
   "source": [
    "## II- Traitement préliminaire pour associer les IRIS et les arrondissements"
   ]
  },
  {
   "cell_type": "markdown",
   "id": "a7f51320-7cd1-46a8-ab29-48dc3486fefe",
   "metadata": {},
   "source": [
    "La base des équipements utilise le découpage territorial en IRIS, alors que les notes concernent les arrondissements. Pour obtenir des résultats sur les arrondissements, il convient donc d'associer chaque arrondissement aux IRIS qui le composent."
   ]
  },
  {
   "cell_type": "code",
   "execution_count": 6,
   "id": "e9f93dbc-8ad4-42b5-8325-c0e2c4cfe32e",
   "metadata": {},
   "outputs": [],
   "source": [
    "# Getting the file containing matchings between arrondissements and IRIS\n",
    "url_1 = 'https://www.insee.fr/fr/statistiques/fichier/2017499/reference_IRIS_geo2023.zip'\n",
    "r1 = requests.get(url_1)\n",
    "z1 = zipfile.ZipFile(io.BytesIO(r1.content))\n",
    "z1.extractall(path = 'data/')\n",
    "Ref_IRIS = pd.read_excel('data/reference_IRIS_geo2023.xlsx')"
   ]
  },
  {
   "cell_type": "code",
   "execution_count": 7,
   "id": "f82277d8-5049-4edc-afb0-b5b4021ccd82",
   "metadata": {},
   "outputs": [],
   "source": [
    "# Changing the names of the columns\n",
    "# It is only further in the excel file that we find the right column names\n",
    "wrong_names = pd.Series.tolist(Ref_IRIS.columns)\n",
    "col_names = pd.Series.tolist(Ref_IRIS.iloc[4])\n",
    "dictionary_names = dict(zip(wrong_names, col_names))\n",
    "Ref_IRIS = Ref_IRIS.rename(columns = dictionary_names)\n",
    "\n",
    "# We obtain the right names of columns"
   ]
  },
  {
   "cell_type": "code",
   "execution_count": 8,
   "id": "78db2015-aa99-4757-ae35-c20c481b612d",
   "metadata": {},
   "outputs": [],
   "source": [
    "# Obtaining a list with IRIS in the 1st arrondissement of Paris\n",
    "Arr1 = Ref_IRIS[Ref_IRIS['LIBCOM'] == 'Paris 1er Arrondissement']\n",
    "liste1 = pd.Series.tolist(Arr1['CODE_IRIS'])"
   ]
  },
  {
   "cell_type": "code",
   "execution_count": 9,
   "id": "9c216306-97d3-4810-8d8d-6c326c01aa19",
   "metadata": {},
   "outputs": [],
   "source": [
    "#The same with all the other arrondissements\n",
    "dicIRIS = {'Paris 1er Arrondissement': liste1}\n",
    "for i in range(2,21):\n",
    "    j = str(i)\n",
    "    key_arr = 'Paris ' + j + 'e Arrondissement'\n",
    "    Arr = Ref_IRIS[Ref_IRIS['LIBCOM'] == key_arr]\n",
    "    val_arr = pd.Series.tolist(Arr['CODE_IRIS'])\n",
    "    dicIRIS[key_arr] = val_arr\n",
    "\n",
    "# We obtain a dictionary with the name of the arrondissement as a key \n",
    "# and a list with the numbers of IRIS corresponding as a value"
   ]
  },
  {
   "cell_type": "markdown",
   "id": "78a9bf0d-9527-4759-8fa7-c48f1c8dba66",
   "metadata": {},
   "source": [
    "## III- Étude des commerces"
   ]
  },
  {
   "cell_type": "markdown",
   "id": "6a465a54-7768-49ee-ba27-4adb6f92ba17",
   "metadata": {},
   "source": [
    "Nous nous intéressons ici à la catégorie B dans le fichier bpeParis.csv"
   ]
  },
  {
   "cell_type": "markdown",
   "id": "6db5a36e-c392-40b4-bef0-681977bed4b6",
   "metadata": {},
   "source": [
    "### A- Préambule"
   ]
  },
  {
   "cell_type": "code",
   "execution_count": 11,
   "id": "e06994f6-c716-4758-8e56-eb3805f2f63a",
   "metadata": {},
   "outputs": [],
   "source": [
    "dicType = {'BV2012': str, 'DCIRIS': str, 'DEP': str, 'DEPCOM': str, 'DOM': str, 'EPCI': str, 'SDOM': str}\n",
    "BPE = pd.read_csv('data/bpeParis.csv', sep=\",\", dtype = dicType)"
   ]
  },
  {
   "cell_type": "code",
   "execution_count": 12,
   "id": "19c23d1d-f979-4cf1-aa1c-025abbce620c",
   "metadata": {},
   "outputs": [],
   "source": [
    "# Number of \"Grandes surfaces\" (B1) by arrondissement\n",
    "\n",
    "# Concerning the 1st arrondissement of Paris\n",
    "n1 = 0 # Number initialized\n",
    "for iris in dicIRIS['Paris 1er Arrondissement']:\n",
    "    col = BPE[(BPE['DCIRIS'] == iris) & (BPE['SDOM'] == 'B1')]\n",
    "    n1 += len(col) # number of lines\n",
    "\n",
    "# Concerning the rest of the arrondissements\n",
    "dicB1 = {'1er Arrondissement': n1}\n",
    "n = 0\n",
    "for i in range(2,21):\n",
    "    key_arr = 'Paris ' + str(i) + 'e Arrondissement'\n",
    "    for iris in dicIRIS[key_arr]:\n",
    "        col = BPE[(BPE['DCIRIS'] == iris) & (BPE['SDOM'] == 'B1')]\n",
    "        n += len(col)\n",
    "    dicB1[str(i) + 'e Arrondissement'] = n\n",
    "    n = 0\n",
    "\n",
    "# We obtain a dictionary with the name of the arrondissement as a key \n",
    "# and the number of \"Grandes surfaces\" as a value"
   ]
  },
  {
   "cell_type": "code",
   "execution_count": 16,
   "id": "3556f7ee-dbe2-40e3-a010-4e71400f1a58",
   "metadata": {},
   "outputs": [],
   "source": [
    "# Number of \"commerces alimentaires\" (B2) by arrondissement\n",
    "\n",
    "# Concerning the 1st arrondissement of Paris\n",
    "n1 = 0 # Number initialized\n",
    "for iris in dicIRIS['Paris 1er Arrondissement']:\n",
    "    col = BPE[(BPE['DCIRIS'] == iris) & (BPE['SDOM'] == 'B2')]\n",
    "    n1 += len(col) # number of lines\n",
    "\n",
    "# Concerning the rest of the arrondissements\n",
    "dicB2 = {'1er Arrondissement': n1}\n",
    "n = 0\n",
    "for i in range(2,21):\n",
    "    key_arr = 'Paris ' + str(i) + 'e Arrondissement'\n",
    "    for iris in dicIRIS[key_arr]:\n",
    "        col = BPE[(BPE['DCIRIS'] == iris) & (BPE['SDOM'] == 'B2')]\n",
    "        n += len(col)\n",
    "    dicB2[str(i) + 'e Arrondissement'] = n\n",
    "    n = 0\n",
    "\n",
    "# We obtain a dictionary with the name of the arrondissement as a key \n",
    "# and the number of \"commerces alimentaires\" as a value"
   ]
  },
  {
   "cell_type": "markdown",
   "id": "d032de42-e018-4d03-8e62-70faa96ea2cf",
   "metadata": {},
   "source": [
    "Nous créons maintenant un fichier csv pour isoler plus précisément les équipements selon leur type, et non plus seulement leur domaine."
   ]
  },
  {
   "cell_type": "code",
   "execution_count": 17,
   "id": "fee68290-8df7-4fc1-944d-11b5ee386bb2",
   "metadata": {},
   "outputs": [],
   "source": [
    "# More precisely, we want to have the number of each type of equipments whose field is B, i.e. \"commerces\", for each arrondissement\n",
    "# To obtain this, we will create a csv file\n",
    "\n",
    "# Concerning the 1st arrondissement of Paris\n",
    "n1 = 0 # Number initialized\n",
    "listType = ['B101', 'B102', 'B103', 'B201', 'B202', 'B203', 'B204', 'B205', 'B206', 'B301', 'B302', 'B303', 'B304', 'B305', 'B306', 'B307', 'B308', 'B309', 'B310', 'B311', 'B312', 'B313', 'B314', 'B315', 'B316']\n",
    "list1 = []\n",
    "for type in listType:\n",
    "    for iris in dicIRIS['Paris 1er Arrondissement']:\n",
    "        col = BPE[(BPE['DCIRIS'] == iris) & (BPE['TYPEQU'] == type)]\n",
    "        n1 += len(col) # number of lines\n",
    "    list1.append(n1)\n",
    "    n1 = 0\n",
    "\n",
    "# Concerning the rest of the arrondissements\n",
    "dicB = {'1er Arrondissement': list1}\n",
    "n = 0\n",
    "for arr in range(2,21):\n",
    "    key_arr = 'Paris ' + str(arr) + 'e Arrondissement'\n",
    "    listBType = []\n",
    "    for type in listType:\n",
    "        for iris in dicIRIS[key_arr]:\n",
    "            col = BPE[(BPE['DCIRIS'] == iris) & (BPE['TYPEQU'] == type)]\n",
    "            n += len(col)\n",
    "        listBType.append(n)\n",
    "        n = 0\n",
    "    dicB[str(arr) + 'e Arrondissement'] = listBType\n",
    "\n",
    "Commerces_precis = pd.DataFrame(dicB)\n",
    "Commerces_precis.set_axis(listType, axis = 0)\n",
    "Commerces_precis.to_csv(path_or_buf = 'data/Commerces.csv', index = False)\n",
    "\n",
    "# Each row is one type of equipment"
   ]
  },
  {
   "cell_type": "markdown",
   "id": "699d4bce-bf36-42a0-845a-47465899eae3",
   "metadata": {},
   "source": [
    "### B- Régressions"
   ]
  },
  {
   "cell_type": "markdown",
   "id": "e5ecfec2-158e-44f8-a9fc-83256aa6d739",
   "metadata": {},
   "source": [
    "Nous introduisons la variable sur laquelle les autres variables extraites précédemment vont être régressées, à savoir la note moyenne donnée par les habitants."
   ]
  },
  {
   "cell_type": "code",
   "execution_count": 21,
   "id": "d8868f8e-e963-4be7-a5c5-44bc2d4b606f",
   "metadata": {},
   "outputs": [],
   "source": [
    "# Reading the excel file containing the grades obtained by each arrondissement in varied fields\n",
    "# We only focus on the category 'Commerces'\n",
    "Notes_arr = pd.read_excel('Notes_arrondissements.xlsx', decimal = \",\")\n",
    "notes = pd.Series(Notes_arr['Commerces'])\n",
    "notes = pd.Series.tolist(notes)\n",
    "\n",
    "Commerces = pd.read_csv('data/Commerces.csv')"
   ]
  },
  {
   "cell_type": "markdown",
   "id": "a9295752-b68c-4ba9-b8d0-df9bdf810b81",
   "metadata": {},
   "source": [
    "#### 1) Régression en prenant comme variable le nombre de commerces"
   ]
  },
  {
   "cell_type": "code",
   "execution_count": 22,
   "id": "f8fa6081-2227-4d7a-9d86-6374f6392042",
   "metadata": {},
   "outputs": [
    {
     "data": {
      "image/png": "[encoded data removed]",
      "text/plain": [
       "<Figure size 640x480 with 1 Axes>"
      ]
     },
     "metadata": {},
     "output_type": "display_data"
    }
   ],
   "source": [
    "# Trying to make a regression with only B2\n",
    "listB2 = pd.DataFrame(dicB2.values())\n",
    "reg = LinearRegression().fit(listB2, notes)\n",
    "y_pred = reg.predict(listB2)\n",
    "\n",
    "plt.scatter(listB2, notes, color=\"black\")\n",
    "plt.plot(listB2, y_pred, color=\"blue\", linewidth=3)\n",
    "plt.xlabel('Nombre de commerces alimentaires')\n",
    "plt.ylabel('Note donnée par les habitants')\n",
    "plt.title('Une régression avec B2')\n",
    "plt.show()\n",
    "\n",
    "# Not very satisfactory since y_pred is surprisingly decreasing"
   ]
  },
  {
   "cell_type": "code",
   "execution_count": 40,
   "id": "3360076f-3ce6-4dec-94e3-ec1c7e537168",
   "metadata": {},
   "outputs": [],
   "source": [
    "# The same but by splitting the dataframe\n",
    "# Split the data into training/testing sets\n",
    "X_trainB2, X_testB2, y_trainB2, y_testB2 = sklearn.model_selection.train_test_split(listB2, notes, test_size = 0.5)"
   ]
  },
  {
   "cell_type": "code",
   "execution_count": 41,
   "id": "b003dd5c-a972-45f9-acdd-89bdc091d142",
   "metadata": {},
   "outputs": [],
   "source": [
    "# Making a regression using the arrondissements in train\n",
    "regB2 = LinearRegression().fit(X_trainB2, y_trainB2)\n",
    "\n",
    "# Make predictions using the testing set\n",
    "y_predB2 = regB2.predict(X_testB2)"
   ]
  },
  {
   "cell_type": "code",
   "execution_count": 42,
   "id": "62aec990-ac3d-415c-b0ed-a17e82dee49c",
   "metadata": {},
   "outputs": [
    {
     "data": {
      "text/plain": [
       "array([-0.00207359])"
      ]
     },
     "execution_count": 42,
     "metadata": {},
     "output_type": "execute_result"
    }
   ],
   "source": [
    "# The coefficients\n",
    "regB2.coef_"
   ]
  },
  {
   "cell_type": "code",
   "execution_count": 43,
   "id": "653490c8-4566-4b1a-9440-eb32a5a825a8",
   "metadata": {},
   "outputs": [
    {
     "data": {
      "text/plain": [
       "{'copy_X': True, 'fit_intercept': True, 'n_jobs': None, 'positive': False}"
      ]
     },
     "execution_count": 43,
     "metadata": {},
     "output_type": "execute_result"
    }
   ],
   "source": [
    "regB2.get_params()"
   ]
  },
  {
   "cell_type": "code",
   "execution_count": 44,
   "id": "a6fd9ae8-c620-4303-82c9-ded81fb44849",
   "metadata": {},
   "outputs": [
    {
     "data": {
      "text/plain": [
       "0.03884393372656747"
      ]
     },
     "execution_count": 44,
     "metadata": {},
     "output_type": "execute_result"
    }
   ],
   "source": [
    "regB2.score(X_testB2, y_testB2)"
   ]
  },
  {
   "cell_type": "code",
   "execution_count": 46,
   "id": "4bf22385-270e-4d88-a938-be19d2617010",
   "metadata": {},
   "outputs": [
    {
     "data": {
      "image/png": "[encoded data removed]",
      "text/plain": [
       "<Figure size 640x480 with 1 Axes>"
      ]
     },
     "metadata": {},
     "output_type": "display_data"
    }
   ],
   "source": [
    "plt.scatter(listB2, notes, color=\"black\")\n",
    "plt.plot(X_trainB2, y_predB2, color=\"blue\", linewidth=3)\n",
    "plt.xlabel('Nombre de commerces alimentaires')\n",
    "plt.ylabel('Note donnée par les habitants')\n",
    "plt.title('Une régression avec B2 avec train et test')\n",
    "plt.show()\n",
    "\n",
    "# Still not very satisfactory"
   ]
  },
  {
   "cell_type": "markdown",
   "id": "bdf033e1-b009-47a8-83e3-4da31ed1c37d",
   "metadata": {},
   "source": [
    "On utilise les informations plus précises sur les différents types de commerces."
   ]
  },
  {
   "cell_type": "code",
   "execution_count": 30,
   "id": "85d21c8b-c845-4a92-8ae6-2971d8946dc9",
   "metadata": {},
   "outputs": [],
   "source": [
    "# Split the data into training/testing sets\n",
    "Commerces2 = Commerces.transpose()\n",
    "X_train, X_test, y_train, y_test = sklearn.model_selection.train_test_split(Commerces2, notes, test_size = 0.5)"
   ]
  },
  {
   "cell_type": "code",
   "execution_count": 35,
   "id": "296ca6af-479a-4f26-8894-7769405d3578",
   "metadata": {},
   "outputs": [],
   "source": [
    "# Making a regression using the arrondissements in train\n",
    "reg = LinearRegression().fit(X_train, y_train)\n",
    "\n",
    "# Make predictions using the testing set\n",
    "y_pred = reg.predict(X_test)"
   ]
  },
  {
   "cell_type": "code",
   "execution_count": 36,
   "id": "19abf200-9c9c-4d1a-81f2-d8910a7f8e58",
   "metadata": {},
   "outputs": [
    {
     "data": {
      "text/plain": [
       "array([ 0.00231229, -0.007791  ,  0.00454562, -0.00910527,  0.00742093,\n",
       "        0.00906845, -0.02403478,  0.00412365, -0.01019482,  0.00996082,\n",
       "        0.00247953, -0.02763859,  0.00025882,  0.02642039, -0.01765573,\n",
       "        0.01534368,  0.00334558,  0.00392962, -0.02731844,  0.02681186,\n",
       "       -0.01406701,  0.0112068 ,  0.        , -0.00030321, -0.00207437])"
      ]
     },
     "execution_count": 36,
     "metadata": {},
     "output_type": "execute_result"
    }
   ],
   "source": [
    "# The coefficients\n",
    "reg.coef_"
   ]
  },
  {
   "cell_type": "code",
   "execution_count": 37,
   "id": "ec95a800-3626-4067-a9f1-56a05f6bda64",
   "metadata": {},
   "outputs": [
    {
     "data": {
      "text/plain": [
       "{'copy_X': True, 'fit_intercept': True, 'n_jobs': None, 'positive': False}"
      ]
     },
     "execution_count": 37,
     "metadata": {},
     "output_type": "execute_result"
    }
   ],
   "source": [
    "reg.get_params()"
   ]
  },
  {
   "cell_type": "code",
   "execution_count": 38,
   "id": "81b77421-bde6-4d13-955c-643cb51528d9",
   "metadata": {},
   "outputs": [
    {
     "data": {
      "text/plain": [
       "-0.569779652937501"
      ]
     },
     "execution_count": 38,
     "metadata": {},
     "output_type": "execute_result"
    }
   ],
   "source": [
    "# The R^2\n",
    "reg.score(X_test, y_test)"
   ]
  },
  {
   "cell_type": "markdown",
   "id": "590fbbd5-3c21-4c32-b8a0-c2802c762204",
   "metadata": {},
   "source": [
    "#### 2) Régression en prenant comme variable la densité des commerces"
   ]
  },
  {
   "cell_type": "markdown",
   "id": "3b28e548-f0e7-4be8-9da3-6b326917d94c",
   "metadata": {},
   "source": [
    "Tentons de prendre en compte la densité des équipements plutôt que leur nombre."
   ]
  },
  {
   "cell_type": "code",
   "execution_count": null,
   "id": "5a94d59e-9a88-4505-b87a-9df4b91a52d4",
   "metadata": {},
   "outputs": [],
   "source": [
    "# Création d'une base de donnée associant pour chaque arrondissement sa superficie.\n",
    "\n",
    "# Import des données géographiques des arrondissements parisiens depuis la librairie cartiflette\n",
    "\n",
    "import cartiflette.s3 as s3\n",
    "\n",
    "Arrondissements = s3.download_vectorfile_url_all(\n",
    "    crs = 4326,\n",
    "    values = [\"75\"],\n",
    "    borders=\"COMMUNE_ARRONDISSEMENT\",\n",
    "    vectorfile_format=\"topojson\",\n",
    "    filter_by=\"DEPARTEMENT\",\n",
    "    source=\"EXPRESS-COG-CARTO-TERRITOIRE\",\n",
    "    year=2022)\n",
    "\n",
    "# Stockage des superficies dans la series superficies\n",
    "\n",
    "Arrondissements = Arrondissements.sort_values('INSEE_COG').reset_index()\n",
    "superficies = Arrondissements.area\n",
    "superficies"
   ]
  },
  {
   "cell_type": "code",
   "execution_count": null,
   "id": "146e0100-1b9c-4093-bb04-e4c35d66d59c",
   "metadata": {},
   "outputs": [],
   "source": [
    "NbLieux.to_frame().sort_values('CODE_POSTAL').reset_index()"
   ]
  },
  {
   "cell_type": "code",
   "execution_count": null,
   "id": "fa6fb369-4f9f-4e01-89ab-a7365b487477",
   "metadata": {},
   "outputs": [],
   "source": [
    "\"\"\" Copié sur Guilhem: à adapter !!!\n",
    "\n",
    "\n",
    "# Ajout des données de superficie au dataframe contenant le nombre de lieux culturels par arrondissement.\n",
    "\n",
    "NbLieux = NbLieux.to_frame().sort_values('CODE_POSTAL').reset_index()\n",
    "NbLieux['superficie'] = superficies.values\n",
    "NbLieux = NbLieux.rename(columns={'count':'nb_lieux'})\n",
    "\n",
    "\n",
    "\"\"\""
   ]
  },
  {
   "cell_type": "code",
   "execution_count": null,
   "id": "2f683193-ac3a-4793-820e-c872c7c9d812",
   "metadata": {},
   "outputs": [],
   "source": [
    "\"\"\"\n",
    "# Création d'une colonne contenant les densités des lieux culturels \n",
    "NbLieux.nb_lieux = NbLieux.nb_lieux.astype('float64')\n",
    "NbLieux['densite_culture'] = NbLieux.nb_lieux / NbLieux.superficie\n",
    "\"\"\""
   ]
  },
  {
   "cell_type": "code",
   "execution_count": null,
   "id": "a7248092-8af1-4f5e-8a42-19803d11ccc6",
   "metadata": {},
   "outputs": [],
   "source": [
    "\"\"\"\n",
    "\n",
    "display(NbLieux.sort_values('densite_culture', ascending=False))\n",
    "\n",
    "\"\"\""
   ]
  },
  {
   "cell_type": "code",
   "execution_count": null,
   "id": "0987fd1b-b0b7-4ce5-8bb4-149f29b9ea3f",
   "metadata": {},
   "outputs": [],
   "source": [
    "from cartiflette.s3 import download_vectorfile_url_all\n",
    "\n",
    "'''Let's download the geographical data of Paris to create its map'''\n",
    "Paris_borders = download_vectorfile_url_all(crs = 4326,values = [\"75\"],borders=\"COMMUNE_ARRONDISSEMENT\",vectorfile_format=\"topojson\",filter_by=\"DEPARTEMENT\",source=\"EXPRESS-COG-CARTO-TERRITOIRE\",year=2022)"
   ]
  },
  {
   "cell_type": "markdown",
   "id": "82799459-c777-4113-9457-74e1e9beabba",
   "metadata": {},
   "source": [
    "## IV- Étude de l'enseignement"
   ]
  },
  {
   "cell_type": "markdown",
   "id": "d7ceb34f-a929-4a48-9939-141b04c0c1d4",
   "metadata": {},
   "source": [
    "Nous nous intéressons ici à la catégorie C dans le fichier bpeParis.csv"
   ]
  },
  {
   "cell_type": "code",
   "execution_count": 47,
   "id": "ff2da259-d31e-4e24-ba61-58ac88359adc",
   "metadata": {},
   "outputs": [],
   "source": [
    "# Number of \"Lycées\" (C3) by arrondissement\n",
    "\n",
    "# Concerning the 1st arrondissement of Paris\n",
    "n1 = 0 # Number initialized\n",
    "for iris in dicIRIS['Paris 1er Arrondissement']:\n",
    "    col = BPE[(BPE['DCIRIS'] == iris) & (BPE['SDOM'] == 'C3')]\n",
    "    n1 += len(col) # number of lines\n",
    "\n",
    "# Concerning the rest of the arrondissements\n",
    "dicC3 = {'1er Arrondissement': n1}\n",
    "n = 0\n",
    "for i in range(2,21):\n",
    "    key_arr = 'Paris ' + str(i) + 'e Arrondissement'\n",
    "    for iris in dicIRIS[key_arr]:\n",
    "        col = BPE[(BPE['DCIRIS'] == iris) & (BPE['SDOM'] == 'C3')]\n",
    "        n += len(col)\n",
    "    dicC3[str(i) + 'e Arrondissement'] = n\n",
    "    n = 0\n",
    "\n",
    "# We obtain a dictionary with the name of the arrondissement as a key \n",
    "# and the number of \"Lycées\" as a value"
   ]
  },
  {
   "cell_type": "code",
   "execution_count": 48,
   "id": "30e11e3d-f87c-4a18-be0d-4547005b04d6",
   "metadata": {},
   "outputs": [
    {
     "data": {
      "image/png": "[encoded data removed]",
      "text/plain": [
       "<Figure size 640x480 with 1 Axes>"
      ]
     },
     "metadata": {},
     "output_type": "display_data"
    }
   ],
   "source": [
    "# Trying to make a regression with only C3\n",
    "listC3 = pd.DataFrame(dicC3.values())\n",
    "reg = LinearRegression().fit(listC3, notes)\n",
    "y_pred = reg.predict(listC3)\n",
    "\n",
    "plt.scatter(listC3, notes, color=\"black\")\n",
    "plt.plot(listC3, y_pred, color=\"blue\", linewidth=3)\n",
    "plt.xlabel('Nombre de lycées')\n",
    "plt.ylabel('Note donnée par les habitants')\n",
    "plt.title('Une régression avec C3')\n",
    "plt.show()"
   ]
  },
  {
   "cell_type": "code",
   "execution_count": null,
   "id": "d1fc02ac-c908-4aed-a008-c8ce48948404",
   "metadata": {},
   "outputs": [],
   "source": [
    "# More precisely, we want to have the number of each type of equipments whose field is B, i.e. \"commerces\", for each arrondissement\n",
    "# To obtain this, we will create a csv file\n",
    "\n",
    "# Concerning the 1st arrondissement of Paris\n",
    "n1 = 0 # Number initialized\n",
    "listType = ['C101', 'C102', 'C104', 'C105', 'C201', 'C301', 'C302', 'C303', 'C304', 'C305', 'C401', 'B307', 'B308', 'B309', 'B310', 'B311', 'B312', 'B313', 'B314', 'B315', 'B316']\n",
    "##### Please find a list somewhere\n",
    "list1 = []\n",
    "for type in listType:\n",
    "    for iris in dicIRIS['Paris 1er Arrondissement']:\n",
    "        col = BPE[(BPE['DCIRIS'] == iris) & (BPE['TYPEQU'] == type)]\n",
    "        n1 += len(col) # number of lines\n",
    "    list1.append(n1)\n",
    "    n1 = 0\n",
    "\n",
    "# Concerning the rest of the arrondissements\n",
    "dicB = {'1er Arrondissement': list1}\n",
    "n = 0\n",
    "for arr in range(2,21):\n",
    "    key_arr = 'Paris ' + str(arr) + 'e Arrondissement'\n",
    "    listBType = []\n",
    "    for type in listType:\n",
    "        for iris in dicIRIS[key_arr]:\n",
    "            col = BPE[(BPE['DCIRIS'] == iris) & (BPE['TYPEQU'] == type)]\n",
    "            n += len(col)\n",
    "        listBType.append(n)\n",
    "        n = 0\n",
    "    dicB[str(arr) + 'e Arrondissement'] = listBType\n",
    "\n",
    "Commerces_precis = pd.DataFrame(dicB)\n",
    "Commerces_precis.set_axis(listType, axis = 0)\n",
    "Commerces_precis.to_csv(path_or_buf = 'data/Commerces.csv', index = False)\n",
    "\n",
    "# Each row is one type of equipment"
   ]
  },
  {
   "cell_type": "markdown",
   "id": "4a5de4fc-3cc2-45fd-936a-64599e02069a",
   "metadata": {},
   "source": [
    "## V- Étude de la santé"
   ]
  },
  {
   "cell_type": "markdown",
   "id": "a6bceab6-3ad9-4cf9-9035-cbc50419c9b2",
   "metadata": {},
   "source": [
    "Nous nous intéressons ici à la catégorie D dans le fichier bpeParis.csv"
   ]
  },
  {
   "cell_type": "code",
   "execution_count": null,
   "id": "845f139e-cb67-41e6-a583-4776e926b056",
   "metadata": {},
   "outputs": [],
   "source": []
  },
  {
   "cell_type": "markdown",
   "id": "f4186553-7ab2-4e74-850e-db277ffd05b0",
   "metadata": {},
   "source": [
    "## VI- Étude des transports"
   ]
  },
  {
   "cell_type": "markdown",
   "id": "08e0db12-ab1a-4708-9229-5884e57949b5",
   "metadata": {},
   "source": [
    "Nous nous intéressons ici à la catégorie E dans le fichier bpeParis.csv"
   ]
  },
  {
   "cell_type": "code",
   "execution_count": null,
   "id": "b8d4a539-11c4-4e36-8123-4666c158895c",
   "metadata": {},
   "outputs": [],
   "source": []
  }
 ],
 "metadata": {
  "kernelspec": {
   "display_name": "Python 3 (ipykernel)",
   "language": "python",
   "name": "python3"
  },
  "language_info": {
   "codemirror_mode": {
    "name": "ipython",
    "version": 3
   },
   "file_extension": ".py",
   "mimetype": "text/x-python",
   "name": "python",
   "nbconvert_exporter": "python",
   "pygments_lexer": "ipython3",
   "version": "3.10.13"
  }
 },
 "nbformat": 4,
 "nbformat_minor": 5
}
