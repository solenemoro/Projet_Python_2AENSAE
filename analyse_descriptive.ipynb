{
 "cells": [
  {
   "cell_type": "markdown",
   "metadata": {},
   "source": [
    "**L'objectif ici est de comparer les notes données à la culture et la présence ou non de lieux culturels par arrondissement.**"
   ]
  },
  {
   "cell_type": "code",
   "execution_count": null,
   "metadata": {},
   "outputs": [],
   "source": [
    "pip install openpyxl\n",
    "import pandas as pd\n",
    "import numpy as np\n",
    "import matplotlib.pyplot as plt"
   ]
  },
  {
   "cell_type": "markdown",
   "metadata": {},
   "source": [
    "Commençons par s'intéresser aux notes \"culture\" de chaque arrondissement :"
   ]
  },
  {
   "cell_type": "code",
   "execution_count": null,
   "metadata": {},
   "outputs": [],
   "source": [
    "# Création d'un dataframe contenant les notations pour la culture de chaque arrondissement\n",
    "Notes = pd.read_excel('/home/onyxia/Projet_Python_2AENSAE/Notes_arrondissements.xlsx', decimal=',', index_col=0)\n",
    "NotesCulture = Notes['Culture']\n",
    "NotesCulture"
   ]
  },
  {
   "cell_type": "code",
   "execution_count": 53,
   "metadata": {},
   "outputs": [
    {
     "name": "stdout",
     "output_type": "stream",
     "text": [
      "Les 4 arrondissements ayant les meilleures notes pour leur culture sont :\n",
      "Paris 3e     9.33\n",
      "Paris 1er    8.58\n",
      "Paris 9e     8.50\n",
      "Paris 5e     8.50\n",
      "Name: Culture, dtype: float64\n",
      "Les 4 arrondissements ayant les pires notes pour leur culture sont :\n",
      "Paris 18e    5.89\n",
      "Paris 10e    6.18\n",
      "Paris 14e    6.54\n",
      "Paris 20e    6.59\n",
      "Name: Culture, dtype: float64\n"
     ]
    }
   ],
   "source": [
    "# Affichage des 4 meilleurs et des 4 pires arrondissement pour leur culture, d'après les notes des habitants\n",
    "print('Les 4 arrondissements ayant les meilleures notes pour leur culture sont :')\n",
    "print(NotesCulture.sort_values(ascending=False)[:4])\n",
    "\n",
    "print('Les 4 arrondissements ayant les pires notes pour leur culture sont :')\n",
    "print(NotesCulture.sort_values()[:4])"
   ]
  },
  {
   "cell_type": "markdown",
   "metadata": {},
   "source": [
    "En ce qui concerne les lieux culturels, les Parisiens semblent donc avoir une préférence pour les arrondissements 3, 1, 9 et 5.\n",
    "Le troisième arrondissement est largement en tête avec une note de 9.33.\n",
    "Le premier, neuvième et cinquième arrondissement forment un deuxieme groupe en tête avec une note autour de 8.5.\n",
    "\n",
    "Les arrondissements 18, 10, 14 et 20 obtiennent eux les pires notes : leurs notes sont réparties entre 5.89 pour le 18ème et 6.59.\n",
    "\n",
    "Voyons quelques statistiques sur les notes données pour la culture :"
   ]
  },
  {
   "cell_type": "code",
   "execution_count": null,
   "metadata": {},
   "outputs": [],
   "source": [
    "NotesCulture.describe()"
   ]
  },
  {
   "cell_type": "markdown",
   "metadata": {},
   "source": [
    "Ces premières statistiques descriptives nous apprennent que le top 4 des arrondissement se situent au dessus de 75% des notes.\n",
    "La note moyenne obtenue pour la culture est de 7.32, ce qui est haut. L'écart-type est de 0.93 ce qui est assez bas. Les notes sont\n",
    "plutôt concentrées autour de 7. \n",
    "\n",
    "Si on compare donc les pires et meilleures notes, c'est surtout le 3ème arrondissement qui se démarque avec son 9.33. La pire note, 5.89, n'est pas autant éloignée du groupe que cela."
   ]
  },
  {
   "cell_type": "markdown",
   "metadata": {},
   "source": [
    "Maintenant, nous allons importer la base de données recensant tous les lieux culturels parisiens. Nous pourrons alors voir s'il y a une corrélation entre le nombre de lieux culturels et la satisfaction des habitants parisiens."
   ]
  },
  {
   "cell_type": "code",
   "execution_count": null,
   "metadata": {},
   "outputs": [],
   "source": [
    "# Import de la base de données de data.gouv.fr\n",
    "LieuxCulturels = pd.read_csv('/home/onyxia/Projet_Python_2AENSAE/lieux_culturels.csv')\n",
    "display(LieuxCulturels)"
   ]
  },
  {
   "cell_type": "code",
   "execution_count": null,
   "metadata": {},
   "outputs": [],
   "source": [
    "# Suppression des '.0' dans la liste des codes postaux par soucis d'esthétisme :\n",
    "LieuxCulturels.CODE_POSTAL = LieuxCulturels.CODE_POSTAL.astype(str)\n",
    "LieuxCulturels.CODE_POSTAL = LieuxCulturels.CODE_POSTAL.str.replace('.0','')"
   ]
  },
  {
   "cell_type": "code",
   "execution_count": 50,
   "metadata": {},
   "outputs": [],
   "source": [
    "# Suppression des lignes n'étant pas associées à un arrondissement :\n",
    "LieuxCulturels.drop(LieuxCulturels[LieuxCulturels.CODE_POSTAL == 'nan'].index, inplace=True)"
   ]
  },
  {
   "cell_type": "code",
   "execution_count": 51,
   "metadata": {},
   "outputs": [],
   "source": [
    "# Transformation de la base pour qu'elle recense uniquement le nombre de lieux culturels par arrondissement.\n",
    "NbLieux = LieuxCulturels.CODE_POSTAL.value_counts()"
   ]
  },
  {
   "cell_type": "code",
   "execution_count": 52,
   "metadata": {},
   "outputs": [
    {
     "name": "stdout",
     "output_type": "stream",
     "text": [
      "Les 4 arrondissements ayant le plus de lieux culturels sont :\n",
      "CODE_POSTAL\n",
      "75011    90\n",
      "75019    72\n",
      "75018    71\n",
      "75006    69\n",
      "Name: count, dtype: int64\n",
      "Les 4 arrondissements ayant le moins de lieux culturels sont :\n",
      "CODE_POSTAL\n",
      "75002    21\n",
      "75007    29\n",
      "75001    31\n",
      "75003    47\n",
      "Name: count, dtype: int64\n"
     ]
    }
   ],
   "source": [
    "# Affichage des 4 arrondissement ayant le plus (et le moins) de lieux culturels\n",
    "print('Les 4 arrondissements ayant le plus de lieux culturels sont :')\n",
    "print(NbLieux.sort_values(ascending=False)[:4])\n",
    "\n",
    "print('Les 4 arrondissements ayant le moins de lieux culturels sont :')\n",
    "print(NbLieux.sort_values()[:4])"
   ]
  },
  {
   "cell_type": "markdown",
   "metadata": {},
   "source": [
    "Aucun des 4 arrondissements ayant les meilleures note pour leur culture ne se trouvent dans la liste des 4 arrondissements ayant le plus de lieux culturels. Il semble donc venir de cette analyse que la qualité prime sur la quantité de lieux culturels pour la satisfaction des habitants.\n",
    "\n",
    "Les 4 arrondissements ayant les pires notes ne sont absolument pas ceux ayant le moins d'institutions culturelles non plus. La conclusion semble alors se confirmer. Cela va même encore plus loin : le 3ème arrondissement, qui est de loin le préféré des Parisiens sur le critère de la culture, est le 4ème arrondissement ayant le moins de lieux culturels !\n"
   ]
  }
 ],
 "metadata": {
  "kernelspec": {
   "display_name": "base",
   "language": "python",
   "name": "python3"
  },
  "language_info": {
   "codemirror_mode": {
    "name": "ipython",
    "version": 3
   },
   "file_extension": ".py",
   "mimetype": "text/x-python",
   "name": "python",
   "nbconvert_exporter": "python",
   "pygments_lexer": "ipython3",
   "version": "3.10.13"
  }
 },
 "nbformat": 4,
 "nbformat_minor": 2
}
